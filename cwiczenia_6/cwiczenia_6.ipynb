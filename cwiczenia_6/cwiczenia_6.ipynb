{
 "cells": [
  {
   "cell_type": "markdown",
   "id": "fb2554fc-6888-4735-bec2-c35f30345d70",
   "metadata": {},
   "source": [
    "# Operacje na plikach:"
   ]
  },
  {
   "cell_type": "markdown",
   "id": "ca46ea79-fdb2-4649-882d-5ca9657207b0",
   "metadata": {},
   "source": [
    "*data.txt*\n",
    "\n",
    "```\n",
    "kot\n",
    "pies\n",
    "kanarek\n",
    "rybki\n",
    "```"
   ]
  },
  {
   "cell_type": "markdown",
   "id": "a5b34fe2-598f-42e1-a509-42295ef27a81",
   "metadata": {},
   "source": [
    "#### Otwieranie pliku:"
   ]
  },
  {
   "cell_type": "code",
   "execution_count": 1,
   "id": "a328e93e-e6f4-4bcd-8223-f5c12d3b93a6",
   "metadata": {},
   "outputs": [
    {
     "name": "stdout",
     "output_type": "stream",
     "text": [
      "<_io.TextIOWrapper name='data.txt' mode='r' encoding='cp1250'>\n",
      "<class '_io.TextIOWrapper'>\n"
     ]
    }
   ],
   "source": [
    "# Otwieranie pliku \"data.txt\" w trybie tekstowym do czytania: \"r\"\n",
    "data = open(\"data.txt\", \"r\")\n",
    "\n",
    "print(data)\n",
    "print(type(data))"
   ]
  },
  {
   "cell_type": "markdown",
   "id": "bdc51d3a-2ec6-438b-b053-b6f91c6b58f8",
   "metadata": {},
   "source": [
    "#### Czytanie całej zawartości pliku:"
   ]
  },
  {
   "cell_type": "code",
   "execution_count": 2,
   "id": "9b2d8ee3-8fc6-44cc-bc47-a8383cdc9ab0",
   "metadata": {},
   "outputs": [
    {
     "name": "stdout",
     "output_type": "stream",
     "text": [
      "kot\n",
      "pies\n",
      "kanarek\n",
      "rybki\n",
      "\n",
      "<class 'str'>\n"
     ]
    }
   ],
   "source": [
    "data = open(\"data.txt\", \"r\")\n",
    "\n",
    "# Czytanie całej zawartości pliku do postaci napisu:\n",
    "content = data.read()\n",
    "\n",
    "print(content)\n",
    "print(type(content))"
   ]
  },
  {
   "cell_type": "markdown",
   "id": "07e59435-0ec3-49f1-8e43-05e3a7088b53",
   "metadata": {},
   "source": [
    "#### Zamykanie pliku:"
   ]
  },
  {
   "cell_type": "code",
   "execution_count": 3,
   "id": "3ca31b0f-15ee-4a77-850e-44c67ac5963e",
   "metadata": {},
   "outputs": [
    {
     "name": "stdout",
     "output_type": "stream",
     "text": [
      "kot\n",
      "pies\n",
      "kanarek\n",
      "rybki\n",
      "\n"
     ]
    }
   ],
   "source": [
    "data = open(\"data.txt\", \"r\")\n",
    "content = data.read()\n",
    "\n",
    "# Pliki należy zamykać (ilość uchwytów do plików które może stworzyć system operacyjny jest ograniczona \n",
    "# - należy je oszczędzać [w Linuxie można domyślnie otworzyć do 1024 plików na raz]):\n",
    "data.close()\n",
    "\n",
    "print(content)"
   ]
  },
  {
   "cell_type": "markdown",
   "id": "331f9ae0-b79d-437c-9294-3bf046856f17",
   "metadata": {},
   "source": [
    "#### Czytanie pliku linijka po linijce:"
   ]
  },
  {
   "cell_type": "code",
   "execution_count": 4,
   "id": "6c4e905a-25de-44a2-bc77-39f7a5ab0cd7",
   "metadata": {},
   "outputs": [
    {
     "name": "stdout",
     "output_type": "stream",
     "text": [
      "kot\n",
      "\n",
      "<class 'str'>\n",
      "pies\n",
      "\n",
      "<class 'str'>\n",
      "kanarek\n",
      "\n",
      "<class 'str'>\n",
      "rybki\n",
      "\n",
      "<class 'str'>\n"
     ]
    }
   ],
   "source": [
    "data = open(\"data.txt\", \"r\")\n",
    "\n",
    "# Po plikach można iterować linijka po linijce:\n",
    "for line in data:\n",
    "    print(line)\n",
    "    print(type(line))\n",
    "\n",
    "# Należy pamiętać o zamknięciu pliku:\n",
    "data.close()"
   ]
  },
  {
   "cell_type": "markdown",
   "id": "a729107b-dde0-449a-ad2f-369a002641cb",
   "metadata": {},
   "source": [
    "#### Wczytywanie bardziej złożonych danych danych:"
   ]
  },
  {
   "cell_type": "markdown",
   "id": "c7128dce-d4e9-4602-bc49-e223374bb499",
   "metadata": {},
   "source": [
    "*points.txt*\n",
    "\n",
    "```\n",
    "5.43 7.43 1.98\n",
    "7.21    7.53 5.12\n",
    "1.23   4.32         7.65\n",
    "```"
   ]
  },
  {
   "cell_type": "code",
   "execution_count": 5,
   "id": "81a943f0-6792-48b7-a142-14682ad7c652",
   "metadata": {},
   "outputs": [
    {
     "name": "stdout",
     "output_type": "stream",
     "text": [
      "[(5.43, 7.43, 1.98), (7.21, 7.53, 5.12), (1.23, 4.32, 7.65)]\n"
     ]
    }
   ],
   "source": [
    "data = open(\"points.txt\", \"r\")\n",
    "\n",
    "vectors = []\n",
    "\n",
    "for line in data:\n",
    "    # Dzielenie wczytanej linijki na pola przy użyciu metody split:\n",
    "    fields = line.split()\n",
    "    x = float(fields[0])\n",
    "    y = float(fields[1])\n",
    "    z = float(fields[2])\n",
    "\n",
    "    vectors.append((x, y, z))\n",
    "\n",
    "data.close()\n",
    "\n",
    "print(vectors)"
   ]
  },
  {
   "cell_type": "markdown",
   "id": "5bc2f29f-8a01-4cc4-8e15-af37b5b3fc34",
   "metadata": {},
   "source": [
    "#### Pisanie do pliku:"
   ]
  },
  {
   "cell_type": "code",
   "execution_count": 6,
   "id": "acf4fda6-172d-402f-bfce-ccdeffa75584",
   "metadata": {},
   "outputs": [],
   "source": [
    "# Otwarcie (lub utworzenie) pliku do pisania (\"w\" - tryb pisania):\n",
    "data_output = open(\"hello.txt\", \"w\")\n",
    "\n",
    "# Wpisanie wyrazu do pliku przy użyciu metody write:\n",
    "data_output.write(\"Witaj Świecie!\\n\")\n",
    "\n",
    "data_output.close()"
   ]
  },
  {
   "cell_type": "markdown",
   "id": "9c2f1588-0658-4cd7-bb51-24da9424f928",
   "metadata": {},
   "source": [
    "*hello.txt*\n",
    "\n",
    "```\n",
    "Witaj Świecie!\n",
    "```"
   ]
  },
  {
   "cell_type": "markdown",
   "id": "29b6295b-ef87-488f-800d-9251915e433f",
   "metadata": {},
   "source": [
    "#### Jednoczesne pisanie i czytanie:"
   ]
  },
  {
   "cell_type": "code",
   "execution_count": 7,
   "id": "44bc25ca-5f99-429a-a3ef-e004af537561",
   "metadata": {},
   "outputs": [
    {
     "name": "stdout",
     "output_type": "stream",
     "text": [
      "\n"
     ]
    }
   ],
   "source": [
    "# \"w+\" oznacza, że do pliku można jednocześnie pisać i z niego czytać:\n",
    "data = open(\"hello_2.txt\", \"w+\")\n",
    "\n",
    "data.write(\"Witaj Świecie!\")\n",
    "content = data.read()\n",
    "\n",
    "# Nic się nie wypisało:\n",
    "print(content)\n",
    "\n",
    "data.close()"
   ]
  },
  {
   "cell_type": "markdown",
   "id": "54bfa34f-c5a1-40a3-8c17-4ec7962b02ca",
   "metadata": {},
   "source": [
    "*hello_2.txt*\n",
    "\n",
    "```\n",
    "Witaj Świecie!\n",
    "```"
   ]
  },
  {
   "cell_type": "code",
   "execution_count": 8,
   "id": "5aa5ee53-9978-4680-9ca6-9b28f86aafe1",
   "metadata": {},
   "outputs": [
    {
     "name": "stdout",
     "output_type": "stream",
     "text": [
      "Witaj Świecie!\n"
     ]
    }
   ],
   "source": [
    "# \"w+\" oznacza, że do pliku można jednocześnie pisać i z niego czytać:\n",
    "data = open(\"hello_2.txt\", \"w+\")\n",
    "\n",
    "data.write(\"Witaj Świecie!\")\n",
    "\n",
    "# Przesunięcie wskaźnika na początek pliku:\n",
    "data.seek(0)\n",
    "\n",
    "content = data.read()\n",
    "\n",
    "# Teraz się wypisze:\n",
    "print(content)\n",
    "\n",
    "data.close()"
   ]
  },
  {
   "cell_type": "markdown",
   "id": "6eb6770b-4ded-4898-a334-73d5e5288e4e",
   "metadata": {},
   "source": [
    "#### Metoda **seek**:"
   ]
  },
  {
   "cell_type": "markdown",
   "id": "1b7b9466-0550-40bc-9522-dfe03f106dd3",
   "metadata": {},
   "source": [
    "Metoda **seek** służy do przesuwania wskaźnika wewnątrz pliku (wskaźnik wyznacza miejsce wewnątrz pliku z którego będzie odbywało się czytanie). **Seek** może przyjmować dwa parametry z czego drugi jest opcjonalny.\n",
    "\n",
    "- **Pierwszy parametr:** wyznacza przesunięcie,\n",
    "- **Drugi parametr:** określa względem czego przesunięcie jest wyznaczane [**0** - pozycjonowanie absolutne względem początku pliku, **1** - pozycjonowanie względem aktualnej pozycji, **2** - pozycjonowanie względem końca pliku]"
   ]
  },
  {
   "cell_type": "code",
   "execution_count": 9,
   "id": "052126b7-86eb-4513-adee-6b93956d36e6",
   "metadata": {},
   "outputs": [
    {
     "name": "stdout",
     "output_type": "stream",
     "text": [
      "Świecie!\n"
     ]
    }
   ],
   "source": [
    "# \"w+\" oznacza, że do pliku można jednocześnie pisać i z niego czytać:\n",
    "data = open(\"hello_2.txt\", \"w+\")\n",
    "\n",
    "data.write(\"Witaj Świecie!\")\n",
    "\n",
    "# Przesunięcie wskaźnika na 6 pozycję od początku pliku:\n",
    "data.seek(6, 0)\n",
    "\n",
    "content = data.read()\n",
    "\n",
    "print(content)\n",
    "\n",
    "data.close()"
   ]
  },
  {
   "cell_type": "markdown",
   "id": "9b8174e8-1c3b-43be-b199-fde1ad716f01",
   "metadata": {},
   "source": [
    "#### Funckja wbudowana **open** szczegóły:"
   ]
  },
  {
   "cell_type": "code",
   "execution_count": 10,
   "id": "4dbaf834-08f3-4319-a900-c2d81053bd69",
   "metadata": {},
   "outputs": [
    {
     "name": "stdout",
     "output_type": "stream",
     "text": [
      "Help on function open in module _io:\n",
      "\n",
      "open(file, mode='r', buffering=-1, encoding=None, errors=None, newline=None, closefd=True, opener=None)\n",
      "    Open file and return a stream.  Raise OSError upon failure.\n",
      "\n",
      "    file is either a text or byte string giving the name (and the path\n",
      "    if the file isn't in the current working directory) of the file to\n",
      "    be opened or an integer file descriptor of the file to be\n",
      "    wrapped. (If a file descriptor is given, it is closed when the\n",
      "    returned I/O object is closed, unless closefd is set to False.)\n",
      "\n",
      "    mode is an optional string that specifies the mode in which the file\n",
      "    is opened. It defaults to 'r' which means open for reading in text\n",
      "    mode.  Other common values are 'w' for writing (truncating the file if\n",
      "    it already exists), 'x' for creating and writing to a new file, and\n",
      "    'a' for appending (which on some Unix systems, means that all writes\n",
      "    append to the end of the file regardless of the current seek position).\n",
      "    In text mode, if encoding is not specified the encoding used is platform\n",
      "    dependent: locale.getencoding() is called to get the current locale encoding.\n",
      "    (For reading and writing raw bytes use binary mode and leave encoding\n",
      "    unspecified.) The available modes are:\n",
      "\n",
      "    ========= ===============================================================\n",
      "    Character Meaning\n",
      "    --------- ---------------------------------------------------------------\n",
      "    'r'       open for reading (default)\n",
      "    'w'       open for writing, truncating the file first\n",
      "    'x'       create a new file and open it for writing\n",
      "    'a'       open for writing, appending to the end of the file if it exists\n",
      "    'b'       binary mode\n",
      "    't'       text mode (default)\n",
      "    '+'       open a disk file for updating (reading and writing)\n",
      "    ========= ===============================================================\n",
      "\n",
      "    The default mode is 'rt' (open for reading text). For binary random\n",
      "    access, the mode 'w+b' opens and truncates the file to 0 bytes, while\n",
      "    'r+b' opens the file without truncation. The 'x' mode implies 'w' and\n",
      "    raises an `FileExistsError` if the file already exists.\n",
      "\n",
      "    Python distinguishes between files opened in binary and text modes,\n",
      "    even when the underlying operating system doesn't. Files opened in\n",
      "    binary mode (appending 'b' to the mode argument) return contents as\n",
      "    bytes objects without any decoding. In text mode (the default, or when\n",
      "    't' is appended to the mode argument), the contents of the file are\n",
      "    returned as strings, the bytes having been first decoded using a\n",
      "    platform-dependent encoding or using the specified encoding if given.\n",
      "\n",
      "    buffering is an optional integer used to set the buffering policy.\n",
      "    Pass 0 to switch buffering off (only allowed in binary mode), 1 to select\n",
      "    line buffering (only usable in text mode), and an integer > 1 to indicate\n",
      "    the size of a fixed-size chunk buffer.  When no buffering argument is\n",
      "    given, the default buffering policy works as follows:\n",
      "\n",
      "    * Binary files are buffered in fixed-size chunks; the size of the buffer\n",
      "      is chosen using a heuristic trying to determine the underlying device's\n",
      "      \"block size\" and falling back on `io.DEFAULT_BUFFER_SIZE`.\n",
      "      On many systems, the buffer will typically be 4096 or 8192 bytes long.\n",
      "\n",
      "    * \"Interactive\" text files (files for which isatty() returns True)\n",
      "      use line buffering.  Other text files use the policy described above\n",
      "      for binary files.\n",
      "\n",
      "    encoding is the name of the encoding used to decode or encode the\n",
      "    file. This should only be used in text mode. The default encoding is\n",
      "    platform dependent, but any encoding supported by Python can be\n",
      "    passed.  See the codecs module for the list of supported encodings.\n",
      "\n",
      "    errors is an optional string that specifies how encoding errors are to\n",
      "    be handled---this argument should not be used in binary mode. Pass\n",
      "    'strict' to raise a ValueError exception if there is an encoding error\n",
      "    (the default of None has the same effect), or pass 'ignore' to ignore\n",
      "    errors. (Note that ignoring encoding errors can lead to data loss.)\n",
      "    See the documentation for codecs.register or run 'help(codecs.Codec)'\n",
      "    for a list of the permitted encoding error strings.\n",
      "\n",
      "    newline controls how universal newlines works (it only applies to text\n",
      "    mode). It can be None, '', '\\n', '\\r', and '\\r\\n'.  It works as\n",
      "    follows:\n",
      "\n",
      "    * On input, if newline is None, universal newlines mode is\n",
      "      enabled. Lines in the input can end in '\\n', '\\r', or '\\r\\n', and\n",
      "      these are translated into '\\n' before being returned to the\n",
      "      caller. If it is '', universal newline mode is enabled, but line\n",
      "      endings are returned to the caller untranslated. If it has any of\n",
      "      the other legal values, input lines are only terminated by the given\n",
      "      string, and the line ending is returned to the caller untranslated.\n",
      "\n",
      "    * On output, if newline is None, any '\\n' characters written are\n",
      "      translated to the system default line separator, os.linesep. If\n",
      "      newline is '' or '\\n', no translation takes place. If newline is any\n",
      "      of the other legal values, any '\\n' characters written are translated\n",
      "      to the given string.\n",
      "\n",
      "    If closefd is False, the underlying file descriptor will be kept open\n",
      "    when the file is closed. This does not work when a file name is given\n",
      "    and must be True in that case.\n",
      "\n",
      "    A custom opener can be used by passing a callable as *opener*. The\n",
      "    underlying file descriptor for the file object is then obtained by\n",
      "    calling *opener* with (*file*, *flags*). *opener* must return an open\n",
      "    file descriptor (passing os.open as *opener* results in functionality\n",
      "    similar to passing None).\n",
      "\n",
      "    open() returns a file object whose type depends on the mode, and\n",
      "    through which the standard file operations such as reading and writing\n",
      "    are performed. When open() is used to open a file in a text mode ('w',\n",
      "    'r', 'wt', 'rt', etc.), it returns a TextIOWrapper. When used to open\n",
      "    a file in a binary mode, the returned class varies: in read binary\n",
      "    mode, it returns a BufferedReader; in write binary and append binary\n",
      "    modes, it returns a BufferedWriter, and in read/write mode, it returns\n",
      "    a BufferedRandom.\n",
      "\n",
      "    It is also possible to use a string or bytearray as a file for both\n",
      "    reading and writing. For strings StringIO can be used like a file\n",
      "    opened in a text mode, and for bytes a BytesIO can be used like a file\n",
      "    opened in a binary mode.\n",
      "\n"
     ]
    }
   ],
   "source": [
    "help(open)"
   ]
  },
  {
   "cell_type": "markdown",
   "id": "3146508b-ac92-4a25-8219-ca855041b35c",
   "metadata": {},
   "source": [
    "#### Aktualizowanie pliku:"
   ]
  },
  {
   "cell_type": "markdown",
   "id": "7952b2a9-9d5f-4fa5-a45e-9e21c7efcb5d",
   "metadata": {},
   "source": [
    "*update.txt*\n",
    "\n",
    "```\n",
    "62\n",
    "86\n",
    "13\n",
    "54\n",
    "```"
   ]
  },
  {
   "cell_type": "code",
   "execution_count": 11,
   "id": "def3cb12-3b31-499b-9321-3053c1b3d08f",
   "metadata": {},
   "outputs": [],
   "source": [
    "# Plik jest otwierany w trybie dopisywania:\n",
    "update = open(\"update.txt\", \"a\")\n",
    "\n",
    "# Linijka została dopisana na koniec pliku:\n",
    "update.write(\"Witaj Świecie!\")\n",
    "\n",
    "update.close()"
   ]
  },
  {
   "cell_type": "markdown",
   "id": "838299dd-3f6f-4ee5-affb-a2d94a2302cd",
   "metadata": {},
   "source": [
    "*update.txt*\n",
    "\n",
    "```\n",
    "62\n",
    "86\n",
    "13\n",
    "54\n",
    "Witaj Świecie!\n",
    "```"
   ]
  },
  {
   "cell_type": "markdown",
   "id": "303a85b2-f764-4a1a-a54e-90f3405da5c1",
   "metadata": {},
   "source": [
    "#### Interfejs **with**:"
   ]
  },
  {
   "cell_type": "markdown",
   "id": "32af6e92-9fdb-4ced-9762-6bb68bc46235",
   "metadata": {},
   "source": [
    "*data.txt*\n",
    "\n",
    "```\n",
    "kot\r\n",
    "pies\r\n",
    "kanarek\r\n",
    "rybki\n",
    "```"
   ]
  },
  {
   "cell_type": "code",
   "execution_count": 12,
   "id": "08386d9f-e794-4b12-8cb7-59fb30c963e6",
   "metadata": {},
   "outputs": [
    {
     "name": "stdout",
     "output_type": "stream",
     "text": [
      "kot\n",
      "pies\n",
      "kanarek\n",
      "rybki\n",
      "\n"
     ]
    }
   ],
   "source": [
    "# Ograniczenie pliku tylko do bloku tworzonego przez with - nie ma potrzeby zamykania pliku:\n",
    "with open(\"data.txt\", \"r\") as data_file:\n",
    "    # Przy pomocy as nadawana jest nazwa zmiennej pod którą będzie dostępny otwarty plik:\n",
    "    print(data_file.read())"
   ]
  },
  {
   "cell_type": "markdown",
   "id": "e0c34a33-72c0-4fe2-8ad9-95b5f797b59b",
   "metadata": {},
   "source": [
    "#### Kodowanie:"
   ]
  },
  {
   "cell_type": "code",
   "execution_count": 13,
   "id": "54f1f29e-c53e-40f8-aaa2-1348221aead5",
   "metadata": {},
   "outputs": [],
   "source": [
    "# Otwierając pliki tekstowe warto dodać dodatkowy parametr \"encoding\" z wartością \"utf-8\"\n",
    "# Zapobiega to błędnemu wczytywaniu znaków spoza zbioru ASCII (czyli takich jak \"ą\", \"ć\", \"龍\")\n",
    "data = open(\"data.txt\", \"r\", encoding=\"utf-8\")"
   ]
  },
  {
   "cell_type": "markdown",
   "id": "74e80e38-117c-4612-a678-cc92c796e285",
   "metadata": {},
   "source": [
    "# Ćwiczenia (na zajęcia):"
   ]
  },
  {
   "cell_type": "markdown",
   "id": "1a059552-a4e0-4e31-a8e2-6ba23c6b2a04",
   "metadata": {},
   "source": [
    "#### 1. Wczytaj wyrazy zawarte w pliku \"cw1.txt\", posortuj je ze względu na długość (od najkrótszych do najdłuższych) i wypisz je."
   ]
  },
  {
   "cell_type": "markdown",
   "id": "2dd6a135-b664-4cad-ab2f-aa8ca31903b0",
   "metadata": {},
   "source": [
    "#### 2. Z pliku \"cw2.txt\" wczytaj sekwencje **SpecX**. Wynikiem piwienien być słownik:\n",
    "\n",
    "```\n",
    "{\n",
    "     'SpecA': 'cgaaggatgacgacgagtga',\n",
    "     'SpecB': 'gcgatgcgacgtgcgacggc',\n",
    "     'SpecC': 'cccgcggcgagcggcgagcgcgca',\n",
    "     'SpecD': 'aatctactcatctcctca'\n",
    "}\n",
    "```"
   ]
  },
  {
   "cell_type": "markdown",
   "id": "e3b9f86a-3a98-4fe1-9d0e-53e803cfed90",
   "metadata": {},
   "source": [
    "#### 3. Zapisz do pliku (w kolejnych linijkach) wszystkie dzielniki liczby 328."
   ]
  },
  {
   "cell_type": "markdown",
   "id": "4df69434-f149-4bc0-b96d-2f8772d4d9ca",
   "metadata": {},
   "source": [
    "#### 4. Z pliku \"cw4.txt\" wczytaj kolejne osoby (każda linijka zawiera dane jednej osoby). Na podstawie wczytanych plików utwórz obiekty poniższej klasy:\n",
    "\n",
    "```Python\n",
    "class Person:\n",
    "    def __init__(self, name, surname, age):\n",
    "        self.name = name\n",
    "        self.surname = surname\n",
    "        self.age = age\n",
    "\n",
    "    def __repr__(self):\n",
    "        return \"{} {}, age: {}\".format(self.name, self.surname, self.age)\n",
    "```"
   ]
  },
  {
   "cell_type": "markdown",
   "id": "144abf29-2d13-463b-818e-841c0dd61f2b",
   "metadata": {},
   "source": [
    "#### 5. Uzupełnij metodę **save_to_file** klasy **Person**:\n",
    "\n",
    "```Python\n",
    "class Person:\n",
    "    def __init__(self, name, surname, age):\n",
    "        self.name = name\n",
    "        self.surname = surname\n",
    "        self.age = age\n",
    "\n",
    "    def __repr__(self):\n",
    "        return \"{} {}, age: {}\".format(self.name, self.surname, self.age)\n",
    "\n",
    "    def save_to_file(self, path):\n",
    "        # argument path to ścieżka do pliku,\n",
    "        # Plik powinien być otwierany w trybie do dopisywania,\n",
    "        # Format danych zapisywanych do pliku powinien wyglądać następująco:\n",
    "        # {imię} {nazwisko}, lat: {wiek}\n",
    "```"
   ]
  },
  {
   "cell_type": "markdown",
   "id": "7206cb08-07d3-407e-9c16-e99ba00de39f",
   "metadata": {},
   "source": [
    "#### 6. Wczytaj co drugą linijkę pliku \"cw6.txt\". Wypisz wynik."
   ]
  },
  {
   "cell_type": "markdown",
   "id": "1ade6ec7-06eb-4554-9960-f3a5c7ff3383",
   "metadata": {},
   "source": [
    "#### 7. Wyznacz medianę liczb wczytanych z pliku \"cw7.txt\"."
   ]
  },
  {
   "cell_type": "markdown",
   "id": "1e492383-d538-45de-af0d-92e5a0432d10",
   "metadata": {},
   "source": [
    "#### 8. Wyznacz średnią liczb wczytanych z pliku \"cw7.txt\" i dopisz ją na koniec pliku."
   ]
  },
  {
   "cell_type": "markdown",
   "id": "a0b574f5-5fae-4cd0-844c-2c0cef2d2ac1",
   "metadata": {},
   "source": [
    "#### 9. Napisz funkcję, która kopiuje zawartość jednego pliku do drugiego."
   ]
  },
  {
   "cell_type": "markdown",
   "id": "11230566-c052-4f4c-8efb-bc06f5bc0952",
   "metadata": {},
   "source": [
    "#### 10. Uzupełnij metodę **read_from_file** klasy **Pdb**. Przetestuj jej działanie na pliku \"cw10.txt\".\n",
    "\n",
    "```Python\n",
    "class Atom:\n",
    "    def __init__(self, name, pos_x, pos_y, pos_z):\n",
    "        self.name = name\n",
    "        self.pos_x = pos_x\n",
    "        self.pos_y = pos_y\n",
    "        self.pos_z = pos_z\n",
    "\n",
    "    def __repr__(self):\n",
    "        return \"Atom: {}\".format(self.name)\n",
    "\n",
    "\n",
    "class Pdb:\n",
    "    def __init__(self):\n",
    "        self.atoms = []\n",
    "\n",
    "    def print_atoms(self):\n",
    "        for atom in self.atoms:\n",
    "            print(atom)\n",
    "\n",
    "    def read_from_file(self, path):\n",
    "        # Ta metoda powinna wczytywać kolejne atomy z pliku *path*,\n",
    "        # Tworzyć obiekty klasy Atom i umieszczać je w liście self.atoms\n",
    "```"
   ]
  },
  {
   "cell_type": "markdown",
   "id": "7a462f97-3cfe-4dce-87a2-d78a74fc7c4d",
   "metadata": {},
   "source": [
    "# **Zadania:**"
   ]
  },
  {
   "cell_type": "markdown",
   "id": "226c9f1a-99fd-4c1b-880d-e864c69c8727",
   "metadata": {},
   "source": [
    "#### Zadanie 1:"
   ]
  },
  {
   "cell_type": "markdown",
   "id": "26df7668-d345-421a-aae5-572f1d8cc981",
   "metadata": {},
   "source": [
    "Napisz program wczytujący liczby z pliku **\"zad1.txt\"**, policz ich średnią i odchylenie standardowe. Wyniki wypisz do konsoli."
   ]
  },
  {
   "cell_type": "markdown",
   "id": "092c83ae-568c-492e-a946-b2ad14252c6e",
   "metadata": {},
   "source": [
    "#### Zadanie 2:"
   ]
  },
  {
   "cell_type": "markdown",
   "id": "129441c2-4cb4-4846-8f6c-ddaf426e7799",
   "metadata": {},
   "source": [
    "Napisz program wyznaczający i zapisujący do pliku 200 kolejnych liczb pierwszych (począwszy od 2)."
   ]
  },
  {
   "cell_type": "markdown",
   "id": "979ea868-0bd9-4888-99c0-01606bce1200",
   "metadata": {},
   "source": [
    "#### Zadanie 3:"
   ]
  },
  {
   "cell_type": "markdown",
   "id": "06d62a40-2252-4091-94ed-354276c2ad9a",
   "metadata": {},
   "source": [
    "Napisz program wczytujący z pliku **\"zad3.txt\"** informacje o studentach i ich ocenach. Na podstawie danych z pliku powinien być budowany słownik.\n",
    "\n",
    "Wynik:\n",
    "```\n",
    "{\n",
    "    'Karolina Kowalczyk': [5, 3, 4, 5, 3, 4, 3],\n",
    "    'Paweł Adamiec': [4, 4, 5, 4, 3, 3, 4],\n",
    "    'Dominik Janicki': [5, 5, 5, 4, 4, 3],\n",
    "    'Anna Wrona': [4, 3, 3, 5, 5, 5, 5]\n",
    "}\n",
    "```"
   ]
  },
  {
   "cell_type": "markdown",
   "id": "76c6c518-4643-4187-9c3d-36e432296b25",
   "metadata": {},
   "source": [
    "#### Zadanie 4:"
   ]
  },
  {
   "cell_type": "markdown",
   "id": "24244bf8-7725-43ae-8aa9-0508f052ad53",
   "metadata": {},
   "source": [
    "Napisz program wczytujący z pliku **\"zad4.txt\"** informacje o osobach. Na podstawie tych informcji niech będą budowane obiekty klasy Person. Wczytaną listę obiektów klasy person należy następnie posortować (alfabetycznie ze względu na nazwisko) i zapisać do innego pliku (wykorzystując reprezentację tekstową zdefiniowaną w metodzie __ repr __ klasy).\n",
    "\n",
    "```Python\n",
    "class Person:\r\n",
    "    def __init__(self, name, surname, age):\r\n",
    "        self.name = name\r\n",
    "        self.surname = surname\r\n",
    "        self.age = age\r\n",
    "\r\n",
    "    def __repr__(self):\r\n",
    "        return \"{} {}, age: {}\".format(self.name, self.surname, self.age)\n",
    "```"
   ]
  },
  {
   "cell_type": "markdown",
   "id": "47d36373-5135-4e19-8936-be52e117a077",
   "metadata": {},
   "source": [
    "#### Zadanie 5:"
   ]
  },
  {
   "cell_type": "markdown",
   "id": "01898435-69e5-4a9e-a2fb-4c572ccbde93",
   "metadata": {},
   "source": [
    "Napisz program zapisujący do pliku (w formacie tekstowym) poniższą strukturę danych:\n",
    "\n",
    "```Python\n",
    "data = [\n",
    "    {\"a\": [1, 2, 3], \"b\": \"kot\"},\n",
    "    {1: \"pies\", 2: \"kanarek\"},\n",
    "    [0, 1, 1, 2, 3, 5, 8, 13]\n",
    "]\n",
    "```"
   ]
  },
  {
   "cell_type": "markdown",
   "id": "8bcc38f7-2c22-4640-a125-9e17b2b1a85c",
   "metadata": {},
   "source": [
    "#### Zadanie 6*:"
   ]
  },
  {
   "cell_type": "markdown",
   "id": "893a28cc-6a85-4975-819e-8502de280245",
   "metadata": {},
   "source": [
    "Napisz funkcję, która zamienia wszystekie litery w pliku na wielkie (trzeba plik przeczytać a następnie nadpisać)."
   ]
  }
 ],
 "metadata": {
  "kernelspec": {
   "display_name": "Python 3 (ipykernel)",
   "language": "python",
   "name": "python3"
  },
  "language_info": {
   "codemirror_mode": {
    "name": "ipython",
    "version": 3
   },
   "file_extension": ".py",
   "mimetype": "text/x-python",
   "name": "python",
   "nbconvert_exporter": "python",
   "pygments_lexer": "ipython3",
   "version": "3.12.0"
  }
 },
 "nbformat": 4,
 "nbformat_minor": 5
}
