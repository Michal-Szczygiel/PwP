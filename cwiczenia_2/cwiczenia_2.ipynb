{
 "cells": [
  {
   "cell_type": "markdown",
   "id": "cb74ff58-c6b8-4fdb-b523-7ba7c7c2deee",
   "metadata": {},
   "source": [
    "# Słowniki:"
   ]
  },
  {
   "cell_type": "markdown",
   "id": "6d40460a-ff9d-4f0d-a1d1-3bacf1c3733b",
   "metadata": {},
   "source": [
    "Słowniki pozwalają na tworzenie relacji typu: klucz -> wartość. Kluczami mogą być wartości logiczne, liczbowe, napisy i krotki (klucze muszą być obiektami haszowalnym). Nie ma ograniczeń co do typów wartości. "
   ]
  },
  {
   "cell_type": "code",
   "execution_count": 1,
   "id": "6f96ad99-e6b6-4041-8af0-8e522cae5ce4",
   "metadata": {},
   "outputs": [
    {
     "name": "stdout",
     "output_type": "stream",
     "text": [
      "{'Joker': 'Joaquin Phoenix', 'Tony Stark': 'Robert Downey Jr.', 'Harley Quinn': 'Margot Robbie', 'Peter Parker': 'Tom Holland', 'Walter White': 'Bryan Cranston'}\n"
     ]
    }
   ],
   "source": [
    "# Przykład słownika, gdzie kluczami są imiona postaci filmowych,\n",
    "# zaś wartościami - aktorzy grający dane postacie.\n",
    "characters = {\n",
    "    \"Joker\": \"Joaquin Phoenix\",\n",
    "    \"Tony Stark\": \"Robert Downey Jr.\",\n",
    "    \"Harley Quinn\": \"Margot Robbie\",\n",
    "    \"Peter Parker\": \"Tom Holland\",\n",
    "    \"Walter White\": \"Bryan Cranston\"\n",
    "}\n",
    "\n",
    "print(characters)"
   ]
  },
  {
   "cell_type": "markdown",
   "id": "5573f587-5667-434a-a3de-3d646c9a7714",
   "metadata": {},
   "source": [
    "### Znajdowanie wartości klucza w słowniku:"
   ]
  },
  {
   "cell_type": "code",
   "execution_count": 2,
   "id": "05fef2cd-bda2-45e2-a4da-f5d64c3db543",
   "metadata": {},
   "outputs": [
    {
     "name": "stdout",
     "output_type": "stream",
     "text": [
      "Tom Holland\n"
     ]
    }
   ],
   "source": [
    "value = characters[\"Peter Parker\"]\n",
    "print(value)"
   ]
  },
  {
   "cell_type": "markdown",
   "id": "74860e0f-d794-4822-b880-75f41b3a1a9e",
   "metadata": {},
   "source": [
    "### Dodawanie nowego klucza i wartości do słownika:"
   ]
  },
  {
   "cell_type": "code",
   "execution_count": 3,
   "id": "1d57316d-14dc-4187-bf51-13691bf23223",
   "metadata": {},
   "outputs": [
    {
     "name": "stdout",
     "output_type": "stream",
     "text": [
      "{'Joker': 'Joaquin Phoenix', 'Tony Stark': 'Robert Downey Jr.', 'Harley Quinn': 'Margot Robbie', 'Peter Parker': 'Tom Holland', 'Walter White': 'Bryan Cranston', 'Jack Sparrow': 'Johnny Depp'}\n"
     ]
    }
   ],
   "source": [
    "characters[\"Jack Sparrow\"] = \"Johnny Depp\"\n",
    "print(characters)"
   ]
  },
  {
   "cell_type": "markdown",
   "id": "a8770306-803e-4e1a-9825-6bdfbdd41534",
   "metadata": {},
   "source": [
    "### Co jeśli szukanego klucza nie ma w słowniu?"
   ]
  },
  {
   "cell_type": "code",
   "execution_count": 4,
   "id": "32de4869-9dd0-417d-8410-1562ae679b6d",
   "metadata": {},
   "outputs": [
    {
     "ename": "KeyError",
     "evalue": "'Shrek'",
     "output_type": "error",
     "traceback": [
      "\u001b[1;31m---------------------------------------------------------------------------\u001b[0m",
      "\u001b[1;31mKeyError\u001b[0m                                  Traceback (most recent call last)",
      "Cell \u001b[1;32mIn[4], line 1\u001b[0m\n\u001b[1;32m----> 1\u001b[0m value \u001b[38;5;241m=\u001b[39m \u001b[43mcharacters\u001b[49m\u001b[43m[\u001b[49m\u001b[38;5;124;43m\"\u001b[39;49m\u001b[38;5;124;43mShrek\u001b[39;49m\u001b[38;5;124;43m\"\u001b[39;49m\u001b[43m]\u001b[49m\n\u001b[0;32m      2\u001b[0m \u001b[38;5;28mprint\u001b[39m(value)\n",
      "\u001b[1;31mKeyError\u001b[0m: 'Shrek'"
     ]
    }
   ],
   "source": [
    "value = characters[\"Shrek\"]\n",
    "print(value)"
   ]
  },
  {
   "cell_type": "code",
   "execution_count": 5,
   "id": "6e6771f3-3773-4e95-9470-9133b2904e9a",
   "metadata": {},
   "outputs": [
    {
     "name": "stdout",
     "output_type": "stream",
     "text": [
      "Value not found!\n"
     ]
    }
   ],
   "source": [
    "# Sprawdzenie czy dany klucz znajduje się w słowniku:\n",
    "if \"Shrek\" in characters:\n",
    "    print(characters[\"Shrek\"])\n",
    "else:\n",
    "    print(\"Value not found!\")"
   ]
  },
  {
   "cell_type": "markdown",
   "id": "08d55637-ffc7-4779-b4ef-085aefeeb981",
   "metadata": {},
   "source": [
    "### Metoda **get** - bezpieczniejsza alternatywa dla operatora indeksowania:"
   ]
  },
  {
   "cell_type": "code",
   "execution_count": 6,
   "id": "6a2b93ec-dbdd-4def-881c-801bef82f8ca",
   "metadata": {},
   "outputs": [
    {
     "name": "stdout",
     "output_type": "stream",
     "text": [
      "None\n"
     ]
    }
   ],
   "source": [
    "value = characters.get(\"Shrek\")\n",
    "print(value)"
   ]
  },
  {
   "cell_type": "code",
   "execution_count": 7,
   "id": "3ceec51b-1655-448f-b02a-77ee5a9c757b",
   "metadata": {},
   "outputs": [
    {
     "name": "stdout",
     "output_type": "stream",
     "text": [
      "Bryan Cranston\n"
     ]
    }
   ],
   "source": [
    "value = characters.get(\"Walter White\")\n",
    "print(value)"
   ]
  },
  {
   "cell_type": "markdown",
   "id": "39002fd0-4b46-4b4b-8046-32608de0b512",
   "metadata": {},
   "source": [
    "### Metoda **keys** - iterator po kluczach słownika:"
   ]
  },
  {
   "cell_type": "code",
   "execution_count": 8,
   "id": "3a2c5b7d-8078-481d-b429-5a8a6399b6f3",
   "metadata": {},
   "outputs": [
    {
     "name": "stdout",
     "output_type": "stream",
     "text": [
      "dict_keys(['Joker', 'Tony Stark', 'Harley Quinn', 'Peter Parker', 'Walter White', 'Jack Sparrow'])\n",
      "<class 'dict_keys'>\n"
     ]
    }
   ],
   "source": [
    "keys = characters.keys()\n",
    "print(keys)\n",
    "print(type(keys))"
   ]
  },
  {
   "cell_type": "code",
   "execution_count": 9,
   "id": "3cef8994-78ed-4ec2-b489-4c15c14cff73",
   "metadata": {},
   "outputs": [
    {
     "name": "stdout",
     "output_type": "stream",
     "text": [
      "Joker\n",
      "Tony Stark\n",
      "Harley Quinn\n",
      "Peter Parker\n",
      "Walter White\n",
      "Jack Sparrow\n"
     ]
    }
   ],
   "source": [
    "for key in characters.keys():\n",
    "    print(key)"
   ]
  },
  {
   "cell_type": "markdown",
   "id": "b5772d44-9d13-45ee-8ed5-0cb27c07abcb",
   "metadata": {},
   "source": [
    "### Metoda **values** - iterator po wartościach słownika:"
   ]
  },
  {
   "cell_type": "code",
   "execution_count": 10,
   "id": "e228f6d9-f281-4fc5-b995-14c62c18f0a4",
   "metadata": {},
   "outputs": [
    {
     "name": "stdout",
     "output_type": "stream",
     "text": [
      "dict_values(['Joaquin Phoenix', 'Robert Downey Jr.', 'Margot Robbie', 'Tom Holland', 'Bryan Cranston', 'Johnny Depp'])\n",
      "<class 'dict_values'>\n"
     ]
    }
   ],
   "source": [
    "values = characters.values()\n",
    "print(values)\n",
    "print(type(values))"
   ]
  },
  {
   "cell_type": "code",
   "execution_count": 11,
   "id": "6ad58437-339a-439d-88bf-d3393bf78410",
   "metadata": {},
   "outputs": [
    {
     "name": "stdout",
     "output_type": "stream",
     "text": [
      "Joaquin Phoenix\n",
      "Robert Downey Jr.\n",
      "Margot Robbie\n",
      "Tom Holland\n",
      "Bryan Cranston\n",
      "Johnny Depp\n"
     ]
    }
   ],
   "source": [
    "for value in characters.values():\n",
    "    print(value)"
   ]
  },
  {
   "cell_type": "markdown",
   "id": "9c0acd3a-51dc-4858-9445-0a41f54adaa6",
   "metadata": {},
   "source": [
    "### Metoda **items** - iterator po krotkach: (klucz, wartość):"
   ]
  },
  {
   "cell_type": "code",
   "execution_count": 12,
   "id": "bd30ba31-811e-4c0d-bccd-af43ae9238c8",
   "metadata": {},
   "outputs": [
    {
     "name": "stdout",
     "output_type": "stream",
     "text": [
      "dict_items([('Joker', 'Joaquin Phoenix'), ('Tony Stark', 'Robert Downey Jr.'), ('Harley Quinn', 'Margot Robbie'), ('Peter Parker', 'Tom Holland'), ('Walter White', 'Bryan Cranston'), ('Jack Sparrow', 'Johnny Depp')])\n",
      "<class 'dict_items'>\n"
     ]
    }
   ],
   "source": [
    "items = characters.items()\n",
    "print(items)\n",
    "print(type(items))"
   ]
  },
  {
   "cell_type": "code",
   "execution_count": 13,
   "id": "14dcc63f-3e97-414c-be4c-9249506140d8",
   "metadata": {},
   "outputs": [
    {
     "name": "stdout",
     "output_type": "stream",
     "text": [
      "Joker : Joaquin Phoenix\n",
      "Tony Stark : Robert Downey Jr.\n",
      "Harley Quinn : Margot Robbie\n",
      "Peter Parker : Tom Holland\n",
      "Walter White : Bryan Cranston\n",
      "Jack Sparrow : Johnny Depp\n"
     ]
    }
   ],
   "source": [
    "for key, value in characters.items():\n",
    "    print(key + \" : \" + value)"
   ]
  },
  {
   "cell_type": "markdown",
   "id": "1b974c06-b530-4a82-8c6c-8369394d33d9",
   "metadata": {},
   "source": [
    "### Metoda **pop** - usuwanie pary: klucz - wartość:"
   ]
  },
  {
   "cell_type": "code",
   "execution_count": 14,
   "id": "56c0b560-1c8c-4fe5-826b-a85673c9a49e",
   "metadata": {},
   "outputs": [
    {
     "name": "stdout",
     "output_type": "stream",
     "text": [
      "{'Joker': 'Joaquin Phoenix', 'Tony Stark': 'Robert Downey Jr.', 'Harley Quinn': 'Margot Robbie', 'Walter White': 'Bryan Cranston', 'Jack Sparrow': 'Johnny Depp'}\n",
      "Tom Holland\n"
     ]
    }
   ],
   "source": [
    "value = characters.pop(\"Peter Parker\")\n",
    "print(characters)\n",
    "print(value)"
   ]
  },
  {
   "cell_type": "markdown",
   "id": "317d3aa3-ac8a-4036-a463-cc47ef076510",
   "metadata": {},
   "source": [
    "# Wyświetlanie wbudowanej dokumentacji:"
   ]
  },
  {
   "cell_type": "code",
   "execution_count": 15,
   "id": "085ba386-813d-4ea4-b957-8e9e7b19bfad",
   "metadata": {},
   "outputs": [
    {
     "name": "stdout",
     "output_type": "stream",
     "text": [
      "Help on class dict in module builtins:\n",
      "\n",
      "class dict(object)\n",
      " |  dict() -> new empty dictionary\n",
      " |  dict(mapping) -> new dictionary initialized from a mapping object's\n",
      " |      (key, value) pairs\n",
      " |  dict(iterable) -> new dictionary initialized as if via:\n",
      " |      d = {}\n",
      " |      for k, v in iterable:\n",
      " |          d[k] = v\n",
      " |  dict(**kwargs) -> new dictionary initialized with the name=value pairs\n",
      " |      in the keyword argument list.  For example:  dict(one=1, two=2)\n",
      " |\n",
      " |  Built-in subclasses:\n",
      " |      StgDict\n",
      " |\n",
      " |  Methods defined here:\n",
      " |\n",
      " |  __contains__(self, key, /)\n",
      " |      True if the dictionary has the specified key, else False.\n",
      " |\n",
      " |  __delitem__(self, key, /)\n",
      " |      Delete self[key].\n",
      " |\n",
      " |  __eq__(self, value, /)\n",
      " |      Return self==value.\n",
      " |\n",
      " |  __ge__(self, value, /)\n",
      " |      Return self>=value.\n",
      " |\n",
      " |  __getattribute__(self, name, /)\n",
      " |      Return getattr(self, name).\n",
      " |\n",
      " |  __getitem__(self, key, /)\n",
      " |      Return self[key].\n",
      " |\n",
      " |  __gt__(self, value, /)\n",
      " |      Return self>value.\n",
      " |\n",
      " |  __init__(self, /, *args, **kwargs)\n",
      " |      Initialize self.  See help(type(self)) for accurate signature.\n",
      " |\n",
      " |  __ior__(self, value, /)\n",
      " |      Return self|=value.\n",
      " |\n",
      " |  __iter__(self, /)\n",
      " |      Implement iter(self).\n",
      " |\n",
      " |  __le__(self, value, /)\n",
      " |      Return self<=value.\n",
      " |\n",
      " |  __len__(self, /)\n",
      " |      Return len(self).\n",
      " |\n",
      " |  __lt__(self, value, /)\n",
      " |      Return self<value.\n",
      " |\n",
      " |  __ne__(self, value, /)\n",
      " |      Return self!=value.\n",
      " |\n",
      " |  __or__(self, value, /)\n",
      " |      Return self|value.\n",
      " |\n",
      " |  __repr__(self, /)\n",
      " |      Return repr(self).\n",
      " |\n",
      " |  __reversed__(self, /)\n",
      " |      Return a reverse iterator over the dict keys.\n",
      " |\n",
      " |  __ror__(self, value, /)\n",
      " |      Return value|self.\n",
      " |\n",
      " |  __setitem__(self, key, value, /)\n",
      " |      Set self[key] to value.\n",
      " |\n",
      " |  __sizeof__(...)\n",
      " |      D.__sizeof__() -> size of D in memory, in bytes\n",
      " |\n",
      " |  clear(...)\n",
      " |      D.clear() -> None.  Remove all items from D.\n",
      " |\n",
      " |  copy(...)\n",
      " |      D.copy() -> a shallow copy of D\n",
      " |\n",
      " |  get(self, key, default=None, /)\n",
      " |      Return the value for key if key is in the dictionary, else default.\n",
      " |\n",
      " |  items(...)\n",
      " |      D.items() -> a set-like object providing a view on D's items\n",
      " |\n",
      " |  keys(...)\n",
      " |      D.keys() -> a set-like object providing a view on D's keys\n",
      " |\n",
      " |  pop(...)\n",
      " |      D.pop(k[,d]) -> v, remove specified key and return the corresponding value.\n",
      " |\n",
      " |      If the key is not found, return the default if given; otherwise,\n",
      " |      raise a KeyError.\n",
      " |\n",
      " |  popitem(self, /)\n",
      " |      Remove and return a (key, value) pair as a 2-tuple.\n",
      " |\n",
      " |      Pairs are returned in LIFO (last-in, first-out) order.\n",
      " |      Raises KeyError if the dict is empty.\n",
      " |\n",
      " |  setdefault(self, key, default=None, /)\n",
      " |      Insert key with a value of default if key is not in the dictionary.\n",
      " |\n",
      " |      Return the value for key if key is in the dictionary, else default.\n",
      " |\n",
      " |  update(...)\n",
      " |      D.update([E, ]**F) -> None.  Update D from dict/iterable E and F.\n",
      " |      If E is present and has a .keys() method, then does:  for k in E: D[k] = E[k]\n",
      " |      If E is present and lacks a .keys() method, then does:  for k, v in E: D[k] = v\n",
      " |      In either case, this is followed by: for k in F:  D[k] = F[k]\n",
      " |\n",
      " |  values(...)\n",
      " |      D.values() -> an object providing a view on D's values\n",
      " |\n",
      " |  ----------------------------------------------------------------------\n",
      " |  Class methods defined here:\n",
      " |\n",
      " |  __class_getitem__(...) from builtins.type\n",
      " |      See PEP 585\n",
      " |\n",
      " |  fromkeys(iterable, value=None, /) from builtins.type\n",
      " |      Create a new dictionary with keys from iterable and values set to value.\n",
      " |\n",
      " |  ----------------------------------------------------------------------\n",
      " |  Static methods defined here:\n",
      " |\n",
      " |  __new__(*args, **kwargs) from builtins.type\n",
      " |      Create and return a new object.  See help(type) for accurate signature.\n",
      " |\n",
      " |  ----------------------------------------------------------------------\n",
      " |  Data and other attributes defined here:\n",
      " |\n",
      " |  __hash__ = None\n",
      "\n"
     ]
    }
   ],
   "source": [
    "# Użycie funkcji wbudowanej help do wyświetlenia dokumentacji dla typu dict:\n",
    "help(dict)"
   ]
  },
  {
   "cell_type": "markdown",
   "id": "fcea1361-3ce5-4b7c-869f-51f26cd38960",
   "metadata": {},
   "source": [
    "# Funkcje:"
   ]
  },
  {
   "cell_type": "markdown",
   "id": "0d9b83c1-42b9-4a0c-b562-599f571b6b6a",
   "metadata": {},
   "source": [
    "Funkcje: \n",
    "- służą do dzielenia kodu na mniejsze, łatwiejsze do zrozumienia fragmenty (tworzenie abstrakcji),\n",
    "- umożliwiają ponowne użycie raz napisanego kodu (biblioteki kodu),\n",
    "- umożliwiają rozwiązywanie problemów metodami rekurencyjnymi."
   ]
  },
  {
   "cell_type": "code",
   "execution_count": 16,
   "id": "7ec1cf6c-0f0c-40f6-84d8-7521dedc3594",
   "metadata": {},
   "outputs": [
    {
     "name": "stdout",
     "output_type": "stream",
     "text": [
      "{'KOT': 3, 'KANAREK': 7, 'RYBKI': 5, 'PIES': 4}\n"
     ]
    }
   ],
   "source": [
    "text = \"kot kanarek rybki pies\"\n",
    "words = text.split()\n",
    "words_lengths = {}\n",
    "\n",
    "for word in words:\n",
    "    word_upper = word.upper()\n",
    "    words_lengths[word_upper] = len(word_upper)\n",
    "\n",
    "print(words_lengths)"
   ]
  },
  {
   "cell_type": "code",
   "execution_count": 17,
   "id": "66578e90-da73-4b0e-b231-01e676941150",
   "metadata": {},
   "outputs": [
    {
     "name": "stdout",
     "output_type": "stream",
     "text": [
      "{'KOT': 3, 'KANAREK': 7, 'RYBKI': 5, 'PIES': 4}\n"
     ]
    }
   ],
   "source": [
    "# Definicja funkcji:\n",
    "def build_dict(input_text):\n",
    "    words = input_text.split()\n",
    "    words_lengths = {}\n",
    "\n",
    "    for word in words:\n",
    "        word_upper = word.upper()\n",
    "        words_lengths[word_upper] = len(word_upper)\n",
    "\n",
    "    # Zwrócenie wyniku:\n",
    "    return words_lengths\n",
    "\n",
    "\n",
    "text = \"kot kanarek rybki pies\"\n",
    "dict_with_result = build_dict(text)\n",
    "print(dict_with_result)"
   ]
  },
  {
   "cell_type": "markdown",
   "id": "af8915ae-c29f-42fa-a358-73c354b9e761",
   "metadata": {},
   "source": [
    "# Ćwiczenia (na zajęcia):"
   ]
  },
  {
   "cell_type": "markdown",
   "id": "e32bfb7a-ddbc-4ec9-8da6-2354763ee140",
   "metadata": {},
   "source": [
    "#### 1. W jaki sposób sprawdzisz (w programie) jakiego typu jest dana zmienna?"
   ]
  },
  {
   "cell_type": "markdown",
   "id": "75f09925-8be1-40a1-9e3b-fe1b4a38e107",
   "metadata": {},
   "source": [
    "#### 2. Co zwraca funkcja wbudowana **len**? Na zmiennych jakich typów jest ona w stanie pracować?"
   ]
  },
  {
   "cell_type": "markdown",
   "id": "10b33333-9318-4d8b-8dc9-6083bd5c2c6f",
   "metadata": {},
   "source": [
    "#### 3. Czy poniższy program wykona się?\n",
    "\n",
    "```Python\n",
    "a = (3.14, 73, \"kanarek\")\n",
    "a[1] += 1\n",
    "\n",
    "print(a)\n",
    "```"
   ]
  },
  {
   "cell_type": "markdown",
   "id": "a4db4dc5-e940-43a1-b3b0-fdfd4afcca83",
   "metadata": {},
   "source": [
    "#### 4. Jaka wartość zostanie wypisana do konsoli?\n",
    "\n",
    "```Python\n",
    "a = [61, 35, 10, 43, 21]\n",
    "print(a[5])\n",
    "```"
   ]
  },
  {
   "cell_type": "markdown",
   "id": "2c504c74-b4d7-47c4-bc80-bbfad587dd86",
   "metadata": {},
   "source": [
    "#### 5. Jaką wartość przyjmie zmienna **a**?\n",
    "\n",
    "```Python\n",
    "data = (95, 24, 73)\n",
    "a, b, c = data\n",
    "```"
   ]
  },
  {
   "cell_type": "markdown",
   "id": "e450253e-f796-4d43-80ef-82a25b081f03",
   "metadata": {},
   "source": [
    "#### 6. Czy po wykonaniu poniższego programu listy **a** i **b** będą miały taką samą zawartość?\n",
    "\n",
    "```Python\n",
    "a = [\"kot\", \"pies\", \"kanarek\"]\n",
    "b = a\n",
    "a[-1] = \"rybki\"\n",
    "```"
   ]
  },
  {
   "cell_type": "markdown",
   "id": "b18d5288-c457-4df8-8f3b-8854971bd1c1",
   "metadata": {},
   "source": [
    "#### 7. Jak będzie wyglądała zawartość listy **a** po wykonaniu poniższego programu?\n",
    "\n",
    "```Python\n",
    "a = [1, 1, 1]\n",
    "a.remove(1)\n",
    "```"
   ]
  },
  {
   "cell_type": "markdown",
   "id": "6e9af93e-4f0a-44bd-b48a-bae7a48748b8",
   "metadata": {},
   "source": [
    "#### 8. W jaki sposób można podzielić napis na poszczególne wyrazy?"
   ]
  },
  {
   "cell_type": "markdown",
   "id": "98a4be8b-b56f-46ee-9de9-c453735d9d3b",
   "metadata": {},
   "source": [
    "#### 9. W jaki sposób można połączyć kilka napisów w jeden?"
   ]
  },
  {
   "cell_type": "markdown",
   "id": "18337445-40c9-4d53-9764-9e24853b948f",
   "metadata": {},
   "source": [
    "#### 10. Jaką wartość logiczną ma poniższe wyrażenie?\n",
    "\n",
    "```Python\n",
    "len([1, 2, 3]) >= 3\n",
    "```"
   ]
  },
  {
   "cell_type": "markdown",
   "id": "a1365dfd-01cd-41c8-9d5d-bfac7fcdb8ee",
   "metadata": {},
   "source": [
    "#### 11. Czy poniższe wyrażenie jest prawdziwe (True)?\n",
    "\n",
    "```Python\n",
    "5 > 2 and len(\"kot\") == 5 or 3.14 in [8, 3.14, \"pies\"]\n",
    "```"
   ]
  },
  {
   "cell_type": "markdown",
   "id": "9f0bb539-caf2-4c14-910a-ba6b1f9279a5",
   "metadata": {},
   "source": [
    "#### 12. Co zostanie wypisane do konsoli w trakcie wykonania poniższego kodu?\n",
    "\n",
    "```Python\n",
    "number = 5\n",
    "\n",
    "numbers_dict = {\"jeden\": 1, \"dwa\": 2, \"trzy\": 3}\n",
    "\n",
    "if number % 2 == 0:\n",
    "    print(\"Liczba jest parzysta!\")\n",
    "elif numbers_dict.get(\"pięć\") == number:\n",
    "    print(\"Liczba to pięć!\")\n",
    "else:\n",
    "    print(\"Brak odpowiedniego warunku!\")\n",
    "```"
   ]
  },
  {
   "cell_type": "markdown",
   "id": "d4f3e65d-cf2f-4cf2-bebf-c2db6afa88cb",
   "metadata": {},
   "source": [
    "#### 13. Ile razy wypisany zostanie komunikat: \"Witaj Świecie!\"?\n",
    "\n",
    "```Python\n",
    "number = 3\n",
    "\n",
    "while number < 10:\n",
    "    print(\"Witaj Świecie!\")\n",
    "    number += 2\n",
    "```"
   ]
  },
  {
   "cell_type": "markdown",
   "id": "8059ba15-50b0-4692-b4c1-39903ffa5876",
   "metadata": {},
   "source": [
    "#### 14. Do czego służy metoda **join** klasy (typu) **str**?\n",
    "\\\n",
    "Podpowiedź: Użyj **help** aby się tego dowiedzieć."
   ]
  },
  {
   "cell_type": "markdown",
   "id": "82a4fd34-c55b-41f6-8349-2ed2b089185f",
   "metadata": {},
   "source": [
    "#### 15. Jaka będzie zawartość listy **a** po wykonaniu funkcji **magic**?\n",
    "\n",
    "```Python\n",
    "def magic(data):\n",
    "    data.append(\"@\")\n",
    "\n",
    "\n",
    "a = [1, 2, 3]\n",
    "magic(a)\n",
    "```"
   ]
  },
  {
   "cell_type": "markdown",
   "id": "3780e423-0ba3-41e5-825e-1d7760850802",
   "metadata": {},
   "source": [
    "#### 16. Napisz pętlę po liście **a**. Dla każdej krotki wypisz tylko ostatni jej element:\n",
    "\n",
    "```Python\n",
    "a = [(\"kot\", 54), (\"pies\", 4.32, 9), (None, True)]\n",
    "```"
   ]
  },
  {
   "cell_type": "markdown",
   "id": "bb465a5d-a605-452e-bc1a-3d66c7eaf67f",
   "metadata": {},
   "source": [
    "#### 17. Napisz program sumujący wszystkie wartości z listy **a**. Wynik wypisz do konsoli:\n",
    "\n",
    "```Python\n",
    "a = [4.32, 9.87, [1, 2, 3], (6.54, 1.87), 74, [9, 8, 7, 6]]\n",
    "```"
   ]
  },
  {
   "cell_type": "markdown",
   "id": "debb2750-06cf-4836-84bc-a5df8a89baca",
   "metadata": {},
   "source": [
    "#### 18. Czy poniższy program kiedykolwiek się zatrzyma?\n",
    "\n",
    "```Python\n",
    "def get_value(x):\n",
    "    return x ** 2 + 3\n",
    "\n",
    "\n",
    "x = -10\n",
    "\n",
    "while True:\n",
    "    if get_value(x) < 3:\n",
    "        break\n",
    "\n",
    "    x += 1\n",
    "```"
   ]
  },
  {
   "cell_type": "markdown",
   "id": "f7218aba-c250-4658-bc84-2513017d87cc",
   "metadata": {},
   "source": [
    "#### 19. Czy jesteś w stanie powiedzieć jaki będzie wynik działania poniższego programu?\n",
    "\n",
    "```Python\n",
    "def factorial(number):\n",
    "    if number == 1:\n",
    "        return number\n",
    "    else:\n",
    "        return number * factorial(number - 1)\n",
    "\n",
    "\n",
    "print(factorial(4))\n",
    "```"
   ]
  },
  {
   "cell_type": "markdown",
   "id": "6b855d32-dd62-4050-a458-bda1a27b2de4",
   "metadata": {},
   "source": [
    "#### 20. Co zostanie wypisane do konsoli w trakcie wykonania poniższego kodu?\n",
    "```Python\n",
    "def add(a, b):\n",
    "    return a + b\n",
    "\n",
    "\n",
    "def sub(a, b):\n",
    "    return a - b\n",
    "\n",
    "\n",
    "def mul(a, b):\n",
    "    return a * b\n",
    "\n",
    "\n",
    "def div(a, b):\n",
    "    return a / b\n",
    "\n",
    "\n",
    "OPERATIONS = [add, sub, mul, div]\n",
    "\n",
    "for operation in OPERATIONS:\n",
    "    result = operation(6, 2)\n",
    "    print(result)\n",
    "```"
   ]
  },
  {
   "cell_type": "markdown",
   "id": "2b9bf1a4-d2fc-4857-ab0d-16ff74f7c1ca",
   "metadata": {},
   "source": [
    "# **Zadania:**"
   ]
  },
  {
   "cell_type": "markdown",
   "id": "01ebe6a9-ad15-4d9d-9b21-6c340f18e116",
   "metadata": {},
   "source": [
    "### Zadanie 1:"
   ]
  },
  {
   "cell_type": "markdown",
   "id": "b0b047a2-cc7b-45a8-87aa-62625339b0c7",
   "metadata": {},
   "source": [
    "Napisz funkcję przyjmującą **x** i zwracającą wartość wielomianu **w(x)** danego wzorem:\n",
    "$$w(x)=3x^3-2x^2+7x-12$$"
   ]
  },
  {
   "cell_type": "markdown",
   "id": "87def75f-9d7f-4f47-bb43-8f0df70256f8",
   "metadata": {},
   "source": [
    "### Zadanie 2:"
   ]
  },
  {
   "cell_type": "markdown",
   "id": "4bcdc38a-25bc-4d42-90fe-1b48b60dd51a",
   "metadata": {},
   "source": [
    "Napisz program modyfikujący poniższy słownik w taki sposób, że podmieniony zostaje klucz: \"Jack Sparrow\" na \"Kapitan Jack Sparrow\" (reszta niech pozostanie bez zmian):\n",
    "\n",
    "```Python\n",
    "characters = {\n",
    "    \"Joker\": \"Joaquin Phoenix\",\n",
    "    \"Tony Stark\": \"Robert Downey Jr.\",\n",
    "    \"Harley Quinn\": \"Margot Robbie\",\n",
    "    \"Peter Parker\": \"Tom Holland\",\n",
    "    \"Jack Sparrow\": \"Johnny Depp\",\n",
    "    \"Walter White\": \"Bryan Cranston\"\n",
    "}\n",
    "```"
   ]
  },
  {
   "cell_type": "markdown",
   "id": "c0b43af0-39e6-4f91-85b7-f626ee2fbf75",
   "metadata": {},
   "source": [
    "### Zadanie 3:"
   ]
  },
  {
   "cell_type": "markdown",
   "id": "1bd6c187-9070-4a2e-b492-045ab593fa60",
   "metadata": {},
   "source": [
    "Napisz funkcję obliczającą średnią arytmetyczną liczb podanych w liście.\n",
    "\\\n",
    "\\\n",
    "**Uwaga:** W liście mogą się trafić wartości typów innych niż numeryczne. W takiej sytuacji Twoja funkcja zamiast wartości liczbowej powinna zwracać **None**."
   ]
  },
  {
   "cell_type": "markdown",
   "id": "b8d3edfe-fcfc-42f3-a061-6cdfc450f766",
   "metadata": {},
   "source": [
    "### Zadanie 4:"
   ]
  },
  {
   "cell_type": "markdown",
   "id": "97a0507a-a592-4af7-9104-13df60b53cb1",
   "metadata": {},
   "source": [
    "Napisz funkcję zliczającą liczbę liter w podanym tekście. Argumentem funkcji niech będzie napis (**str**). Funkcja powinna zwracać wynik w postaci słownika (**dict**) z kluczami będącymi literami (nie muszą być w porządku alfabetycznym) i wartościami będącymi liczbami liter w podanym tekście."
   ]
  },
  {
   "cell_type": "markdown",
   "id": "3a098ab9-f8cf-4681-8c91-7fa347c89df4",
   "metadata": {},
   "source": [
    "### Zadanie 5:"
   ]
  },
  {
   "cell_type": "markdown",
   "id": "20ba159d-16f1-4e1a-b9b7-dfbf1d6564e3",
   "metadata": {},
   "source": [
    "Uzupełnij ciało funkcji **make_operation** według instrukcji podanych w komentarzu."
   ]
  },
  {
   "cell_type": "markdown",
   "id": "08c42529-b95d-4e5a-bf22-e2529b93f4e5",
   "metadata": {},
   "source": [
    "```Python\n",
    "def add(a, b):\n",
    "    return a + b\n",
    "\n",
    "\n",
    "def sub(a, b):\n",
    "    return a - b\n",
    "\n",
    "\n",
    "def mul(a, b):\n",
    "    return a * b\n",
    "\n",
    "\n",
    "def div(a, b):\n",
    "    return a / b\n",
    "\n",
    "\n",
    "OPERATIONS = {\"add\": add, \"sub\": sub, \"mul\": mul, \"div\": div}\n",
    "\n",
    "def make_operation(a, b, opcode):\n",
    "    # Ta funkcja powinna wykonywać odpowiednią operację, zadaną przy pomocy zmiennej\n",
    "    # opcode na zmiennych a i b. Funkcja powinna wypisywać wynik do konsoli.\n",
    "    pass\n",
    "\n",
    "# Program do wykonania:\n",
    "program = [(5.43, 2.43, \"add\"), (3, 2, \"sub\"), (21, 7, \"div\"), (6.54, 2.81, \"mul\")]\n",
    "\n",
    "# Wykonanie programu:\n",
    "for a, b, opcode in program:\n",
    "    make_operation(a, b, opcode)\n",
    "    \n",
    "```"
   ]
  },
  {
   "cell_type": "markdown",
   "id": "a78f81fb-a2cc-4b0d-bb56-be9df3932fa6",
   "metadata": {},
   "source": [
    "### Zadanie 6*:"
   ]
  },
  {
   "cell_type": "markdown",
   "id": "a8684a7a-76f7-4648-a54b-c5fdb062393d",
   "metadata": {},
   "source": [
    "Napisz funkcję, która oblicza koszt zakupu produktów podanych w liście. Użyj podanego poniżej słownika **prices** z cenami prduktów. Przetestuj funkcję na liście **a**.\n",
    "\n",
    "```Python\n",
    "prices = {\n",
    "    \"jajka\": 7.69,\n",
    "    \"mleko\": 3.49,\n",
    "    \"ser\": 15.99,\n",
    "    \"chleb\": 4.74,\n",
    "    \"masło\": 5.76,\n",
    "    \"mąka\": 2.99\n",
    "}\n",
    "\n",
    "a = [\"ser\", \"ser\", \"jajka\", \"mąka\", \"mąka\", \"mąka\", \"mleko\", \"chleb\", \"masło\"]\n",
    "\n",
    "```"
   ]
  },
  {
   "cell_type": "markdown",
   "id": "367e4453-3838-47a3-9ff6-096e5f650171",
   "metadata": {},
   "source": [
    "# **Powodzenia!**"
   ]
  }
 ],
 "metadata": {
  "kernelspec": {
   "display_name": "Python 3 (ipykernel)",
   "language": "python",
   "name": "python3"
  },
  "language_info": {
   "codemirror_mode": {
    "name": "ipython",
    "version": 3
   },
   "file_extension": ".py",
   "mimetype": "text/x-python",
   "name": "python",
   "nbconvert_exporter": "python",
   "pygments_lexer": "ipython3",
   "version": "3.12.0"
  }
 },
 "nbformat": 4,
 "nbformat_minor": 5
}
