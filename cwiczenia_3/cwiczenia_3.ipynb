{
 "cells": [
  {
   "cell_type": "markdown",
   "id": "0602e36f-72e4-4e11-886e-02fbdd71f58d",
   "metadata": {},
   "source": [
    "# Funkcje - uzupełnienie:"
   ]
  },
  {
   "cell_type": "markdown",
   "id": "b2168915-f5e2-4964-9f53-aa65506497a7",
   "metadata": {},
   "source": [
    "### *args - przekazywanie do funkcji niesprecyzowanej ilości elementów:"
   ]
  },
  {
   "cell_type": "code",
   "execution_count": 6,
   "id": "36390b5f-b1e7-4f1e-9894-120a36553017",
   "metadata": {},
   "outputs": [
    {
     "name": "stdout",
     "output_type": "stream",
     "text": [
      "(5, 6, 3, 2, 1)\n",
      "<class 'tuple'>\n",
      "Średnia:  3.4\n"
     ]
    }
   ],
   "source": [
    "# Argument funkcji poprzedzony * zachowuje się jak krotka\n",
    "# zbierająca wszystkie podane w wywołaniu elementy:\n",
    "def mean(*args):\n",
    "    print(args)\n",
    "    print(type(args))\n",
    "    return sum(args) / len(args)\n",
    "\n",
    "\n",
    "value = mean(5, 6, 3, 2, 1)\n",
    "print(\"Średnia: \", value)"
   ]
  },
  {
   "cell_type": "code",
   "execution_count": 7,
   "id": "cf5e8881-d513-400e-bc35-4b733f452908",
   "metadata": {},
   "outputs": [
    {
     "name": "stdout",
     "output_type": "stream",
     "text": [
      "[42.7716, 10.4329, 57.1536, 16.0]\n"
     ]
    }
   ],
   "source": [
    "# Argument z gwiazdką musi być ostatnim na liście argumentów funkcji:\n",
    "def raise_to_the_power(power, *numbers):\n",
    "    return [x ** power for x in numbers]\n",
    "\n",
    "\n",
    "numbers = raise_to_the_power(2, 6.54, 3.23, 7.56, 4.0)\n",
    "print(numbers)"
   ]
  },
  {
   "cell_type": "markdown",
   "id": "3dc3b1be-b80e-4237-83c1-550e0dbaf9cf",
   "metadata": {},
   "source": [
    "### **kwargs - przekazywanie do funkcji niesprecyzowanej ilości par: \\<klucz\\> = <wartość>:"
   ]
  },
  {
   "cell_type": "code",
   "execution_count": 8,
   "id": "b9b8bf5d-1132-421a-8760-d290c10fa9e8",
   "metadata": {},
   "outputs": [
    {
     "name": "stdout",
     "output_type": "stream",
     "text": [
      "{'pies': 54, 'kot': 29, 'kanarek': 12}\n",
      "<class 'dict'>\n",
      "29\n"
     ]
    }
   ],
   "source": [
    "# Argument funkcji poprzedzony ** zachowuje się jak słownik\n",
    "# zbierający wszystkie podane w wywołaniu pary: <klucz> = <wartość>:\n",
    "def test_func(**kwargs):\n",
    "    print(kwargs)\n",
    "    print(type(kwargs))\n",
    "    return kwargs[\"kot\"]\n",
    "\n",
    "value = test_func(pies=54, kot=29, kanarek=12)\n",
    "print(value)"
   ]
  },
  {
   "cell_type": "code",
   "execution_count": 9,
   "id": "fb59314f-91eb-4996-96c8-4589c5ed4137",
   "metadata": {},
   "outputs": [
    {
     "name": "stdout",
     "output_type": "stream",
     "text": [
      "6.54 2.23\n",
      "('a', 'b', 'c')\n",
      "{'kot': 43, 'pies': 14}\n"
     ]
    }
   ],
   "source": [
    "# Przykład funkcji korzystającej jednocześnie z argumentów poprzedzonych * i **:\n",
    "def mix_test(a, b, *args, **kwargs):\n",
    "    print(a, b)\n",
    "    print(args)\n",
    "    print(kwargs)\n",
    "\n",
    "mix_test(6.54, 2.23, \"a\", \"b\", \"c\", kot=43, pies=14)"
   ]
  },
  {
   "cell_type": "code",
   "execution_count": 10,
   "id": "49756eb3-9f35-4cda-8796-5f5a6bc78e5b",
   "metadata": {},
   "outputs": [
    {
     "ename": "SyntaxError",
     "evalue": "arguments cannot follow var-keyword argument (2391388164.py, line 2)",
     "output_type": "error",
     "traceback": [
      "\u001b[1;36m  Cell \u001b[1;32mIn[10], line 2\u001b[1;36m\u001b[0m\n\u001b[1;33m    def mix_test(a, b, **kwargs, *args):\u001b[0m\n\u001b[1;37m                                 ^\u001b[0m\n\u001b[1;31mSyntaxError\u001b[0m\u001b[1;31m:\u001b[0m arguments cannot follow var-keyword argument\n"
     ]
    }
   ],
   "source": [
    "# Czy można zamienić kolejność argumentów poprzedzonych * i **?\n",
    "def mix_test(a, b, **kwargs, *args):\n",
    "    print(a, b)\n",
    "    print(args)\n",
    "    print(kwargs)\n",
    "\n",
    "mix_test(6.54, 2.23, kot=43, pies=14, \"a\", \"b\", \"c\")"
   ]
  },
  {
   "cell_type": "markdown",
   "id": "8dd73ca8-fd0c-4034-ba08-7fd80e1f89bb",
   "metadata": {},
   "source": [
    "# Zbiory"
   ]
  },
  {
   "cell_type": "markdown",
   "id": "e65ee737-1af9-4005-85b1-1a5b0c53a5b9",
   "metadata": {},
   "source": [
    "Typ zbiór (**set**) służy do przechowywania unikalnych elementów - elementy w zbiorzenie nie moga się powtarzać. Zbiory pozwalają na wykonywanie szybkich sprawdzeń czy dany element należy do zbioru (operacja szybsza niż w przypadku listy czy krotki). Typ ten implementuje również liczne metody pozwalające na wykonywanie operacji typowych dla zbiorów (suma, różnica, przecięcie...).\n",
    "\\\n",
    "\\\n",
    "**Uwaga:** Wartościami zbiorów mogą być tylko elementy haszowalne, takie jak: **int**, **float**, **complex**, **str**, **tuple**."
   ]
  },
  {
   "cell_type": "code",
   "execution_count": 11,
   "id": "93d05d76-0335-4c4e-9484-a16759a03518",
   "metadata": {},
   "outputs": [
    {
     "name": "stdout",
     "output_type": "stream",
     "text": [
      "{0, 2, 3, 4, 6}\n"
     ]
    }
   ],
   "source": [
    "# Definicja zbioru z zawartością:\n",
    "numbers = {6, 3, 2, 0, 0, 0, 4, 2, 6}\n",
    "print(numbers)"
   ]
  },
  {
   "cell_type": "code",
   "execution_count": 12,
   "id": "0cc3f085-3397-44d9-ba7b-34e1c47dcf87",
   "metadata": {},
   "outputs": [
    {
     "name": "stdout",
     "output_type": "stream",
     "text": [
      "{}\n",
      "<class 'dict'>\n"
     ]
    }
   ],
   "source": [
    "# Próba definicji pustego zbioru:\n",
    "test_set = {}\n",
    "\n",
    "print(test_set)\n",
    "print(type(test_set))"
   ]
  },
  {
   "cell_type": "code",
   "execution_count": 13,
   "id": "2f65babd-5b26-49f1-af64-81e8020b34c8",
   "metadata": {},
   "outputs": [
    {
     "name": "stdout",
     "output_type": "stream",
     "text": [
      "set()\n",
      "<class 'set'>\n"
     ]
    }
   ],
   "source": [
    "# Definicja pustego zbioru przy użyciu konstruktora:\n",
    "test_set = set()\n",
    "\n",
    "print(test_set)\n",
    "print(type(test_set))"
   ]
  },
  {
   "cell_type": "markdown",
   "id": "85075c0b-b983-4040-8324-7e4032a235a9",
   "metadata": {},
   "source": [
    "### Przykadowe metody typu **set**:"
   ]
  },
  {
   "cell_type": "code",
   "execution_count": 14,
   "id": "58d56fd3-84c7-46d5-8000-9e5a41871852",
   "metadata": {},
   "outputs": [
    {
     "name": "stdout",
     "output_type": "stream",
     "text": [
      "{1, 2, 3, 4, 5, 6}\n"
     ]
    }
   ],
   "source": [
    "# Suma zbiorów:\n",
    "numbers_a = {1, 2, 3, 4}\n",
    "numbers_b = {3, 4, 5, 6}\n",
    "\n",
    "union = numbers_a.union(numbers_b)\n",
    "print(union)"
   ]
  },
  {
   "cell_type": "code",
   "execution_count": 15,
   "id": "9cf72b89-fe58-481e-ab24-2bfbeda82df0",
   "metadata": {},
   "outputs": [
    {
     "name": "stdout",
     "output_type": "stream",
     "text": [
      "{3, 4}\n"
     ]
    }
   ],
   "source": [
    "# Przecięcie zbiorów:\n",
    "numbers_a = {1, 2, 3, 4}\n",
    "numbers_b = {3, 4, 5, 6}\n",
    "\n",
    "intersection = numbers_a.intersection(numbers_b)\n",
    "print(intersection)"
   ]
  },
  {
   "cell_type": "code",
   "execution_count": 16,
   "id": "101955e8-1cbe-4dc5-95b0-e50d0dce9509",
   "metadata": {},
   "outputs": [
    {
     "name": "stdout",
     "output_type": "stream",
     "text": [
      "{1, 2}\n"
     ]
    }
   ],
   "source": [
    "# Różnica zbiorów:\n",
    "numbers_a = {1, 2, 3, 4}\n",
    "numbers_b = {3, 4, 5, 6}\n",
    "\n",
    "difference = numbers_a.difference(numbers_b)\n",
    "print(difference)"
   ]
  },
  {
   "cell_type": "code",
   "execution_count": 17,
   "id": "d9d176e4-f6b1-46ed-b99e-354d73cae829",
   "metadata": {},
   "outputs": [
    {
     "ename": "TypeError",
     "evalue": "'set' object is not subscriptable",
     "output_type": "error",
     "traceback": [
      "\u001b[1;31m---------------------------------------------------------------------------\u001b[0m",
      "\u001b[1;31mTypeError\u001b[0m                                 Traceback (most recent call last)",
      "Cell \u001b[1;32mIn[17], line 4\u001b[0m\n\u001b[0;32m      1\u001b[0m \u001b[38;5;66;03m# Próba użycia operatora indeksowania:\u001b[39;00m\n\u001b[0;32m      2\u001b[0m numbers \u001b[38;5;241m=\u001b[39m {\u001b[38;5;241m1\u001b[39m, \u001b[38;5;241m2\u001b[39m, \u001b[38;5;241m3\u001b[39m, \u001b[38;5;241m4\u001b[39m}\n\u001b[1;32m----> 4\u001b[0m \u001b[38;5;28mprint\u001b[39m(\u001b[43mnumbers\u001b[49m\u001b[43m[\u001b[49m\u001b[38;5;241;43m2\u001b[39;49m\u001b[43m]\u001b[49m)\n",
      "\u001b[1;31mTypeError\u001b[0m: 'set' object is not subscriptable"
     ]
    }
   ],
   "source": [
    "# Próba użycia operatora indeksowania:\n",
    "numbers = {1, 2, 3, 4}\n",
    "\n",
    "print(numbers[2])"
   ]
  },
  {
   "cell_type": "code",
   "execution_count": null,
   "id": "0d0a8676-0984-4e2c-81c4-4bb2ac3a5e7b",
   "metadata": {},
   "outputs": [],
   "source": [
    "# Sprawdzanie czy element znajduje się w zbiorze:\n",
    "\n",
    "result = 43 in {7, 2, 5, 43, 9, 7}\n",
    "print(result)"
   ]
  },
  {
   "cell_type": "markdown",
   "id": "d1a613b0-8393-451f-94c7-900dc1dbdf1f",
   "metadata": {},
   "source": [
    "# Listy składane:"
   ]
  },
  {
   "cell_type": "markdown",
   "id": "d0564e79-6f0a-4600-9f9c-94220aa81b64",
   "metadata": {},
   "source": [
    "Składania prostej listy składanej:\n",
    "\n",
    "```\n",
    "<name> = [ <var expr> for <var> in <iterable> ]\n",
    "```"
   ]
  },
  {
   "cell_type": "markdown",
   "id": "d3cd477e-73fa-4c2b-ab58-3b878ea66786",
   "metadata": {},
   "source": [
    "Przykład:"
   ]
  },
  {
   "cell_type": "code",
   "execution_count": 18,
   "id": "de56f5fa-431b-4ded-a917-b94311776ddb",
   "metadata": {},
   "outputs": [
    {
     "name": "stdout",
     "output_type": "stream",
     "text": [
      "[4, 6, 8, 10, 12]\n"
     ]
    }
   ],
   "source": [
    "numbers = [x + 3 for x in range(1, 10, 2)]\n",
    "print(numbers)"
   ]
  },
  {
   "cell_type": "markdown",
   "id": "00c2095c-51d9-4f9d-a1c9-34a85caf4162",
   "metadata": {},
   "source": [
    "Składnia listy składanej z warunkiem **if**:\n",
    "\n",
    "```\n",
    "<name> = [ <var expr> for <var> in <iterable> if <var condition> ]\n",
    "```\n",
    "\n",
    "Przykład:"
   ]
  },
  {
   "cell_type": "code",
   "execution_count": 19,
   "id": "32f268e3-6a42-4b28-ba91-e6568bbba69d",
   "metadata": {},
   "outputs": [
    {
     "name": "stdout",
     "output_type": "stream",
     "text": [
      "[4, 2, 12]\n"
     ]
    }
   ],
   "source": [
    "numbers = [7, 3, 4, 5, 2, 9, 1, 12]\n",
    "\n",
    "even = [x for x in numbers if x % 2 == 0]\n",
    "print(even)"
   ]
  },
  {
   "cell_type": "markdown",
   "id": "92b83dee-c4c8-46a7-bae2-7243d23783fd",
   "metadata": {},
   "source": [
    "Składania listy składanej z warunkiem **if** - **else**:\n",
    "\n",
    "```\n",
    "<name> = [ <var expr 1> if <var condition> else <var expr 2> for <var> in <iterable> ]\n",
    "```\n",
    "\n",
    "Przykład:"
   ]
  },
  {
   "cell_type": "code",
   "execution_count": 20,
   "id": "4d2c2ccb-a864-46e7-9ec1-49d7faf2348e",
   "metadata": {},
   "outputs": [
    {
     "name": "stdout",
     "output_type": "stream",
     "text": [
      "['--', '--', 16, '--', 4, '--', '--', 144]\n"
     ]
    }
   ],
   "source": [
    "numbers = [7, 3, 4, 5, 2, 9, 1, 12]\n",
    "\n",
    "new_numbers = [x ** 2 if x % 2 == 0 else \"--\" for x in numbers]\n",
    "print(new_numbers)"
   ]
  },
  {
   "cell_type": "markdown",
   "id": "46bb24a0-4cb3-4470-94cd-8e2c15043477",
   "metadata": {},
   "source": [
    "Składnia listy składanej z wieloma obiektami iterowalnymi:\n",
    "\n",
    "```\n",
    "<name> = [ <var 1, var 2 expr> for <var 1> in <iterable 1> for <var 2> in <iterable 2>]\n",
    "```\n",
    "\n",
    "Przykład:"
   ]
  },
  {
   "cell_type": "code",
   "execution_count": 21,
   "id": "391bc5b9-8e47-4825-919a-b3fe32a07c4d",
   "metadata": {},
   "outputs": [
    {
     "name": "stdout",
     "output_type": "stream",
     "text": [
      "[(1, 'A'), (1, 'B'), (2, 'A'), (2, 'B'), (3, 'A'), (3, 'B')]\n"
     ]
    }
   ],
   "source": [
    "numbers = [1, 2, 3]\n",
    "characters = [\"A\", \"B\"]\n",
    "\n",
    "result = [(x, y) for x in numbers for y in characters]\n",
    "print(result)"
   ]
  },
  {
   "cell_type": "markdown",
   "id": "e116d88b-f058-4ca0-b45c-d900c1987198",
   "metadata": {},
   "source": [
    "# Zbiory składane:"
   ]
  },
  {
   "cell_type": "markdown",
   "id": "7c5adf15-64c7-48eb-9545-d818ffe93dc3",
   "metadata": {},
   "source": [
    "Składania zbiorów składanych jest taka sama jak dla list składanych. Trzeba jednak pamiętać, że z budowanego zbioru zostaną usunięte wszystkie powtórzenia."
   ]
  },
  {
   "cell_type": "code",
   "execution_count": 22,
   "id": "db67d1f3-0343-47ea-acb7-1686f6c65890",
   "metadata": {},
   "outputs": [
    {
     "name": "stdout",
     "output_type": "stream",
     "text": [
      "{4, 6, 8, 10, 12}\n"
     ]
    }
   ],
   "source": [
    "numbers = {x + 3 for x in range(1, 10, 2)}\n",
    "print(numbers)"
   ]
  },
  {
   "cell_type": "code",
   "execution_count": 23,
   "id": "f8ee9030-3c8b-4d6e-9ad7-e8a7a6095394",
   "metadata": {},
   "outputs": [
    {
     "name": "stdout",
     "output_type": "stream",
     "text": [
      "{2, 4, 12}\n"
     ]
    }
   ],
   "source": [
    "numbers = [7, 3, 4, 5, 2, 9, 1, 12]\n",
    "\n",
    "even = {x for x in numbers if x % 2 == 0}\n",
    "print(even)"
   ]
  },
  {
   "cell_type": "code",
   "execution_count": 24,
   "id": "a55049c1-75d7-4c61-a12d-dd7509f27366",
   "metadata": {},
   "outputs": [
    {
     "name": "stdout",
     "output_type": "stream",
     "text": [
      "{16, 4, 144, '--'}\n"
     ]
    }
   ],
   "source": [
    "numbers = [7, 3, 4, 5, 2, 9, 1, 12]\n",
    "\n",
    "new_numbers = {x ** 2 if x % 2 == 0 else \"--\" for x in numbers}\n",
    "print(new_numbers)"
   ]
  },
  {
   "cell_type": "code",
   "execution_count": 25,
   "id": "d2ab0232-1d47-4d80-ad7b-b3bc735f841c",
   "metadata": {},
   "outputs": [
    {
     "name": "stdout",
     "output_type": "stream",
     "text": [
      "{(1, 'B'), (2, 'A'), (3, 'A'), (3, 'B'), (2, 'B'), (1, 'A')}\n"
     ]
    }
   ],
   "source": [
    "numbers = [1, 2, 3]\n",
    "characters = [\"A\", \"B\"]\n",
    "\n",
    "result = {(x, y) for x in numbers for y in characters}\n",
    "print(result)"
   ]
  },
  {
   "cell_type": "markdown",
   "id": "c80a0750-ab7d-4662-97e7-51b6125ad798",
   "metadata": {},
   "source": [
    "# Słowniki składane:"
   ]
  },
  {
   "cell_type": "markdown",
   "id": "2b1dbfe5-9786-4f1d-bcd2-d6ac3d9ed301",
   "metadata": {},
   "source": [
    "Korzystając z omawianej składni można również budować słowniki. To już jest treść \"ponadprogramowa\". Zachęcam jednak do zerknięcia na poniższe przykłady."
   ]
  },
  {
   "cell_type": "code",
   "execution_count": 26,
   "id": "d70335e0-7f16-4877-99c6-272b33e6ca9a",
   "metadata": {},
   "outputs": [
    {
     "name": "stdout",
     "output_type": "stream",
     "text": [
      "{0: 0, 1: 1, 2: 4, 3: 9, 4: 16, 5: 25, 6: 36, 7: 49, 8: 64, 9: 81}\n"
     ]
    }
   ],
   "source": [
    "# Budowanie słownika gdzie kluczem jest liczba a wartością - jej kwadrat:\n",
    "squares = {x: x ** 2 for x in range(10)}\n",
    "print(squares)"
   ]
  },
  {
   "cell_type": "code",
   "execution_count": 27,
   "id": "af43ac84-fa6d-4824-98b6-ab3d6b75d8ea",
   "metadata": {},
   "outputs": [
    {
     "name": "stdout",
     "output_type": "stream",
     "text": [
      "{0: 0, 2: 4, 4: 16, 6: 36, 8: 64}\n"
     ]
    }
   ],
   "source": [
    "# Podobnie jak wyżej, ale filtrowane są liczby nieparzyste:\n",
    "even_squares = {x: x ** 2 for x in range(10) if x % 2 == 0}\n",
    "print(even_squares)"
   ]
  },
  {
   "cell_type": "code",
   "execution_count": 28,
   "id": "b0b861bd-5047-4142-b384-05d42b2ed0ea",
   "metadata": {},
   "outputs": [
    {
     "name": "stdout",
     "output_type": "stream",
     "text": [
      "{0: 0, 1: '--', 2: 4, 3: '--', 4: 16, 5: '--', 6: 36, 7: '--', 8: 64, 9: '--'}\n"
     ]
    }
   ],
   "source": [
    "# Tym razem zamiast wyrzucać liczby nieparzyste, ich kwadrat zastępowany jest: \"--\":\n",
    "even_squares = {x: x ** 2 if x % 2 == 0 else \"--\" for x in range(10)}\n",
    "print(even_squares)"
   ]
  },
  {
   "cell_type": "markdown",
   "id": "10698970-13f5-4630-b646-24c537da12cd",
   "metadata": {},
   "source": [
    "# Wyrażenia lambda (funkcje lambda):"
   ]
  },
  {
   "cell_type": "markdown",
   "id": "86214564-8547-4902-b626-e8a35a5980b6",
   "metadata": {},
   "source": [
    "Wyrażenia lambda to krótkie, anonimowe funkcje, definiowane przy użyciu słowa kluczowego **lambda**. Wyrażenia te pozwalają na definiowanie małych, jednolinijkowych funkcji, w sam raz nadających się do jednokrotnego użycia. Wyrażenia lambda często używane są razem z funkcjami wbudowanymi takimi jak **map** czy **filter** (omówimy je szczegółowo na kolejnych ćwiczeniach).\n",
    "\n",
    "Składnia:\n",
    "```\n",
    "<name> = lambda <input>: <input expr>\n",
    "```\n",
    "\n",
    "Przykłady:"
   ]
  },
  {
   "cell_type": "code",
   "execution_count": 29,
   "id": "2b895356-8881-408a-89a6-bca5d8cacad3",
   "metadata": {},
   "outputs": [
    {
     "name": "stdout",
     "output_type": "stream",
     "text": [
      "5\n"
     ]
    }
   ],
   "source": [
    "# Wyrażenie lambda sumujące dwie liczby:\n",
    "add = lambda x, y: x + y\n",
    "\n",
    "print(add(2, 3))"
   ]
  },
  {
   "cell_type": "code",
   "execution_count": 30,
   "id": "8ab22f5a-7656-4cad-8be3-dc3a7cb74e25",
   "metadata": {},
   "outputs": [
    {
     "name": "stdout",
     "output_type": "stream",
     "text": [
      "[5, 1, 11, 47, 121]\n"
     ]
    }
   ],
   "source": [
    "# Wyrażenie lambda obliczające wartość wielomianu 3-stopnia:\n",
    "poly = lambda x: 2 * x ** 3 + x ** 2 - 7 * x + 5\n",
    "\n",
    "numbers = [poly(x) for x in range(5)]\n",
    "print(numbers)"
   ]
  },
  {
   "cell_type": "markdown",
   "id": "d8f314e4-e763-4d5b-a017-39d47042d532",
   "metadata": {},
   "source": [
    "# Ćwiczenia (na zajęcia):"
   ]
  },
  {
   "cell_type": "markdown",
   "id": "6ed51ea2-7ffc-4695-8083-2a5e0f2efcbc",
   "metadata": {},
   "source": [
    "#### 1. Czy poniższa funkcja jest poprawnie zdefiniowana?\n",
    "\n",
    "```Python\n",
    "def test_func(*args, **kwargs, a):\n",
    "    print(args)\n",
    "    print(kwargs)\n",
    "    print(a)\n",
    "```"
   ]
  },
  {
   "cell_type": "markdown",
   "id": "276af281-e1b0-4985-9930-8ab5ef010d6b",
   "metadata": {},
   "source": [
    "#### 2. Napisz program, który na podstawie listy **a** zbuduje listę **b** tak, że będzie ona zawierała tylko unikalne elementy:\n",
    "\n",
    "```Python\n",
    "a = [2, 5, 1, 1, 2, 8, 6, 5, 5, 4, 0, 2, 0]\n",
    "```"
   ]
  },
  {
   "cell_type": "markdown",
   "id": "9282df6c-9d02-4146-8525-10723dacaabd",
   "metadata": {},
   "source": [
    "#### 3. Czy ze zbioru (set) da się usuwać elementy? Jeśli tak to jaką metodą/metodami?"
   ]
  },
  {
   "cell_type": "markdown",
   "id": "47e5a580-db14-4adc-b5e0-a6f7523766fe",
   "metadata": {},
   "source": [
    "#### 4. Jakie operacje (w kontekście matematycznym) da się wykonywać na typie **set**?"
   ]
  },
  {
   "cell_type": "markdown",
   "id": "a74c82fa-bb5c-49e8-bdcc-368682371e69",
   "metadata": {},
   "source": [
    "#### 5. Napisz listę składaną zwierającą sumy liczb kolejnych krotek podanych w liście **a**:\n",
    "\n",
    "```Python\n",
    "a = [(7, 3), (1, 9), (2, 4), (5, 2, 1, 4), (6, 4, 1)]\n",
    "```"
   ]
  },
  {
   "cell_type": "markdown",
   "id": "fb60c36a-aa33-4f18-a6af-a2084675fab7",
   "metadata": {},
   "source": [
    "#### 6. Napisz listę składaną zawierającą długości kolejnych wyrazów z listy **a**:\n",
    "\n",
    "```Python\n",
    "a = [\"kot\", \"pies\", \"kanarek\", \"rybki\"]\n",
    "```"
   ]
  },
  {
   "cell_type": "markdown",
   "id": "adff6bc5-7760-4611-a1e5-125f427c522f",
   "metadata": {},
   "source": [
    "#### 7. Napisz listę składaną zawierającą wartości poniższego wielomianu dla **2 < x < 10** (użyj wyrażenia lambda):\n",
    "$$w(x)=x^3 - 2x^2 + 5x - 7$$"
   ]
  },
  {
   "cell_type": "markdown",
   "id": "bb933b60-047f-4769-b7cf-519501f0d52e",
   "metadata": {},
   "source": [
    "#### 8. Czy poniższa definicja listy składanej jest poprawna?\n",
    "\n",
    "```Python\n",
    "result = [x / 17 for x in range(3, 15) if x % 3 == 1 else 3.14]\n",
    "```"
   ]
  },
  {
   "cell_type": "markdown",
   "id": "6fd38576-6782-47f9-aa5a-df884be15498",
   "metadata": {},
   "source": [
    "#### 9. Jaka będzie wartość zmiennej **result** po wykonaniu poniższego kodu?\n",
    "\n",
    "```Python\n",
    "range_n = lambda n: [x for x in range(n, 10)]\n",
    "result = [range_n(x) for x in range(10)]\n",
    "```"
   ]
  },
  {
   "cell_type": "markdown",
   "id": "c80190d9-07e1-4652-99d1-3a58483a58d9",
   "metadata": {},
   "source": [
    "#### 10. Lista **b** powstała na podstawie listy **a**. Napisz listę składaną przeprowadzającą odpowiednią transformację.\n",
    "\n",
    "```Python\n",
    "a = [\"kot\", \"pies\", \"kanarek\", \"rybki\", \"chomik\"]\n",
    "b = [\"KANAREK\", \"RYBKI\", \"CHOMIK\"]\n",
    "```"
   ]
  },
  {
   "cell_type": "markdown",
   "id": "c7809434-fd93-41cc-a091-0a68db0f5395",
   "metadata": {},
   "source": [
    "# **Zadania:**"
   ]
  },
  {
   "cell_type": "markdown",
   "id": "9f5494dc-376f-4e0f-9017-8d78c435dcb6",
   "metadata": {},
   "source": [
    "#### Zadanie 1:"
   ]
  },
  {
   "cell_type": "markdown",
   "id": "b5d9b170-c327-4cc3-8212-f3cd51437422",
   "metadata": {},
   "source": [
    "Napisz funkcję wyznaczającą iloczyn liczb podanych przy pomocy argumentu z gwiazdką. Jeśli w wywołaniu, wśród argumentów trafi się wartość nie będąca liczbą, funkcja powinna zwrócić wartość **None**."
   ]
  },
  {
   "cell_type": "markdown",
   "id": "9de9c458-a165-4f95-975c-5228e0d79eb3",
   "metadata": {},
   "source": [
    "#### Zadanie 2:"
   ]
  },
  {
   "cell_type": "markdown",
   "id": "524e700f-9f39-4992-b55e-17ca7e6c2eb4",
   "metadata": {},
   "source": [
    "Napisz program wyznaczający zbiór liter znajdujących się w napisie **a** ale nie w napisie **b** (wielkość liter nie powinna mieć znaczenia):\n",
    "\n",
    "```Python\n",
    "a = \"Programowanie w Pythonie\"\n",
    "b = \"Wielomian trzeciego stopnia\"\n",
    "```"
   ]
  },
  {
   "cell_type": "markdown",
   "id": "28172f0f-46e4-4938-91c1-7b2e89914273",
   "metadata": {},
   "source": [
    "#### Zadanie 3:"
   ]
  },
  {
   "cell_type": "markdown",
   "id": "d9a8d3bf-3e4a-4a6e-a770-5e84263e64b5",
   "metadata": {},
   "source": [
    "Napisz listę składaną zawierającą tylko wyrazy (z napisu **a**) rozpoczynające się od samogłoski.\n",
    "\n",
    "```Python\n",
    "a = \"Nauka jest jak klucz do tajemniczego zamku wiedzy, otwierający przed nami drzwi do nieustannie rozwijającego się świata, gdzie każde odkrycie to kolejny krok w kierunku głębszego zrozumienia naszego otoczenia i samego siebie.\"\n",
    "\n",
    "vowels = {\"a\", \"e\", \"i\", \"y\", \"o\", \"u\"}\n",
    "```"
   ]
  },
  {
   "cell_type": "markdown",
   "id": "528b6a66-99ee-40ae-ab1d-5c3e65e941ed",
   "metadata": {},
   "source": [
    "#### Zadanie 4:"
   ]
  },
  {
   "cell_type": "markdown",
   "id": "a75815a8-49bc-4ac2-b908-217b2e349721",
   "metadata": {},
   "source": [
    "Napisz listę składaną przypisująca wartość **func_a(x)** dla **x** parzystych i **func_b(x)** dla **x** nieparzystych. **0 < x < 10**\n",
    "\n",
    "```Python\n",
    "func_a = lambda x: x * 3.14\n",
    "\n",
    "func_b = lambda x: x / 17\n",
    "```"
   ]
  },
  {
   "cell_type": "markdown",
   "id": "05c33a33-8e8d-4816-90ce-fffaa827b2df",
   "metadata": {},
   "source": [
    "#### Zadanie 5:"
   ]
  },
  {
   "cell_type": "markdown",
   "id": "f37e0db8-dcb9-41fb-bb08-e1d9177c9e6b",
   "metadata": {},
   "source": [
    "Napisz listę składaną zawierającą 10 pierwszych elementów ciągu Fibonacciego (można zdefiniować funkcję pomocniczą)."
   ]
  },
  {
   "cell_type": "markdown",
   "id": "41e35579-4c1e-4187-bfa2-49640cc5c095",
   "metadata": {},
   "source": [
    "#### Zadanie 6*:"
   ]
  },
  {
   "cell_type": "markdown",
   "id": "08d3fd3e-6e76-4abd-af0b-114cedaa524c",
   "metadata": {},
   "source": [
    "Napisz listę składaną zawierającą wszystkie liczby pierwsze mniejsze od 30 (można użyć funkcji z poprzednich ćwiczeń)."
   ]
  }
 ],
 "metadata": {
  "kernelspec": {
   "display_name": "Python 3 (ipykernel)",
   "language": "python",
   "name": "python3"
  },
  "language_info": {
   "codemirror_mode": {
    "name": "ipython",
    "version": 3
   },
   "file_extension": ".py",
   "mimetype": "text/x-python",
   "name": "python",
   "nbconvert_exporter": "python",
   "pygments_lexer": "ipython3",
   "version": "3.12.0"
  }
 },
 "nbformat": 4,
 "nbformat_minor": 5
}
