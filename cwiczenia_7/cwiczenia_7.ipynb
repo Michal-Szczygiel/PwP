{
 "cells": [
  {
   "cell_type": "markdown",
   "id": "c00fb11c-5091-4490-843f-452f2d40cff1",
   "metadata": {},
   "source": [
    "# Importowanie kodu:"
   ]
  },
  {
   "cell_type": "markdown",
   "id": "71e85f24-7ed8-4712-9233-55540512978e",
   "metadata": {},
   "source": [
    "Większość użytecznych programów w języku Python (i ogólnie w każdym języku) korzysta z kodu bibliotecznego. Importowanie do skryptu innych plików z kodem odbywa się poprzez użycie słowa kluczowego **import**."
   ]
  },
  {
   "cell_type": "markdown",
   "id": "04599ded-8e44-4887-8c15-1d79f8dc696f",
   "metadata": {},
   "source": [
    "To jest przykładowy plik z kodem w języku Python przeznaczony do użycia przez inne programy:\\\n",
    "*library.py*\n",
    "\n",
    "```Python\n",
    "def add_numbers(a, b):\n",
    "    return a + b\n",
    "\n",
    "def split_text(text):\n",
    "    return text.split()\n",
    "```"
   ]
  },
  {
   "cell_type": "markdown",
   "id": "46591a6a-9c5f-4636-bcc9-01c00a2e9dd8",
   "metadata": {},
   "source": [
    "To jest program \"główny\" importujący funkcjonalności z pliku *library.py*:\\\n",
    "*main.py*\n",
    "\n",
    "```Python\n",
    "import library\n",
    "\n",
    "result = library.add_numbers(2, 3)\n",
    "print(result)\n",
    "\n",
    "words = library.split_text(\"kot pies kanarek\")\n",
    "print(words)\n",
    "```"
   ]
  },
  {
   "cell_type": "markdown",
   "id": "89b4d361-6f41-4f98-bb1d-7f230d553a93",
   "metadata": {},
   "source": [
    "#### from <...> import <...>"
   ]
  },
  {
   "cell_type": "code",
   "execution_count": 1,
   "id": "7b8e7ca2-1e3f-4cbd-bc57-e593a81eedf9",
   "metadata": {},
   "outputs": [
    {
     "name": "stdout",
     "output_type": "stream",
     "text": [
      "5\n",
      "['kot', 'pies', 'kanarek']\n"
     ]
    }
   ],
   "source": [
    "from library import add_numbers, split_text\n",
    "\n",
    "result = add_numbers(2, 3)\n",
    "print(result)\n",
    "\n",
    "words = split_text(\"kot pies kanarek\")\n",
    "print(words)"
   ]
  },
  {
   "cell_type": "markdown",
   "id": "982b44b8-2dad-4e39-914f-4e292099aa32",
   "metadata": {},
   "source": [
    "#### from <...> import *"
   ]
  },
  {
   "cell_type": "code",
   "execution_count": 2,
   "id": "f284190c-1d8d-42fb-9827-aba8ddfb9e6e",
   "metadata": {},
   "outputs": [
    {
     "name": "stdout",
     "output_type": "stream",
     "text": [
      "5\n",
      "['kot', 'pies', 'kanarek']\n"
     ]
    }
   ],
   "source": [
    "from library import *\n",
    "\n",
    "result = add_numbers(2, 3)\n",
    "print(result)\n",
    "\n",
    "words = split_text(\"kot pies kanarek\")\n",
    "print(words)"
   ]
  },
  {
   "cell_type": "markdown",
   "id": "405bff8a-879d-4df8-9123-a2054ede50e5",
   "metadata": {},
   "source": [
    "#### import <...> as <...>"
   ]
  },
  {
   "cell_type": "code",
   "execution_count": 3,
   "id": "d3a6fbb2-8e57-490f-b81f-caa9278fd09c",
   "metadata": {},
   "outputs": [
    {
     "name": "stdout",
     "output_type": "stream",
     "text": [
      "5\n",
      "['kot', 'pies', 'kanarek']\n"
     ]
    }
   ],
   "source": [
    "import library as lb\n",
    "\n",
    "result = lb.add_numbers(2, 3)\n",
    "print(result)\n",
    "\n",
    "words = lb.split_text(\"kot pies kanarek\")\n",
    "print(words)"
   ]
  },
  {
   "cell_type": "markdown",
   "id": "2b2c266d-d037-4207-8db6-99212d8ade81",
   "metadata": {},
   "source": [
    "#### from <...> import <...> as <...>"
   ]
  },
  {
   "cell_type": "code",
   "execution_count": 4,
   "id": "1aa48a2e-be71-4132-bf48-011e54199d8c",
   "metadata": {},
   "outputs": [
    {
     "name": "stdout",
     "output_type": "stream",
     "text": [
      "5\n",
      "['kot', 'pies', 'kanarek']\n"
     ]
    }
   ],
   "source": [
    "from library import add_numbers as x, split_text as y\n",
    "\n",
    "result = x(2, 3)\n",
    "print(result)\n",
    "\n",
    "words = y(\"kot pies kanarek\")\n",
    "print(words)"
   ]
  },
  {
   "cell_type": "markdown",
   "id": "b708166f-5446-4d12-8f07-79355bbedab9",
   "metadata": {},
   "source": [
    "#### Przykład użycia biblioteki języka Python:"
   ]
  },
  {
   "cell_type": "code",
   "execution_count": 5,
   "id": "34ed445e-91b1-48de-bb43-6a773ea58823",
   "metadata": {},
   "outputs": [
    {
     "data": {
      "image/png": "[encoded data removed]",
      "text/plain": [
       "<Figure size 640x480 with 1 Axes>"
      ]
     },
     "metadata": {},
     "output_type": "display_data"
    }
   ],
   "source": [
    "import matplotlib.pyplot as plt\n",
    "\n",
    "t = [1, 2, 3, 4, 5]\n",
    "V = [0.54, 1.54, 2.65, 3.87, 7.65]\n",
    "\n",
    "plt.plot(t, V, color=\"red\")\n",
    "plt.scatter(t, V, c=\"blue\")\n",
    "plt.xlabel(\"t [s]\")\n",
    "plt.ylabel(\"V [m/s]\")\n",
    "plt.grid()\n",
    "plt.show()"
   ]
  },
  {
   "cell_type": "markdown",
   "id": "b96016d5-8f22-4998-832f-510e1a030314",
   "metadata": {},
   "source": [
    "# Programowanie obiektowe - metody specjalne (c. d.):"
   ]
  },
  {
   "cell_type": "markdown",
   "id": "db6cc288-b1a8-4d90-99f7-0d58fa9a0a05",
   "metadata": {},
   "source": [
    "#### **__ getitem __:**"
   ]
  },
  {
   "cell_type": "code",
   "execution_count": 6,
   "id": "127a0368-b848-4274-9ad4-905c96d30463",
   "metadata": {},
   "outputs": [
    {
     "name": "stdout",
     "output_type": "stream",
     "text": [
      "[6.54, 3.34, 8.76, 5.43, 2.23]\n",
      "8.76\n"
     ]
    },
    {
     "ename": "IndexError",
     "evalue": "list index out of range",
     "output_type": "error",
     "traceback": [
      "\u001b[1;31m---------------------------------------------------------------------------\u001b[0m",
      "\u001b[1;31mIndexError\u001b[0m                                Traceback (most recent call last)",
      "Cell \u001b[1;32mIn[6], line 21\u001b[0m\n\u001b[0;32m     18\u001b[0m \u001b[38;5;28mprint\u001b[39m(value_1)\n\u001b[0;32m     20\u001b[0m \u001b[38;5;66;03m# Co się stanie po przekroczeniu długości tablicy?\u001b[39;00m\n\u001b[1;32m---> 21\u001b[0m value_3 \u001b[38;5;241m=\u001b[39m \u001b[43mbuffer\u001b[49m\u001b[43m[\u001b[49m\u001b[38;5;241;43m100\u001b[39;49m\u001b[43m]\u001b[49m\n\u001b[0;32m     22\u001b[0m \u001b[38;5;28mprint\u001b[39m(value_3)\n",
      "Cell \u001b[1;32mIn[6], line 10\u001b[0m, in \u001b[0;36mBuffer.__getitem__\u001b[1;34m(self, index)\u001b[0m\n\u001b[0;32m      9\u001b[0m \u001b[38;5;28;01mdef\u001b[39;00m \u001b[38;5;21m__getitem__\u001b[39m(\u001b[38;5;28mself\u001b[39m, index):\n\u001b[1;32m---> 10\u001b[0m     \u001b[38;5;28;01mreturn\u001b[39;00m \u001b[38;5;28;43mself\u001b[39;49m\u001b[38;5;241;43m.\u001b[39;49m\u001b[43mdata\u001b[49m\u001b[43m[\u001b[49m\u001b[43mindex\u001b[49m\u001b[43m]\u001b[49m\n",
      "\u001b[1;31mIndexError\u001b[0m: list index out of range"
     ]
    }
   ],
   "source": [
    "class Buffer:\n",
    "    def __init__(self, data):\n",
    "        self.data = data\n",
    "\n",
    "    def __repr__(self):\n",
    "        return \"{}\".format(self.data)\n",
    "\n",
    "    # Metoda specjalna, nadająca zachowanie operatora indeksowania:\n",
    "    def __getitem__(self, index):\n",
    "        return self.data[index]\n",
    "\n",
    "\n",
    "buffer = Buffer([6.54, 3.34, 8.76, 5.43, 2.23])\n",
    "print(buffer)\n",
    "\n",
    "# Teraz obiekt klasy Buffer jest indeksowalny\n",
    "value_1 = buffer[2]\n",
    "print(value_1)\n",
    "\n",
    "# Co się stanie po przekroczeniu długości tablicy?\n",
    "value_3 = buffer[100]\n",
    "print(value_3)"
   ]
  },
  {
   "cell_type": "markdown",
   "id": "ad5ee7f9-0692-436e-909b-a03a209f22b5",
   "metadata": {},
   "source": [
    "#### **__ setitem __:**"
   ]
  },
  {
   "cell_type": "code",
   "execution_count": 7,
   "id": "6d4b419e-390e-4946-ab45-12d98e0e054f",
   "metadata": {},
   "outputs": [
    {
     "name": "stdout",
     "output_type": "stream",
     "text": [
      "[6.54, 3.34, 8.76, 5.43, 2.23]\n",
      "[0.0, 3.34, 8.76, 5.43, 2.23]\n"
     ]
    }
   ],
   "source": [
    "class Buffer:\n",
    "    def __init__(self, data):\n",
    "        self.data = data\n",
    "\n",
    "    def __repr__(self):\n",
    "        return \"{}\".format(self.data)\n",
    "\n",
    "    # Nadanie możliwości przypisania wartości pod indeks\n",
    "    # z wykorzystaniem operatora indeksowania:\n",
    "    def __setitem__(self, index, value):\n",
    "        self.data[index] = value\n",
    "\n",
    "buffer = Buffer([6.54, 3.34, 8.76, 5.43, 2.23])\n",
    "print(buffer)\n",
    "\n",
    "# Umieszczenie 0.0 na początku listy:\n",
    "buffer[0] = 0.0\n",
    "print(buffer)"
   ]
  },
  {
   "cell_type": "markdown",
   "id": "8772d8a8-a4bf-4721-86d5-74677d339679",
   "metadata": {},
   "source": [
    "#### **__ contains __:**"
   ]
  },
  {
   "cell_type": "code",
   "execution_count": 8,
   "id": "1e0c6bd1-169c-460d-9c06-3252915d84fa",
   "metadata": {},
   "outputs": [
    {
     "name": "stdout",
     "output_type": "stream",
     "text": [
      "[6.54, 3.34, 8.76, 5.43, 2.23]\n",
      "True\n"
     ]
    }
   ],
   "source": [
    "class Buffer:\n",
    "    def __init__(self, data):\n",
    "        self.data = data\n",
    "\n",
    "    def __repr__(self):\n",
    "        return \"{}\".format(self.data)\n",
    "\n",
    "    # Nadanie zachowania słowa kluczowego in:\n",
    "    def __contains__(self, value):\n",
    "        return value in self.data\n",
    "\n",
    "buffer = Buffer([6.54, 3.34, 8.76, 5.43, 2.23])\n",
    "print(buffer)\n",
    "\n",
    "# Sprawdzenie czy 3.34 znajduje się w obiekcie klasy Buffer\n",
    "result = 3.34 in buffer\n",
    "print(result)"
   ]
  },
  {
   "cell_type": "markdown",
   "id": "cd09ff0a-0699-437e-b844-882fddfe3a64",
   "metadata": {},
   "source": [
    "#### **__ hash __ & __ eq __:**"
   ]
  },
  {
   "cell_type": "code",
   "execution_count": 9,
   "id": "84a1db7e-7c10-456e-8422-1ace20663b3e",
   "metadata": {},
   "outputs": [
    {
     "name": "stdout",
     "output_type": "stream",
     "text": [
      "{Anna Kowalska, age: 45: 'kot', David Smith, age: 32: 'pies', David Smith, age: 32: 'kanarek'}\n"
     ]
    }
   ],
   "source": [
    "class Person:\n",
    "    def __init__(self, name, surname, age):\n",
    "        self.name = name\n",
    "        self.surname = surname\n",
    "        self.age = age\n",
    "\n",
    "    def __repr__(self):\n",
    "        return \"{} {}, age: {}\".format(self.name, self.surname, self.age)\n",
    "\n",
    "\n",
    "persons = {}\n",
    "\n",
    "persons[Person(\"Anna\", \"Kowalska\", 45)] = \"kot\"\n",
    "persons[Person(\"David\", \"Smith\", 32)] = \"pies\"\n",
    "\n",
    "# Ponowne wstawienie obiektu Person(\"David\", \"Smith\", 32)\n",
    "# nie podmieniło wartości pod już istniejącym kluczem:\n",
    "persons[Person(\"David\", \"Smith\", 32)] = \"kanarek\"\n",
    "\n",
    "print(persons)"
   ]
  },
  {
   "cell_type": "code",
   "execution_count": 10,
   "id": "618ba538-5fde-4e57-a123-b6ea16df4fa8",
   "metadata": {},
   "outputs": [
    {
     "name": "stdout",
     "output_type": "stream",
     "text": [
      "135729886273\n",
      "135732162826\n",
      "False\n"
     ]
    }
   ],
   "source": [
    "person_a = Person(\"David\", \"Smith\", 32)\n",
    "person_b = Person(\"David\", \"Smith\", 32)\n",
    "\n",
    "# Problem: mimo, że obiekty mają tą samą wartość, dla Pythona są inne:\n",
    "print(hash(person_a))\n",
    "print(hash(person_b))\n",
    "print(person_a == person_b)"
   ]
  },
  {
   "cell_type": "code",
   "execution_count": 11,
   "id": "055e4383-efe9-4075-96d2-79614b37f7c9",
   "metadata": {},
   "outputs": [
    {
     "name": "stdout",
     "output_type": "stream",
     "text": [
      "{Anna Kowalska, age: 45: 'kot', David Smith, age: 32: 'kanarek'}\n"
     ]
    }
   ],
   "source": [
    "class Person:\n",
    "    def __init__(self, name, surname, age):\n",
    "        self.name = name\n",
    "        self.surname = surname\n",
    "        self.age = age\n",
    "\n",
    "    def __repr__(self):\n",
    "        return \"{} {}, age: {}\".format(self.name, self.surname, self.age)\n",
    "\n",
    "    # Zdefiniowanie w jaki sposób ma być liczony hash obiektu klasy Person:\n",
    "    def __hash__(self):\n",
    "        return hash((self.name, self.surname, self.age))\n",
    "\n",
    "    # Zdefiniownie kiedy obiekty klasy Person są sobie równe:\n",
    "    def __eq__(self, other):\n",
    "        return (self.name, self.surname, self.age) == (other.name, other.surname, other.age)\n",
    "\n",
    "persons = {}\n",
    "\n",
    "persons[Person(\"Anna\", \"Kowalska\", 45)] = \"kot\"\n",
    "persons[Person(\"David\", \"Smith\", 32)] = \"pies\"\n",
    "persons[Person(\"David\", \"Smith\", 32)] = \"kanarek\"\n",
    "\n",
    "print(persons)"
   ]
  },
  {
   "cell_type": "markdown",
   "id": "5e48df59-e9f8-4ab6-ab19-0ceff419096a",
   "metadata": {},
   "source": [
    "#### **__ iter __ & __ next __:**"
   ]
  },
  {
   "cell_type": "code",
   "execution_count": 12,
   "id": "ab7ee97b-a34e-4e2e-b735-c79bd9509504",
   "metadata": {},
   "outputs": [
    {
     "name": "stdout",
     "output_type": "stream",
     "text": [
      "5.43\n",
      "7.76\n",
      "4.32\n",
      "9.87\n",
      "6.54\n",
      "2.21\n",
      "-------- I jeszcze raz:\n",
      "5.43\n",
      "7.76\n",
      "4.32\n",
      "9.87\n",
      "6.54\n",
      "2.21\n"
     ]
    }
   ],
   "source": [
    "class Buffer:\n",
    "    def __init__(self, data):\n",
    "        self.data = data\n",
    "        self.index = 0\n",
    "\n",
    "    # Zdefiniowanie w jaki sposób obiekt klasy Buffer zamienia się w iterator:\n",
    "    def __iter__(self):\n",
    "        self.index = 0\n",
    "        return self\n",
    "\n",
    "    # Zdefiniowanie w jaki sposób pobierane są kolejne wartości z obiektu klasy Buffer:\n",
    "    def __next__(self):\n",
    "        if self.index < len(self.data):\n",
    "            self.index += 1\n",
    "            return self.data[self.index - 1]\n",
    "        else:\n",
    "            # Zatrzymanie działania iteratora:\n",
    "            raise StopIteration\n",
    "\n",
    "\n",
    "buffer = Buffer([5.43, 7.76, 4.32, 9.87, 6.54, 2.21])\n",
    "\n",
    "for value in buffer:\n",
    "    print(value)\n",
    "\n",
    "print(\"-------- I jeszcze raz:\")\n",
    "\n",
    "for value in buffer:\n",
    "    print(value)"
   ]
  },
  {
   "cell_type": "markdown",
   "id": "12134624-0a11-4258-82af-5c7e0b8cc744",
   "metadata": {},
   "source": [
    "# Dziedziczenie:"
   ]
  },
  {
   "cell_type": "markdown",
   "id": "c4f6fcd4-a415-44cf-9b18-5acdf2299460",
   "metadata": {},
   "source": [
    "Dziedziczenie daje możliwość budowania i rozszerzania klas na podstawie innych klas bez potrzeby przepisywania kodu. Dziedziczenie polega na wzięciu klasy bazowej, zbudowaniu na jej podstawie innej klasy i ewentualnym dodaniu do tak powstałej klasy nowych metod, pól, stałych... Klasa bazowa nie jest w żaden sposób zmieniana podczas tej procedury."
   ]
  },
  {
   "cell_type": "code",
   "execution_count": 13,
   "id": "cd67d972-2ec3-471a-a81e-799b884d9d64",
   "metadata": {},
   "outputs": [
    {
     "name": "stdout",
     "output_type": "stream",
     "text": [
      "Joanna Kowalska, age: 25\n"
     ]
    }
   ],
   "source": [
    "# Definicja kalsy bazowej:\n",
    "class Person:\n",
    "    def __init__(self, name, surname, age):\n",
    "        self.name = name\n",
    "        self.surname = surname\n",
    "        self.age = age\n",
    "\n",
    "    def __repr__(self):\n",
    "        return \"{} {}, age: {}\".format(self.name, self.surname, self. age)\n",
    "\n",
    "# Definicja klasy Student, dziedziczącej po klasie Person:\n",
    "class Student(Person):\n",
    "    pass\n",
    "\n",
    "\n",
    "# Zachowania klasy Student jest dokładnie takie samo jak zachowanie klasy Person:\n",
    "student = Student(\"Joanna\", \"Kowalska\", 25)\n",
    "print(student)"
   ]
  },
  {
   "cell_type": "code",
   "execution_count": 14,
   "id": "005d05fd-ba25-4c68-892c-5318deb95914",
   "metadata": {},
   "outputs": [
    {
     "name": "stdout",
     "output_type": "stream",
     "text": [
      "Joanna Kowalska, age: 25\n",
      "Joanna\n",
      "[5, 4, 3, 5]\n"
     ]
    }
   ],
   "source": [
    "# Definicja kalsy bazowej:\n",
    "class Person:\n",
    "    def __init__(self, name, surname, age):\n",
    "        self.name = name\n",
    "        self.surname = surname\n",
    "        self.age = age\n",
    "\n",
    "    def __repr__(self):\n",
    "        return \"{} {}, age: {}\".format(self.name, self.surname, self. age)\n",
    "\n",
    "    def get_name(self):\n",
    "        return self.name\n",
    "\n",
    "\n",
    "# Definicja klasy Student, dziedziczącej po klasie Person:\n",
    "class Student(Person):\n",
    "    def __init__(self, name, surname, age, grades):\n",
    "        # Ręczne wywołania inicjalizatora klasy Person:\n",
    "        Person.__init__(self, name, surname, age)\n",
    "\n",
    "        # Utworzenie pola w klasie Student:\n",
    "        self.grades = grades\n",
    "\n",
    "\n",
    "# Użycie inicjalizatora zdefiniowanego w klasie Student:\n",
    "student = Student(\"Joanna\", \"Kowalska\", 25, [5, 4, 3, 5])\n",
    "\n",
    "# Użycie zachowania klasy bazowej:\n",
    "print(student)\n",
    "\n",
    "# Użycie zachowania klasy bazowej:\n",
    "print(student.get_name())\n",
    "\n",
    "# Użycie pola zdefiniowanego w klasue Student:\n",
    "print(student.grades)"
   ]
  },
  {
   "cell_type": "markdown",
   "id": "7feaf560-df90-4cce-901b-42420d81b8c5",
   "metadata": {},
   "source": [
    "# Dziedziczenie i polimorfizm:"
   ]
  },
  {
   "cell_type": "code",
   "execution_count": 15,
   "id": "062bd854-74ce-4740-ad86-4ce3b62306c3",
   "metadata": {},
   "outputs": [
    {
     "name": "stdout",
     "output_type": "stream",
     "text": [
      "Arthur: to jest obiekt klasy: Dog\n",
      "Winston: to jest obiekt klasy: Cat\n",
      "Generic name: [generyczna informacja]\n",
      "Moon Moon: to jest obiekt klasy: Dog\n"
     ]
    }
   ],
   "source": [
    "# Definicja klasy bazowej:\n",
    "class Animal:\n",
    "    # Incjalizator klasy bazowej:\n",
    "    def __init__(self, name):\n",
    "        self.name = name\n",
    "\n",
    "    # Definicja metody get_info:\n",
    "    def get_info(self):\n",
    "        print(\"{}: [generyczna informacja]\".format(self.name))\n",
    "\n",
    "\n",
    "# Klasa Dog dziedzicząca po klasie Animal:\n",
    "class Dog(Animal):\n",
    "    # Własna definicja metody get_info\n",
    "    def get_info(self):\n",
    "        print(\"{}: to jest obiekt klasy: Dog\".format(self.name))\n",
    "\n",
    "\n",
    "# Klasa Cat dziedzicząca po klasie Animal:\n",
    "class Cat(Animal):\n",
    "    # Własna definicja metody get_info\n",
    "    def get_info(self):\n",
    "        print(\"{}: to jest obiekt klasy: Cat\".format(self.name))\n",
    "\n",
    "\n",
    "animals = [\n",
    "    Dog(\"Arthur\"),\n",
    "    Cat(\"Winston\"),\n",
    "    Animal(\"Generic name\"),\n",
    "    Dog(\"Moon Moon\")\n",
    "]\n",
    "\n",
    "for animal in animals:\n",
    "    animal.get_info()"
   ]
  },
  {
   "cell_type": "markdown",
   "id": "1aeb8e76-2715-4e9a-9118-d57cf15594ee",
   "metadata": {},
   "source": [
    "# Ćwiczenia (na zajęcia):"
   ]
  },
  {
   "cell_type": "markdown",
   "id": "cf4ac7b1-8897-4817-9c15-6fbb3b525518",
   "metadata": {},
   "source": [
    "#### 1. W Twoim skrypcie utwórz obiekt klasy Student, zdefiniowanej w pliku *lib_cw1.py*."
   ]
  },
  {
   "cell_type": "markdown",
   "id": "7b80701c-b2b3-4f59-8fa6-af641738da75",
   "metadata": {},
   "source": [
    "#### 2. Zaimportuj bibliotekę **math** (jest to moduł wbudowany), wypisz znajdujące się w niej funkcje i stałe."
   ]
  },
  {
   "cell_type": "markdown",
   "id": "d91be9d3-5e03-4ac8-a43e-eaf5e2be1c55",
   "metadata": {},
   "source": [
    "#### 3. Przy pomocy funkcji **uniform** z modułu **random**, generujacej liczby losowe, napisz własną funkcję zwracającą listę liczb losowych (float) z zadanego przedziału i o zadanej długości.\n",
    "\n",
    "```Python\n",
    "from random import uniform\n",
    "\n",
    "# Generowanie liczby z rozkładu płaskiego z przedziału 0.0 - 10.0\n",
    "value = uniform(0.0, 10.0)\n",
    "```"
   ]
  },
  {
   "cell_type": "markdown",
   "id": "4fc59f1a-b8fa-4a0b-b048-8c93f59510b7",
   "metadata": {},
   "source": [
    "#### 4. Dodaj możliwość uzyskiwania wartości z obiektów klasy KVdata przy pomocy operatora indeksowania:\n",
    "\n",
    "```Python\n",
    "class KVdata:\n",
    "    def __init__(self, data):\n",
    "        self.data = data\n",
    "\n",
    "\n",
    "kvdata = KVdata({\"kot\": 65, \"pies\": 12, \"kanarek\": 87})\n",
    "value = kvdata[\"pies\"]\n",
    "print(value)\n",
    "```"
   ]
  },
  {
   "cell_type": "markdown",
   "id": "abc89ebc-b85e-46f0-841a-4d80e9ba23dd",
   "metadata": {},
   "source": [
    "#### 5. Zmodyfikuj definicję klasy DataBucket tak, aby jej obiekty były iterowalne:\n",
    "\n",
    "```Python\n",
    "class DataBucket:\n",
    "    def __init__(self, data):\n",
    "        self.data = data\n",
    "\n",
    "data_a = DataBucket([1, 6, 4, 2, 7])\n",
    "data_b = DataBucket(\"Text\")\n",
    "data_c = DataBucket((\"kot\", \"pies\", \"kanarek\"))\n",
    "\n",
    "for value in data_a:\n",
    "    print(value)\n",
    "\n",
    "print(\"---------\")\n",
    "\n",
    "for value in data_b:\n",
    "    print(value)\n",
    "\n",
    "print(\"---------\")\n",
    "\n",
    "for value in data_c:\n",
    "    print(value)\n",
    "```"
   ]
  },
  {
   "cell_type": "markdown",
   "id": "18dedf36-605e-4cd1-96ac-bd84f118a91f",
   "metadata": {},
   "source": [
    "#### 6. Zmodyfikuj definicję klasy Vec2D tak, aby obiekty tej klasy mogły być kluczami słownika:\n",
    "\n",
    "```Python\n",
    "class Vec2D:\n",
    "    def __init__(self, x, y):\n",
    "        self.x = x\n",
    "        self.y = y\n",
    "\n",
    "    def __repr__(self):\n",
    "        return \"[{}, {}]\".format(self.x, self.y)\n",
    "\n",
    "\n",
    "data = {}\n",
    "\n",
    "data[Vec2D(1, 2)] = \"A\"\n",
    "data[Vec2D(3, 5)] = \"B\"\n",
    "data[Vec2D(1, 2)] = \"C\"\n",
    "\n",
    "print(data)\n",
    "```"
   ]
  },
  {
   "cell_type": "markdown",
   "id": "94780f5c-a09d-410e-8ea9-4723f6d5f65c",
   "metadata": {},
   "source": [
    "#### 7. Co będzie wynikiem działania poniższego kodu?\n",
    "\n",
    "```Python\n",
    "import urllib\n",
    "\n",
    "url = \"https://pl.wikipedia.org/wiki/Python\"\n",
    "\n",
    "response = urllib.request.urlopen(url)\n",
    "html_content = response.read()\n",
    "content = html_content.decode(\"utf-8\")\n",
    "\n",
    "print(content)\n",
    "```"
   ]
  },
  {
   "cell_type": "markdown",
   "id": "d032eea8-59db-4312-afdb-b05621881f40",
   "metadata": {},
   "source": [
    "#### 8. Wykorzystując moduł **pickle** zapisz do pliku poniższą strukturę danych, wczytaj ją z pliku a na końcu wypisz.\n",
    "\n",
    "```Python\n",
    "data = [\n",
    "    {\"a\": 7.65, \"b\": 321},\n",
    "    [1, 2, 3, 4, 5],\n",
    "    \"kanarek\"\n",
    "]\n",
    "```\n",
    "\n",
    "Podpowiedź:\n",
    "```Python\n",
    "import pickle\n",
    "\n",
    "# Zrzucenie danych do formy binarnej:\n",
    "blob = pickle.dumps(data)\n",
    "\n",
    "# Załadowanie danych z formy binarnej:\n",
    "data = pickle.loads(blob)\n",
    "```"
   ]
  },
  {
   "cell_type": "markdown",
   "id": "69e21615-b85d-4f17-9913-9f7c64a2f710",
   "metadata": {},
   "source": [
    "#### 9. Zdefiniuj metodę __ repr __ kalsy Student tak, aby zwracała ona reprezentację zawierającą informację o ocenach:\n",
    "\n",
    "```Python\n",
    "class Person:\n",
    "    def __init__(self, name, surname, age):\n",
    "        self.name = name\n",
    "        self.surname = surname\n",
    "        self.age = age\n",
    "\n",
    "    def __repr__(self):\n",
    "        return \"{} {}, age: {}\".format(self.name, self.surname, self. age)\n",
    "\n",
    "\n",
    "class Student(Person):\n",
    "    def __init__(self, name, surname, age, grades):\n",
    "        Person.__init__(self, name, surname, age)\n",
    "        self.grades = grades\n",
    "\n",
    "\n",
    "student = Student(\"Joanna\", \"Kowalska\", 22, [5, 3, 4, 5])\n",
    "print(student)\n",
    "```"
   ]
  },
  {
   "cell_type": "markdown",
   "id": "6a318b4c-8daa-4af2-ad9f-9999b116fea0",
   "metadata": {},
   "source": [
    "#### 10. Przy pomocy funkcjonalności z modułu **time** zmierz jak dużo czasu potrzeba na wykonanie się funkcji **job**:\n",
    "\n",
    "```Python\n",
    "import random\n",
    "\n",
    "def job():\n",
    "    buffer = [random.uniform(0.0, 10.0) for _ in range(1000000)]\n",
    "    buffer.sort()\n",
    "    return buffer[-1]\n",
    "```\n",
    "\n",
    "Podpowiedź:\n",
    "\n",
    "```Python\n",
    "import time\n",
    "\n",
    "# Uzyskiwanie odczytu zegara systemowego:\n",
    "a = time.time()\n",
    "\n",
    "b = time.time()\n",
    "\n",
    "# Uzyskiwanie różnicy czasu pomiędzy dwoma pomiarami:\n",
    "delta = b - a\n",
    "```"
   ]
  },
  {
   "cell_type": "markdown",
   "id": "473b4ae2-d60b-4930-a9c0-f4a54b811d9c",
   "metadata": {},
   "source": [
    "# **Zadania:**"
   ]
  },
  {
   "cell_type": "markdown",
   "id": "c33210ac-64f4-4029-b152-92ef428b398e",
   "metadata": {},
   "source": [
    "#### Zadanie 1:"
   ]
  },
  {
   "cell_type": "markdown",
   "id": "6da5ed7f-991d-4388-8d69-cf3f3b1bf40b",
   "metadata": {},
   "source": [
    "Uzupełnij definicję klasy KVdata:\n",
    "\n",
    "```Python\n",
    "class KVdata:\n",
    "    def __init__(self, data):\n",
    "        # self.data zawsze będzie słownikiem (dict)\n",
    "        self.data = data\n",
    "\n",
    "    def __getitem__(self, key):\n",
    "        # metoda __getitem__ powina zwracać wartość z self.data\n",
    "        # dla zadanego klucza\n",
    "\n",
    "    def __iter__(self):\n",
    "        # metoda __iter__ powinna przygotować obiekt klasy KVdata\n",
    "        # do iteracji (index?)\n",
    "\n",
    "    def __next__(self):\n",
    "        # metoda __next__ powinna zwracać kolejne pary: klucz - wartość\n",
    "        # w postaci krotek\n",
    "\n",
    "    def __contains__(self, key):\n",
    "        # metoda __contains__ powinna zwracać True|False w zależności\n",
    "        # od tego czy zadany klucz znajduje się w słowniku self.data\n",
    "```"
   ]
  },
  {
   "cell_type": "markdown",
   "id": "2a5375ee-e4df-4195-84fa-6f7e42ac1441",
   "metadata": {},
   "source": [
    "#### Zadanie 2:"
   ]
  },
  {
   "cell_type": "markdown",
   "id": "cf4f9ded-600c-4efb-aaaa-d7fb3a4eaecd",
   "metadata": {},
   "source": [
    "Zaimplementuje metody __ hash __ i __ eq __ dla klasy DataBucket. Sprawdź czy obiekty klasy DataBucket zachowują się poprawnie będąc kluczmi słownika.\n",
    "\n",
    "```Python\n",
    "class DataBucket:\n",
    "    def __init__(self, a, b):\n",
    "        # self.a zawsze jest krotką zawierającą typy proste (int, float, str)\n",
    "        self.a = a\n",
    "\n",
    "        # self.b zawsze jest napisem (str)\n",
    "        self.b = b\n",
    "```"
   ]
  },
  {
   "cell_type": "markdown",
   "id": "fa3e4a8b-b68e-4cdc-8c4f-e01b12863a94",
   "metadata": {},
   "source": [
    "#### Zadanie 3:"
   ]
  },
  {
   "cell_type": "markdown",
   "id": "acd67666-de68-4653-88e8-5b3c9eeb9e7a",
   "metadata": {},
   "source": [
    "Napisz program-zgadywankę, który losuje liczbę całkowitą z przedziału 0 - 100 (nie pokazuje jej). Zadaniem użytkownika jest zgadnięcie tej liczby (program powinien prosić o podanie liczby i wczytać ją przy pomocy funkcji wbudowanej **input**). Program powinien podpowiadać jeśli podana liczba jest za duż lub za mała. Zabawa kończy się kiedy użytkowik zgadnie liczbę.\n",
    "\n",
    "Podowiedź:\\\n",
    "Do generowania liczby użyj funkcji z modułu **random**: **randint**."
   ]
  },
  {
   "cell_type": "markdown",
   "id": "c5d89189-e9be-4cae-af81-2b6203634c7b",
   "metadata": {},
   "source": [
    "#### Zadanie 4:"
   ]
  },
  {
   "cell_type": "markdown",
   "id": "f4057c29-b684-4c17-a54f-550127f3a254",
   "metadata": {},
   "source": [
    "Sprawdź która z poniższych funkcji (**a** czy **b**) wykona się szybciej. Obie funkcje przyjmują jako argument zmienną **buffer**.\n",
    "\n",
    "```Python\n",
    "import random\n",
    "\n",
    "buffer = [random.uniform(0.0, 10.0) for _ in range(1000000)]\n",
    "\n",
    "\n",
    "def a(buffer):\n",
    "    return [x ** 2 for x in buffer]\n",
    "\n",
    "\n",
    "def b(buffer):\n",
    "    new_buffer = []\n",
    "\n",
    "    for x in buffer:\n",
    "        new_buffer.append(x ** 2)\n",
    "\n",
    "    return new_buffer\n",
    "```\n",
    "\n",
    "Podpowiedź:\\\n",
    "Wykorzystaj funkcjinalności z modułu **time**."
   ]
  },
  {
   "cell_type": "markdown",
   "id": "dc7a7bf7-e082-478a-97c0-a3e2b2f7f568",
   "metadata": {},
   "source": [
    "#### Zadanie 5:"
   ]
  },
  {
   "cell_type": "markdown",
   "id": "a82e0786-ab90-40cf-81cb-fea944aecbdb",
   "metadata": {},
   "source": [
    "Napisz mini-bibliotekę *\"lib_zad5\"* zawierającą funkcję:\n",
    "- wyznaczającą długość pomiędzy dwoma punktami w przestrzeni dwuwymiarowej,\n",
    "- wyznaczającą n-ty wyraz ciągu Fibonacciego,\n",
    "- zwracającą zmiennoprzecinkową liczbę losową z podanego zakresu.\n",
    "\n",
    "Przetestuj działanie biblioteki."
   ]
  },
  {
   "cell_type": "markdown",
   "id": "ee6df4f1-5c13-4f88-b5c6-a97c4be0dd33",
   "metadata": {},
   "source": [
    "#### Zadanie 6*:"
   ]
  },
  {
   "cell_type": "markdown",
   "id": "ec101675-ed8a-4734-93be-227c8b29939b",
   "metadata": {},
   "source": [
    "Napisz definicję klasy **RandomBuffer**, dziedziczącej po klasie **Random**. Klasa powinna mieć funkcję służącą do generowania listy liczb losowych (**get_random_buffer**) w zadanym zakresie i o zadanej długości.\n",
    "\n",
    "```Python\n",
    "import random\n",
    "\n",
    "class Random:\n",
    "    def __init__(self):\n",
    "        pass\n",
    "\n",
    "    def get_random_number(self, lower_bound, upper_bound):\n",
    "        return random.uniform(lower_bound, upper_bound)\n",
    "```"
   ]
  }
 ],
 "metadata": {
  "kernelspec": {
   "display_name": "Python 3 (ipykernel)",
   "language": "python",
   "name": "python3"
  },
  "language_info": {
   "codemirror_mode": {
    "name": "ipython",
    "version": 3
   },
   "file_extension": ".py",
   "mimetype": "text/x-python",
   "name": "python",
   "nbconvert_exporter": "python",
   "pygments_lexer": "ipython3",
   "version": "3.12.0"
  }
 },
 "nbformat": 4,
 "nbformat_minor": 5
}
