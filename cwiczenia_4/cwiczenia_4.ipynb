{
 "cells": [
  {
   "cell_type": "markdown",
   "id": "12ed9cd2-2aeb-48dc-a904-7827e1e277ca",
   "metadata": {},
   "source": [
    "# Funkcje - uzupełnienie 2:"
   ]
  },
  {
   "cell_type": "markdown",
   "id": "52016321-7e1c-4f9f-a79b-c51df6d49277",
   "metadata": {},
   "source": [
    "### Argumenty funkcji z wartościami domyślnymi:"
   ]
  },
  {
   "cell_type": "markdown",
   "id": "b15cd37a-bf67-4ab8-b992-5090ace336af",
   "metadata": {},
   "source": [
    "Argumentom funkcji można przypisć wartość domyślną (w definicji funkcji). Dla takich argumentów nie ma konieczności precyzowania konkretnej wartości w trakcie wywołania funkcji."
   ]
  },
  {
   "cell_type": "code",
   "execution_count": 1,
   "id": "1df4c9ca-e9f0-4cbf-9b19-1e7ff065f9c7",
   "metadata": {},
   "outputs": [
    {
     "name": "stdout",
     "output_type": "stream",
     "text": [
      "a: 1, b: 2, c: 73\n",
      "a: 1, b: 2, c: 3\n",
      "a: 1, b: 2, c: 7\n"
     ]
    }
   ],
   "source": [
    "# Definicja funkcji z 2 argumentami pozycyjnymi i jednym argumentem z wartością domyślną:\n",
    "def test_func(a, b, c=73):\n",
    "    print(f\"a: {a}, b: {b}, c: {c}\")\n",
    "\n",
    "# Wywołanie funkcji bez precyzowania wartości argumentu c:\n",
    "test_func(1, 2)\n",
    "\n",
    "# Jawne precyzowanie wartości argumentu c:\n",
    "test_func(1, 2, c=3)\n",
    "\n",
    "# Wartość argumentu c wynika z kolejności przekazywania argumentów w wywołaniu funkcji:\n",
    "test_func(1, 2, 7)"
   ]
  },
  {
   "cell_type": "code",
   "execution_count": 2,
   "id": "0c9c4b9d-63a7-4b2c-8943-d0623722ca5b",
   "metadata": {},
   "outputs": [
    {
     "name": "stdout",
     "output_type": "stream",
     "text": [
      "a: 2, b: 0, c: -1\n",
      "a: 2, b: 0, c: pies\n",
      "a: 2, b: 73, c: kanarek\n"
     ]
    }
   ],
   "source": [
    "def test_func2(a, b=73, c=\"kot\"):\n",
    "    print(f\"a: {a}, b: {b}, c: {c}\")\n",
    "\n",
    "# Wartości argumentów a, b i c wynikają z kolejności przekazywania argumentów w wywołaniu funkcji:\n",
    "test_func2(2, 0, -1)\n",
    "\n",
    "# Przy definiowaniu wartości argumentów w sposób jawny nie musi być zachowana kolejność:\n",
    "test_func2(2, c=\"pies\", b=0)\n",
    "\n",
    "# Można pomijać niektóre argumenty z wartością domyślną:\n",
    "test_func2(2, c=\"kanarek\")"
   ]
  },
  {
   "cell_type": "markdown",
   "id": "0ebfa343-cf8d-4369-a965-7f320c7ee53b",
   "metadata": {},
   "source": [
    "# Konstruktory typów wbudowanych:"
   ]
  },
  {
   "cell_type": "markdown",
   "id": "1e82f943-ce32-4c9f-b937-f5df8c26e9f3",
   "metadata": {},
   "source": [
    "- int:\n",
    "```Python\n",
    "a = int()\n",
    "```\n",
    "\n",
    "- float:\n",
    "```Python\n",
    "a = float()\n",
    "```\n",
    "\n",
    "- complex:\n",
    "```Python\n",
    "a = complex()\n",
    "```\n",
    "\n",
    "- str:\n",
    "```Python\n",
    "a = str()\n",
    "```\n",
    "\n",
    "- list:\n",
    "```Python\n",
    "a = list()\n",
    "```\n",
    "\n",
    "- tuple:\n",
    "```Python\n",
    "a = tuple()\n",
    "```\n",
    "\n",
    "- dict:\n",
    "```Python\n",
    "a = dict()\n",
    "```\n",
    "\n",
    "- set:\n",
    "```Python\n",
    "a = set()\n",
    "```"
   ]
  },
  {
   "cell_type": "markdown",
   "id": "f738c624-6ea7-41bf-b70f-6c3fa66410f0",
   "metadata": {},
   "source": [
    "### Przykłady:"
   ]
  },
  {
   "cell_type": "code",
   "execution_count": 3,
   "id": "af219387-a79e-412f-b42d-0396318cb0a8",
   "metadata": {},
   "outputs": [
    {
     "name": "stdout",
     "output_type": "stream",
     "text": [
      "73\n",
      "<class 'int'>\n"
     ]
    }
   ],
   "source": [
    "a = int(\"73\")\n",
    "\n",
    "print(a)\n",
    "print(type(a))"
   ]
  },
  {
   "cell_type": "code",
   "execution_count": 4,
   "id": "d7ba0180-fb1b-40af-a090-377a8c5b37ad",
   "metadata": {},
   "outputs": [
    {
     "name": "stdout",
     "output_type": "stream",
     "text": [
      "[8, 1, 2, 6]\n",
      "<class 'list'>\n"
     ]
    }
   ],
   "source": [
    "a = {1, 6, 2, 8}\n",
    "b = list(a)\n",
    "\n",
    "print(b)\n",
    "print(type(b))"
   ]
  },
  {
   "cell_type": "code",
   "execution_count": 5,
   "id": "82e03683-97ab-4b40-93f2-49f63c0430d5",
   "metadata": {},
   "outputs": [
    {
     "name": "stdout",
     "output_type": "stream",
     "text": [
      "[0, 1, 4, 9, 16, 25, 36, 49]\n",
      "<class 'list'>\n"
     ]
    }
   ],
   "source": [
    "m = map(lambda x: x ** 2, range(8))\n",
    "a = list(m)\n",
    "\n",
    "print(a)\n",
    "print(type(a))"
   ]
  },
  {
   "cell_type": "markdown",
   "id": "ee35b1bc-34fd-4e0a-b6cb-6445c086be69",
   "metadata": {},
   "source": [
    "# Funkcja wbudowana **map**:"
   ]
  },
  {
   "cell_type": "markdown",
   "id": "53963bf2-c2e6-455a-a015-dd2add32bfb2",
   "metadata": {},
   "source": [
    "Funkcja wbudowana **map** przyjmuje dwa parametry:\n",
    "- funkcję - definiującą regułę zgodnie z którą mają być obliczane kolejne wartości (na podstawie elementów z obiektu iterowalnego),\n",
    "- obiekt iterowalny - kolekcja zawierająca elementy do przeliczenia.\n",
    "\n",
    "Funkcja **map** zwraca iterator (**map**). Na tym etapie właściwe obliczenia nie są jeszcze przeprowadzane (stosowane jest tutaj leniwe wartościowanie - wartości są wyznaczane dopiero wtedy kiedy to niezbędne).\n",
    "\n",
    "Funkcja przekazywana w wywołaniu funkcji **map** przyjmuje jako parametr kolejne wartości z **obiektu iterowalnego** (przekazanego jako drugi argument funkcji **map**). Przekształcenie może zwracać dowolne wartości."
   ]
  },
  {
   "cell_type": "code",
   "execution_count": 6,
   "id": "b988f996-42c3-4079-b4af-f71bcd9bb220",
   "metadata": {},
   "outputs": [
    {
     "name": "stdout",
     "output_type": "stream",
     "text": [
      "<map object at 0x0000018A1C4D4820>\n",
      "<class 'map'>\n"
     ]
    }
   ],
   "source": [
    "# Lista wartości do zmapowania:\n",
    "a = [1, 2, 3, 4, 5]\n",
    "\n",
    "# Przekształcenie ma na celu zwiększenie każdej liczby z listy a o 1:\n",
    "m = map(lambda x: x + 1, a)\n",
    "print(m)\n",
    "print(type(m))"
   ]
  },
  {
   "cell_type": "code",
   "execution_count": 7,
   "id": "95cebdb2-0853-4da5-92ee-da57c635ffe5",
   "metadata": {},
   "outputs": [
    {
     "name": "stdout",
     "output_type": "stream",
     "text": [
      "[2, 3, 4, 5, 6]\n"
     ]
    }
   ],
   "source": [
    "a = [1, 2, 3, 4, 5]\n",
    "m = map(lambda x: x + 1, a)\n",
    "\n",
    "# Zbudowanie listy na podstawie mapy:\n",
    "b = list(m)\n",
    "\n",
    "print(b)"
   ]
  },
  {
   "cell_type": "code",
   "execution_count": 8,
   "id": "085b58d6-5e4c-42f3-b812-e107d45af0c1",
   "metadata": {},
   "outputs": [
    {
     "name": "stdout",
     "output_type": "stream",
     "text": [
      "2\n",
      "3\n",
      "4\n",
      "5\n",
      "6\n"
     ]
    }
   ],
   "source": [
    "a = [1, 2, 3, 4, 5]\n",
    "m = map(lambda x: x + 1, a)\n",
    "\n",
    "# Mapy są iterowalne, więc można uzyskiwać z nich kolejne elementy przy pomocy pętli for:\n",
    "for value in m:\n",
    "    print(value)"
   ]
  },
  {
   "cell_type": "code",
   "execution_count": 9,
   "id": "13627016-0ebd-4699-be0d-ae379b15e387",
   "metadata": {},
   "outputs": [
    {
     "name": "stdout",
     "output_type": "stream",
     "text": [
      "[2, 3, 4, 5, 6]\n"
     ]
    }
   ],
   "source": [
    "# Zamiast lambdy można rówież używać zwykłych funkcji (czasami jest to niezbędne,\n",
    "# zwłaszcza wtedy kiedy przekształcenie jest skomplikowane):\n",
    "def inc(x):\n",
    "    return x + 1\n",
    "\n",
    "\n",
    "a = [1, 2, 3, 4, 5]\n",
    "m = map(inc, a)\n",
    "\n",
    "print(list(m))"
   ]
  },
  {
   "cell_type": "markdown",
   "id": "2b219e16-7d57-4bbe-9e61-3acb4d1ae7a9",
   "metadata": {},
   "source": [
    "# Funkcja wbudowana **filter**:"
   ]
  },
  {
   "cell_type": "markdown",
   "id": "ad81facf-f585-4b23-9ff1-fcbd55ad5090",
   "metadata": {},
   "source": [
    "Funkcja wbudowana **filter** przyjmuje dwa parametry:\n",
    "- funkcję - definiującą regułę zgodnie z którą mają być filtrowane kolejne wartości (z obiektu iterowalnego),\n",
    "- obiekt iterowalny - kolekcja zawierająca elementy do przefiltrowania.\n",
    "\n",
    "Funkcja **filter** podobnie jak funkcja **map** zwraca iterator (**filter**) - również jest tu stosowane leniwe wartościowanie.\n",
    "\n",
    "Funkcja przekazywana w wywołaniu funkcji **filter** przyjmuje jako parametr kolejne wartości z obiektu iterowalnego. Funkcja ta powinna zwracać wartości **True** (wartość zostaje) albo **False** (wartość zostaje odfiltrowana)."
   ]
  },
  {
   "cell_type": "code",
   "execution_count": 10,
   "id": "05d2f19e-acd0-48cb-9050-3cf2461b4215",
   "metadata": {},
   "outputs": [
    {
     "name": "stdout",
     "output_type": "stream",
     "text": [
      "[2, 4, 6, 8]\n"
     ]
    }
   ],
   "source": [
    "a = [1, 2, 3, 4, 5, 6, 7, 8, 9]\n",
    "\n",
    "# Filtrowanie wartości nieparzystych:\n",
    "f = filter(lambda x: x % 2 == 0, a)\n",
    "\n",
    "print(list(f))"
   ]
  },
  {
   "cell_type": "markdown",
   "id": "3775364c-f9b7-45d5-a1e3-ad6528124ccc",
   "metadata": {},
   "source": [
    "# Zastosowania **map** i **filter**:"
   ]
  },
  {
   "cell_type": "code",
   "execution_count": 11,
   "id": "bc29a6d3-c1c8-4fd4-a9e2-74cfc79bc8f8",
   "metadata": {},
   "outputs": [
    {
     "name": "stdout",
     "output_type": "stream",
     "text": [
      "TO : 2\n",
      "IZMA : 4\n",
      "KRÓLEWSKI : 9\n",
      "DORADCA : 7\n",
      "ŻYWY : 4\n",
      "DOWÓD : 5\n",
      "ŻE : 2\n",
      "KIEDYŚ : 6\n",
      "PO : 2\n",
      "ZIEMI : 5\n",
      "STĄPAŁY : 7\n",
      "DINOZAURY : 9\n"
     ]
    }
   ],
   "source": [
    "text = \"To Izma - królewski doradca . Żywy dowód , że kiedyś po ziemi stąpały dinozaury .\"\n",
    "\n",
    "words = text.split()\n",
    "\n",
    "# Map i filter pozwala na budowanie potoków:\n",
    "words_only = filter(lambda x: len(x) > 1, words)\n",
    "words_upper = map(lambda x: x.upper(), words_only)\n",
    "\n",
    "for word in words_upper:\n",
    "    print(f\"{word} : {len(word)}\")"
   ]
  },
  {
   "cell_type": "markdown",
   "id": "d76d976e-996d-423f-8c61-27d87c558b60",
   "metadata": {},
   "source": [
    "# Funkcja wbudowana **enumerate**:"
   ]
  },
  {
   "cell_type": "markdown",
   "id": "43bcab0d-a68a-4c41-9ebc-d27e02096e07",
   "metadata": {},
   "source": [
    "Funkcja **enumerate** każdemu elementowi obiektu iterowalnego przypisuje jego indeks - jak sama nazwa wskazuje, funkcja ta wylicza."
   ]
  },
  {
   "cell_type": "code",
   "execution_count": 12,
   "id": "c97a1fce-a296-429c-b374-ff40cf3d87db",
   "metadata": {},
   "outputs": [
    {
     "name": "stdout",
     "output_type": "stream",
     "text": [
      "[0] kot\n",
      "[1] pies\n",
      "[2] kanarek\n",
      "[3] rybki\n",
      "[4] chomik\n"
     ]
    }
   ],
   "source": [
    "a = [\"kot\", \"pies\", \"kanarek\", \"rybki\", \"chomik\"]\n",
    "\n",
    "# Funkcja enumerate w każdej iteracji zwraca krotkę: (index, element):\n",
    "for index, word in enumerate(a):\n",
    "    print(f\"[{index}] {word}\")"
   ]
  },
  {
   "cell_type": "markdown",
   "id": "1614e234-d47e-4e8d-be70-3fbbe38efc10",
   "metadata": {},
   "source": [
    "# Funkcja wbudowana **zip**:"
   ]
  },
  {
   "cell_type": "markdown",
   "id": "8560a9f4-0acd-4ba3-8aa2-519077dc6b8a",
   "metadata": {},
   "source": [
    "Funkcja **zip** umożliwia jednoczesne iterowanie po dwóch lub więcej obiektach iterowalnych:"
   ]
  },
  {
   "cell_type": "code",
   "execution_count": 13,
   "id": "8a10804c-19fb-4929-a5e6-f735e92519b5",
   "metadata": {},
   "outputs": [
    {
     "name": "stdout",
     "output_type": "stream",
     "text": [
      "4 8.67 kot\n",
      "2 2.54 pies\n",
      "6 1.23 kanarek\n",
      "7 6.54 rybki\n",
      "8 2.96 chomik\n"
     ]
    }
   ],
   "source": [
    "a = [4, 2, 6, 7, 8]\n",
    "b = [8.67, 2.54, 1.23, 6.54, 2.96]\n",
    "c = [\"kot\", \"pies\", \"kanarek\", \"rybki\", \"chomik\", \"meduza\"]\n",
    "\n",
    "# Iterowanie po 3 kolekcjach jednocześnie (koniec wyznacza najkrótsza kolekcja):\n",
    "for value_a, value_b, value_c in zip(a, b, c):\n",
    "    print(value_a, value_b, value_c)"
   ]
  },
  {
   "cell_type": "markdown",
   "id": "005ba44b-f7f0-4a43-9777-91291bdfbd76",
   "metadata": {},
   "source": [
    "# **try/except** - obsługa wyjątków:"
   ]
  },
  {
   "cell_type": "code",
   "execution_count": 14,
   "id": "140bb464-d31c-4683-a48e-fce095682b6c",
   "metadata": {},
   "outputs": [
    {
     "ename": "TypeError",
     "evalue": "unsupported operand type(s) for /: 'str' and 'int'",
     "output_type": "error",
     "traceback": [
      "\u001b[1;31m---------------------------------------------------------------------------\u001b[0m",
      "\u001b[1;31mTypeError\u001b[0m                                 Traceback (most recent call last)",
      "Cell \u001b[1;32mIn[14], line 2\u001b[0m\n\u001b[0;32m      1\u001b[0m a \u001b[38;5;241m=\u001b[39m \u001b[38;5;124m\"\u001b[39m\u001b[38;5;124mkot\u001b[39m\u001b[38;5;124m\"\u001b[39m\n\u001b[1;32m----> 2\u001b[0m b \u001b[38;5;241m=\u001b[39m \u001b[43ma\u001b[49m\u001b[43m \u001b[49m\u001b[38;5;241;43m/\u001b[39;49m\u001b[43m \u001b[49m\u001b[38;5;241;43m3\u001b[39;49m\n",
      "\u001b[1;31mTypeError\u001b[0m: unsupported operand type(s) for /: 'str' and 'int'"
     ]
    }
   ],
   "source": [
    "a = \"kot\"\n",
    "b = a / 3"
   ]
  },
  {
   "cell_type": "markdown",
   "id": "cb58e446-82b5-45b6-83d3-1cab06604226",
   "metadata": {},
   "source": [
    "W Pythonie niektóre operacje mogą się nie powieść. Zwracany jest wtedy komunikat o wystąpieniu błędu. W skład treści tego komunikatu wchodzi nazwa błędu (powyżej: *TypeError*) oraz dokładniejszy opis tego, co poszło nie tak (powyżej: *unsupported operand type(s) for /: 'str' and 'int'*).\n",
    "\n",
    "W ogólym przypadku wystąpienie błędu przerywa wykonanie całego programu. Jeśli jednak błąd wystąpi w bloku **try** możliwa jest jego obsługa w bloku **except**."
   ]
  },
  {
   "cell_type": "code",
   "execution_count": 15,
   "id": "0032fa9f-e310-42b8-9502-7b6a9485cf72",
   "metadata": {},
   "outputs": [
    {
     "name": "stdout",
     "output_type": "stream",
     "text": [
      "Wystąpił błąd :(\n"
     ]
    }
   ],
   "source": [
    "try:\n",
    "    # W przypadku wystąpienia wyjątku w tym bloku,\n",
    "    # sterowanie programu przenosi się do bloku except:\n",
    "    a = \"kot\"\n",
    "    b = a / 3\n",
    "except:\n",
    "    # Tutaj zazwyczaj następuje obsługa wyjątku:\n",
    "    print(\"Wystąpił błąd :(\")\n"
   ]
  },
  {
   "cell_type": "markdown",
   "id": "3d83ba09-9d03-4a77-9850-7f26068d7070",
   "metadata": {},
   "source": [
    "Można przechwytywać konkretne wyjątki (exceptions):"
   ]
  },
  {
   "cell_type": "code",
   "execution_count": 16,
   "id": "35519447-5aee-495d-8ae6-77ac8908695a",
   "metadata": {},
   "outputs": [
    {
     "name": "stdout",
     "output_type": "stream",
     "text": [
      "TypeError :(\n"
     ]
    }
   ],
   "source": [
    "try:\n",
    "    a = \"kot\"\n",
    "    b = a / 3\n",
    "except KeyError:\n",
    "    print(\"KeyError :(\")\n",
    "except TypeError:\n",
    "    print(\"TypeError :(\")\n"
   ]
  },
  {
   "cell_type": "markdown",
   "id": "b2857b3b-a195-4250-a743-0f6a04c46c12",
   "metadata": {},
   "source": [
    "Można przypisywać wartość wyjątu do zmiennej:"
   ]
  },
  {
   "cell_type": "code",
   "execution_count": 17,
   "id": "0d8f9e68-25a4-44c9-b5c5-0ad483b56463",
   "metadata": {},
   "outputs": [
    {
     "name": "stdout",
     "output_type": "stream",
     "text": [
      "<class 'TypeError'>\n",
      "unsupported operand type(s) for /: 'str' and 'int'\n"
     ]
    }
   ],
   "source": [
    "try:\n",
    "    a = \"kot\"\n",
    "    b = a / 3\n",
    "except KeyError as error:\n",
    "    print(type(error))\n",
    "    print(error)\n",
    "except TypeError as error:\n",
    "    print(type(error))\n",
    "    print(error)\n"
   ]
  },
  {
   "cell_type": "markdown",
   "id": "c6fd4143-eb8a-4f62-bfb1-890737d8514b",
   "metadata": {},
   "source": [
    "Kiedy nie wiadomo jakiego typu jest/będzie wyjątek można użyć **Exception**:"
   ]
  },
  {
   "cell_type": "code",
   "execution_count": 18,
   "id": "a1dbe722-bcfe-4072-975e-8078943a9de2",
   "metadata": {},
   "outputs": [
    {
     "name": "stdout",
     "output_type": "stream",
     "text": [
      "<class 'TypeError'>\n",
      "unsupported operand type(s) for /: 'str' and 'int'\n"
     ]
    }
   ],
   "source": [
    "try:\n",
    "    a = \"kot\"\n",
    "    b = a / 3\n",
    "except Exception as error:\n",
    "    print(type(error))\n",
    "    print(error)\n"
   ]
  },
  {
   "cell_type": "markdown",
   "id": "3e282afb-c6a3-4480-8a5b-530d51cc6783",
   "metadata": {},
   "source": [
    "# Blok **else**:"
   ]
  },
  {
   "cell_type": "markdown",
   "id": "63104d87-7fce-4ce2-b821-c812c1ef2d5d",
   "metadata": {},
   "source": [
    "Czasami logika programu wymaga tego, aby jakiś kod został wykonany tylko wtedy kiedy w bloku **try** nie wystąpił żaden błąd. W tym celu stosuje się blok **else**."
   ]
  },
  {
   "cell_type": "code",
   "execution_count": 19,
   "id": "8c8695e5-ec6c-456f-813e-146c044f0637",
   "metadata": {},
   "outputs": [
    {
     "name": "stdout",
     "output_type": "stream",
     "text": [
      "<class 'TypeError'>\n",
      "unsupported operand type(s) for /: 'str' and 'int'\n"
     ]
    }
   ],
   "source": [
    "try:\n",
    "    a = \"kot\"\n",
    "    b = a / 3\n",
    "except Exception as error:\n",
    "    print(type(error))\n",
    "    print(error)\n",
    "else:\n",
    "    print(b)\n",
    "    print(\"Wszystko jest OK!\")\n"
   ]
  },
  {
   "cell_type": "code",
   "execution_count": 20,
   "id": "67666874-82c0-4733-9dc5-54bba3c937ff",
   "metadata": {},
   "outputs": [
    {
     "name": "stdout",
     "output_type": "stream",
     "text": [
      "5.0\n",
      "Wszystko jest OK!\n"
     ]
    }
   ],
   "source": [
    "try:\n",
    "    a = 15\n",
    "    b = a / 3\n",
    "except Exception as error:\n",
    "    print(type(error))\n",
    "    print(error)\n",
    "else:\n",
    "    print(b)\n",
    "    print(\"Wszystko jest OK!\")"
   ]
  },
  {
   "cell_type": "markdown",
   "id": "8d5d4304-0cb2-42dc-93cd-fba7445fb950",
   "metadata": {},
   "source": [
    "# Blok **finally**:"
   ]
  },
  {
   "cell_type": "markdown",
   "id": "d7fe159a-f790-4473-a360-6257ecddb72a",
   "metadata": {},
   "source": [
    "Kod z bloku finally wykonuje się zawsze - niezależnie od tego czy błąd wystąpił, czy nie. W tym bloku często zamyka się otwarte pliki, zwalnia zajmowaną pamięć (wywołuje metody clear), itp..."
   ]
  },
  {
   "cell_type": "markdown",
   "id": "f1b32728-0298-4e11-a914-391cd385234e",
   "metadata": {},
   "source": [
    "# Raise:"
   ]
  },
  {
   "cell_type": "markdown",
   "id": "18423cea-8a0c-4df6-8f28-653be70ec128",
   "metadata": {},
   "source": [
    "Wyjątek można stworzyć na żądanie:"
   ]
  },
  {
   "cell_type": "code",
   "execution_count": 21,
   "id": "ebff754e-de75-4597-a429-0605a186639b",
   "metadata": {},
   "outputs": [
    {
     "name": "stdout",
     "output_type": "stream",
     "text": [
      "<class 'Exception'>\n",
      "Nowy błąd!\n"
     ]
    }
   ],
   "source": [
    "try:\n",
    "    raise Exception(\"Nowy błąd!\")\n",
    "except Exception as error:\n",
    "    print(type(error))\n",
    "    print(error)\n"
   ]
  },
  {
   "cell_type": "markdown",
   "id": "91d6342a-c52b-4bee-bafe-0d2de1af0432",
   "metadata": {},
   "source": [
    "# Obsługa wyjątków - składnia:"
   ]
  },
  {
   "cell_type": "markdown",
   "id": "36da255c-d81d-46db-a172-ad762e3394ae",
   "metadata": {},
   "source": [
    "```\n",
    "try:\n",
    "    [kod którego wykonanie może się nie powieść]\n",
    "except <err_1>:\n",
    "    [obsługa err_1]\n",
    "except <err_2>:\n",
    "    [obsługa err_2]\n",
    "...\n",
    "\n",
    "else:\n",
    "    [kod wykonujący się tylko wtedy, kiedy nie wysąpiły żadne błędy]\n",
    "finally:\n",
    "    [kod wykonujący sie zawsze]\n",
    "```"
   ]
  },
  {
   "cell_type": "markdown",
   "id": "fe3eb759-c60c-4c02-9678-cbe4434560a6",
   "metadata": {},
   "source": [
    "# Ćwiczenia (na zajęcia):"
   ]
  },
  {
   "cell_type": "markdown",
   "id": "0ae7c191-b1b1-45b2-87ab-896dfead34d4",
   "metadata": {},
   "source": [
    "#### 1. Napisz funkcję podnoszącą liczbę **x** do potęgi **a**. Jeśli parametr **a** nie został podany w wywołaniu, funkcja powinna zwrócić wartość **x^2**:"
   ]
  },
  {
   "cell_type": "markdown",
   "id": "745c81a8-33fe-4aff-8852-a5433cdcabb5",
   "metadata": {},
   "source": [
    "#### 2. Czy poniższa funkcja została zdefiniowana poprawnie?\n",
    "\n",
    "```Python\n",
    "def test_func(a=1, b, c=43):\n",
    "    print(a, b, c)\n",
    "```"
   ]
  },
  {
   "cell_type": "markdown",
   "id": "ae3dab6c-e66b-4de1-8060-780fe5230f4b",
   "metadata": {},
   "source": [
    "#### 3. Napisz mapę obliczającą w(x) dla kolejnych x z listy **a**:\n",
    "\n",
    "$$w(x) = 5x^2 - 6x + 7$$\n",
    "\n",
    "```Python\n",
    "a = [7.65, 3.87, 2.32, 6.54, 2.34, 0.92]\n",
    "```"
   ]
  },
  {
   "cell_type": "markdown",
   "id": "e9268850-6ff1-4ad7-abfe-b4971065014b",
   "metadata": {},
   "source": [
    "#### 4. Napisz mapę, która dla **0 < x < 20** zwraca listy dzielników **x**."
   ]
  },
  {
   "cell_type": "markdown",
   "id": "318038e2-d03d-421a-8cb4-31dd623c58d6",
   "metadata": {},
   "source": [
    "#### 5. Napisz mapę, która dla każdej linijki poniższego pliku PDB zwraca krotkę: (numer atomu, nazwa atomu, nazwa residuum).\n",
    "\n",
    "```Python\n",
    "pdb = \"\"\"ATOM    313  N   GLU A  41      54.850  44.463  33.220  1.00 15.86           N  \n",
    "ATOM    314  CA  GLU A  41      53.548  44.398  33.880  1.00 16.58           C  \n",
    "ATOM    315  C   GLU A  41      53.309  43.096  34.648  1.00 16.34           C  \n",
    "ATOM    316  O   GLU A  41      52.452  43.041  35.530  1.00 17.18           O  \n",
    "ATOM    317  CB  GLU A  41      52.416  44.550  32.859  1.00 17.59           C  \n",
    "ATOM    318  CG  GLU A  41      52.183  45.960  32.369  1.00 20.40           C  \n",
    "ATOM    319  CD  GLU A  41      50.773  46.142  31.821  1.00 18.63           C  \n",
    "ATOM    320  OE1 GLU A  41      49.819  45.629  32.453  1.00 21.92           O  \n",
    "ATOM    321  OE2 GLU A  41      50.609  46.804  30.773  1.00 20.56           O  \n",
    "ATOM    322  N   PHE A  42      54.054  42.046  34.313  1.00 16.51           N  \n",
    "ATOM    323  CA  PHE A  42      53.842  40.753  34.962  1.00 15.57           C  \n",
    "ATOM    324  C   PHE A  42      54.074  40.743  36.468  1.00 15.34           C  \n",
    "ATOM    325  O   PHE A  42      53.574  39.868  37.172  1.00 15.43           O  \n",
    "ATOM    326  CB  PHE A  42      54.690  39.673  34.278  1.00 14.93           C  \n",
    "ATOM    327  CG  PHE A  42      54.134  39.210  32.949  1.00 15.45           C  \n",
    "ATOM    328  CD1 PHE A  42      53.661  40.127  32.011  1.00 16.29           C  \n",
    "ATOM    329  CD2 PHE A  42      54.104  37.855  32.632  1.00 16.52           C  \n",
    "ATOM    330  CE1 PHE A  42      53.166  39.698  30.777  1.00 16.03           C  \n",
    "ATOM    331  CE2 PHE A  42      53.614  37.414  31.404  1.00 16.10           C  \n",
    "ATOM    332  CZ  PHE A  42      53.145  38.335  30.473  1.00 16.07           C  \n",
    "ATOM    333  N   SER A  43      54.812  41.730  36.961  1.00 16.01           N  \n",
    "ATOM    334  CA  SER A  43      55.095  41.827  38.386  1.00 15.02           C  \n",
    "ATOM    335  C   SER A  43      53.796  41.953  39.184  1.00 15.37           C  \n",
    "ATOM    336  O   SER A  43      53.731  41.542  40.344  1.00 16.27           O  \n",
    "ATOM    337  CB  SER A  43      55.990  43.042  38.662  1.00 15.61           C  \n",
    "ATOM    338  OG  SER A  43      57.210  42.970  37.927  1.00 15.28           O\"\"\".split(\"\\n\")\n",
    "```"
   ]
  },
  {
   "cell_type": "markdown",
   "id": "329930b4-2f2f-4d98-bcd1-ff95ea64837e",
   "metadata": {},
   "source": [
    "#### 6. Napisz filtr odrzucający wyrazy z listy **a** jeśli ich długości nie są liczbami parzystymi.\n",
    "\n",
    "```Python\n",
    "a = [\"kot\", \"pies\", \"kanarek\", \"rybki\", \"chomik\", \"meduza\"]\n",
    "```"
   ]
  },
  {
   "cell_type": "markdown",
   "id": "c53c7f03-1495-41a9-908e-521babdcbe25",
   "metadata": {},
   "source": [
    "#### 7. Napisz funkcję obliczającą średnią z liczb przekazaych w liście. Funkcja powinna zwrócić **None** jeśli w liście trafią się wartości inne niż numeryczne. Użyj konstrukcji try/except.\n",
    "\n",
    "Przykładowe listy:\n",
    "\n",
    "```Python\n",
    "a = [7, 5.43, \"kot\", 6.54, 34, 9.43]\n",
    "b = [6.54, 2.23, 7.65, 2.85, 2.43, 7.28]\n",
    "```"
   ]
  },
  {
   "cell_type": "markdown",
   "id": "66ae8df0-cb64-4dad-8888-aa834c84c69a",
   "metadata": {},
   "source": [
    "#### 8. Funkcja **do_operation** przyjmuje trzy argumenty: **operation** - funkcja, **a** i **b** - argumenty funkcji **operation**. Niewiele wiadomo o funkcji **operation** oraz o jej argumentach. Napisz lepszą wersję funkcji **do_operation** - zabezpieczoną na wypadek wystąpienia wszelkich błędów. Ewentualne błędy powinny być przechwytywane i wypisywane w bloku **except**.\n",
    "\n",
    "```Python\n",
    "def do_operation(operation, a, b):\n",
    "    result = operation(a, b)\n",
    "    print(result)\n",
    "```"
   ]
  },
  {
   "cell_type": "markdown",
   "id": "de720d89-27c3-486b-ab7f-ea8738666641",
   "metadata": {},
   "source": [
    "#### 9. Pracując na fragmencie pliku PDB z zadania 5 napisz filtr zwracający krotki: (numer atomu, nazwa atomu, nazwa residuum) tylko dla linijek opisujących atomy węgla.\n",
    "\n",
    "Podpowiedź: Można posłużyć się dodatkową mapą."
   ]
  },
  {
   "cell_type": "markdown",
   "id": "89682102-a655-40ec-8fc4-e6b0cbf8ffc3",
   "metadata": {},
   "source": [
    "#### 10. Czy poniższy kod zadziała poprawnie?\n",
    "\n",
    "```Python\n",
    "text = \"To Izma - królewski doradca . Żywy dowód , że kiedyś po ziemi stąpały dinozaury .\"\n",
    "\n",
    "words = text.split()\n",
    "\n",
    "words_only = filter(lambda x: len(x) > 1, words)\n",
    "words_upper = map(lambda x: x.upper(), words_only)\n",
    "words_lengths = map(lambda x: len(x), words_only)\n",
    "\n",
    "for word, length in zip(words_upper, words_lengths):\n",
    "    print(f\"{word} : {length}\")\n",
    "```"
   ]
  },
  {
   "cell_type": "markdown",
   "id": "1f9be6a3-9e54-462b-a058-3f5e99516a9f",
   "metadata": {},
   "source": [
    "#### 11. Zbuduj słownik na podstawie kluczy i wartości z list **keys** i **values**. Użyj funkcji wbudowanej **zip**.\n",
    "\n",
    "```Python\n",
    "keys = [\"kot\", \"pies\", \"kanarek\", \"rybki\", \"chomik\"]\n",
    "values = [6, 2, 8, 6, 4]\n",
    "```"
   ]
  },
  {
   "cell_type": "markdown",
   "id": "f4b0ff73-64a7-4e39-be50-b09ed2bd587d",
   "metadata": {},
   "source": [
    "# **Zadania:**"
   ]
  },
  {
   "cell_type": "markdown",
   "id": "5d37c305-d4ae-4d1a-9a96-1577029512bd",
   "metadata": {},
   "source": [
    "#### Zadanie 1:"
   ]
  },
  {
   "cell_type": "markdown",
   "id": "69767d6c-6b50-43f3-b3f3-f39b03447b0d",
   "metadata": {},
   "source": [
    "Napisz program wypisujący długości kolejnych wyrazów z tekstu **a**, ale tylko wtedy gdy długości te są liczbami parzystymi. Ponadto, wyrazy powinny być pozbawione znaków interpunkcyjnych (trzeba usunąć przylegające przecinki i kropki). Użyj funkcji wbudowanych **map**, **filter** i **zip**.\n",
    "\n",
    "```Python\n",
    "a = \"\"\"Van Rossum was born and raised in the Netherlands, where he received a master's degree in mathematics and computer science from the University of Amsterdam in 1982. He received a bronze medal in 1974 in the International Mathematical Olympiad. He has a brother, Just van Rossum, who is a type designer and programmer who designed the typeface used in the \"Python Powered\" logo.\"\"\"\n",
    "```"
   ]
  },
  {
   "cell_type": "markdown",
   "id": "9095d3af-3b43-45de-830f-a4fef68963f7",
   "metadata": {},
   "source": [
    "#### Zadanie 2:"
   ]
  },
  {
   "cell_type": "markdown",
   "id": "c5ff2fc8-3927-4c65-b029-ddd82330c6e6",
   "metadata": {},
   "source": [
    "Znajdź wartości mniejsze od zera dla w(x), gdzie 0 <= x < 10. Użyj **map** i **filter**.\n",
    "\n",
    "$$w(x) = x^2 - 4x + 2$$"
   ]
  },
  {
   "cell_type": "markdown",
   "id": "88a0c911-38d1-4e96-80b3-e1bec47db61a",
   "metadata": {},
   "source": [
    "#### Zadanie 3:"
   ]
  },
  {
   "cell_type": "markdown",
   "id": "9d5a3db9-91a2-42f5-be2b-89b6e6699967",
   "metadata": {},
   "source": [
    "Napisz odpowiednik poniższego programu używający funkcji wbudowanych **map** i **filter**.\n",
    "\n",
    "```Python\n",
    "data = {\n",
    "    \"kot\": 43,\n",
    "    \"pies\": 29,\n",
    "    \"kanarek\": 12,\n",
    "    \"rybki\": 73,\n",
    "    \"chomik\": 32,\n",
    "}\n",
    "\n",
    "data_alter = []\n",
    "\n",
    "for key, value in data.items():\n",
    "    data_alter.append((key.upper(), (value / 2) ** 2))\n",
    "\n",
    "data_filtered = []\n",
    "\n",
    "for name, value in data_alter:\n",
    "    if value > 300:\n",
    "        data_filtered.append((name,  value))\n",
    "\n",
    "print(data_filtered)\n",
    "```"
   ]
  },
  {
   "cell_type": "markdown",
   "id": "685fdbae-a4c0-46f0-b0b4-1fc1df28c64a",
   "metadata": {},
   "source": [
    "#### Zadanie 4:"
   ]
  },
  {
   "cell_type": "markdown",
   "id": "af2aaf67-4505-46d7-a6ba-840b26221375",
   "metadata": {},
   "source": [
    "Oblicz odchylenie standardowe liczb znajdujących się w liście **a**. Użyj funkcji wbudowanych **map**, **sum** oraz **len**.\n",
    "\n",
    "$$\\sigma = \\sqrt{\\frac{(x_1 - \\bar{X})^2 + (x_2 - \\bar{X})^2 + ... + (x_n - \\bar{X})^2}{n}}$$\n",
    "\n",
    "```Python\n",
    "a = [6.43, 1.44, 8.35, 8.32, 2.98, 3.34, 7.17, 4.32, 9.76, 2.34, 6.54, 1.78, 2.76]\n",
    "```"
   ]
  },
  {
   "cell_type": "markdown",
   "id": "deb58520-0e92-4add-8e25-d188e59fe997",
   "metadata": {},
   "source": [
    "#### Zadanie 5:"
   ]
  },
  {
   "cell_type": "markdown",
   "id": "c61564e7-1d91-463b-aead-d288b8954007",
   "metadata": {},
   "source": [
    "Wyznacz punkt [x, y, z] będący uśrednionym położeniem wszystkich atomów z poniższego fragmentu pliku PDB (trzeba policzyć trzy średnie z kolumn 7, 8, i 9). Użyj funkcji wbudowanych **map**, **sum** oraz **len**.\n",
    "\n",
    "\n",
    "```Python\n",
    "pdb = \"\"\"ATOM    313  N   GLU A  41      54.850  44.463  33.220  1.00 15.86           N  \r\n",
    "ATOM    314  CA  GLU A  41      53.548  44.398  33.880  1.00 16.58           C  \r\n",
    "ATOM    315  C   GLU A  41      53.309  43.096  34.648  1.00 16.34           C  \r\n",
    "ATOM    316  O   GLU A  41      52.452  43.041  35.530  1.00 17.18           O  \r\n",
    "ATOM    317  CB  GLU A  41      52.416  44.550  32.859  1.00 17.59           C  \r\n",
    "ATOM    318  CG  GLU A  41      52.183  45.960  32.369  1.00 20.40           C  \r\n",
    "ATOM    319  CD  GLU A  41      50.773  46.142  31.821  1.00 18.63           C  \r\n",
    "ATOM    320  OE1 GLU A  41      49.819  45.629  32.453  1.00 21.92           O  \r\n",
    "ATOM    321  OE2 GLU A  41      50.609  46.804  30.773  1.00 20.56           O  \r\n",
    "ATOM    322  N   PHE A  42      54.054  42.046  34.313  1.00 16.51           N  \r\n",
    "ATOM    323  CA  PHE A  42      53.842  40.753  34.962  1.00 15.57           C  \r\n",
    "ATOM    324  C   PHE A  42      54.074  40.743  36.468  1.00 15.34           C  \r\n",
    "ATOM    325  O   PHE A  42      53.574  39.868  37.172  1.00 15.43           O  \r\n",
    "ATOM    326  CB  PHE A  42      54.690  39.673  34.278  1.00 14.93           C  \r\n",
    "ATOM    327  CG  PHE A  42      54.134  39.210  32.949  1.00 15.45           C  \r\n",
    "ATOM    328  CD1 PHE A  42      53.661  40.127  32.011  1.00 16.29           C  \r\n",
    "ATOM    329  CD2 PHE A  42      54.104  37.855  32.632  1.00 16.52           C  \r\n",
    "ATOM    330  CE1 PHE A  42      53.166  39.698  30.777  1.00 16.03           C  \r\n",
    "ATOM    331  CE2 PHE A  42      53.614  37.414  31.404  1.00 16.10           C  \r\n",
    "ATOM    332  CZ  PHE A  42      53.145  38.335  30.473  1.00 16.07           C  \r\n",
    "ATOM    333  N   SER A  43      54.812  41.730  36.961  1.00 16.01           N  \r\n",
    "ATOM    334  CA  SER A  43      55.095  41.827  38.386  1.00 15.02           C  \r\n",
    "ATOM    335  C   SER A  43      53.796  41.953  39.184  1.00 15.37           C  \r\n",
    "ATOM    336  O   SER A  43      53.731  41.542  40.344  1.00 16.27           O  \r\n",
    "ATOM    337  CB  SER A  43      55.990  43.042  38.662  1.00 15.61           C  \r\n",
    "ATOM    338  OG  SER A  43      57.210  42.970  37.927  1.00 15.28           O\"\"\".split(\"\\n\")\n",
    "```"
   ]
  },
  {
   "cell_type": "markdown",
   "id": "553cb892-cc97-4979-a6b9-b78b7ac0b44b",
   "metadata": {},
   "source": [
    "#### Zadanie 6*:"
   ]
  },
  {
   "cell_type": "markdown",
   "id": "bf3204e8-150b-4b83-9c8c-7ab1c4680c3c",
   "metadata": {},
   "source": [
    "Wyznacz odchylenia standardowe położeń atomów w każdej z trzech osi. Wykorzystaj fragment pliku PDB z *Zadania 5*. Użyj funkcji wbudowanych **map**, **sum** oraz **len**."
   ]
  }
 ],
 "metadata": {
  "kernelspec": {
   "display_name": "Python 3 (ipykernel)",
   "language": "python",
   "name": "python3"
  },
  "language_info": {
   "codemirror_mode": {
    "name": "ipython",
    "version": 3
   },
   "file_extension": ".py",
   "mimetype": "text/x-python",
   "name": "python",
   "nbconvert_exporter": "python",
   "pygments_lexer": "ipython3",
   "version": "3.12.0"
  }
 },
 "nbformat": 4,
 "nbformat_minor": 5
}
