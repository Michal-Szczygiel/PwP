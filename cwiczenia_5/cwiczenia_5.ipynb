{
 "cells": [
  {
   "cell_type": "markdown",
   "id": "056bdf59-59e8-4aa7-80e7-904b21f29abe",
   "metadata": {},
   "source": [
    "# Sortowanie list:"
   ]
  },
  {
   "cell_type": "markdown",
   "id": "1a60832a-d695-4283-9cb9-2151c8e85e52",
   "metadata": {},
   "source": [
    "#### Metoda **sort**:"
   ]
  },
  {
   "cell_type": "code",
   "execution_count": 1,
   "id": "018cdcbb-4ba3-45e7-bd10-3e975d46aed4",
   "metadata": {},
   "outputs": [
    {
     "name": "stdout",
     "output_type": "stream",
     "text": [
      "[1, 2, 4, 7, 7, 9]\n"
     ]
    }
   ],
   "source": [
    "numbers = [7, 4, 2, 9, 7, 1]\n",
    "\n",
    "# Metoda sort sortuje listę w miejscu - nie jest zwracana nowa lista:\n",
    "numbers.sort()\n",
    "\n",
    "print(numbers)"
   ]
  },
  {
   "cell_type": "markdown",
   "id": "d3d6bf75-eeb1-40ef-a2e8-5d65e7f83f46",
   "metadata": {},
   "source": [
    "#### Funkcja wbudowana **sorted**:"
   ]
  },
  {
   "cell_type": "code",
   "execution_count": 2,
   "id": "cf2cc28a-51b8-46b4-aaf4-e19d7ea880ae",
   "metadata": {},
   "outputs": [
    {
     "name": "stdout",
     "output_type": "stream",
     "text": [
      "[1, 2, 4, 7, 7, 9]\n"
     ]
    }
   ],
   "source": [
    "numbers = [7, 4, 2, 9, 7, 1]\n",
    "\n",
    "# Funkcja wbudowana sorted zwraca nową listę:\n",
    "numbers_sorted = sorted(numbers)\n",
    "\n",
    "print(numbers_sorted)"
   ]
  },
  {
   "cell_type": "markdown",
   "id": "0743dfec-bc72-4a03-824e-80b26b6caa98",
   "metadata": {},
   "source": [
    "#### Sortowanie alfabetyczne:"
   ]
  },
  {
   "cell_type": "code",
   "execution_count": 3,
   "id": "b91b4b91-aae4-448d-bf3f-dd5d88514506",
   "metadata": {},
   "outputs": [
    {
     "name": "stdout",
     "output_type": "stream",
     "text": [
      "['kanarek', 'kot', 'pies', 'rybki']\n"
     ]
    }
   ],
   "source": [
    "words = [\"kot\", \"pies\", \"kanarek\", \"rybki\"]\n",
    "\n",
    "# Sortowanie alfabetyczne:\n",
    "words.sort()\n",
    "\n",
    "print(words)"
   ]
  },
  {
   "cell_type": "markdown",
   "id": "3ccd8e17-b8ee-4a07-9c8b-d5ba3361bd4d",
   "metadata": {},
   "source": [
    "#### Jak posortować listę zawierającą bardziej skomplikowane dane?\n",
    "\n",
    "Metoda **sort** oraz funkcja wbudowana **sorted** posiadają dodatkowy parametr - **key**. Przy pomocy tego parametru można przekazywać klucz (w postaci obiektu funkcyjnego) zgodnie z którym ma się odbyć sortowanie. Funkcja przekazywana przy pomocy parametru **key** powinna zwracać wartość typów które metoda **sort** i funkcja **sorted** są już w stanie posortować domyślnie (**int**, **float**, **str**, ...)."
   ]
  },
  {
   "cell_type": "code",
   "execution_count": 4,
   "id": "62c5cbda-6679-4dde-9270-15d9f8859f43",
   "metadata": {},
   "outputs": [
    {
     "name": "stdout",
     "output_type": "stream",
     "text": [
      "[('rybki', 0), ('kot', 2), ('kanarek', 21), ('pies', 87)]\n"
     ]
    }
   ],
   "source": [
    "data = [(\"kot\", 2), (\"pies\", 87), (\"kanarek\", 21), (\"rybki\", 0)]\n",
    "\n",
    "# Sortowanie po drugim elemencie krotki:\n",
    "data.sort(key=lambda x: x[1])\n",
    "\n",
    "print(data)"
   ]
  },
  {
   "cell_type": "code",
   "execution_count": 5,
   "id": "ee3a5205-0854-4279-8a72-0dbffacd3d6b",
   "metadata": {},
   "outputs": [
    {
     "name": "stdout",
     "output_type": "stream",
     "text": [
      "[('rybki', 0), ('kot', 2), ('kanarek', 21), ('pies', 87)]\n"
     ]
    }
   ],
   "source": [
    "data = [(\"kot\", 2), (\"pies\", 87), (\"kanarek\", 21), (\"rybki\", 0)]\n",
    "\n",
    "# Sortowanie po drugim elemencie krotki:\n",
    "data_sorted = sorted(data, key=lambda x: x[1])\n",
    "\n",
    "print(data_sorted)"
   ]
  },
  {
   "cell_type": "code",
   "execution_count": 6,
   "id": "88a8cf26-9770-4bc9-80bb-3d29580e374e",
   "metadata": {},
   "outputs": [
    {
     "name": "stdout",
     "output_type": "stream",
     "text": [
      "[[87, 56, 32], [5, 32], [9, 7], [0, 0, 0, 1, 2, 3, 4, 5], [0, 1, 1, 2]]\n"
     ]
    }
   ],
   "source": [
    "data = [[0, 1, 1, 2], [87, 56, 32], [9, 7], [5, 32], [0, 0, 0, 1, 2, 3, 4, 5]]\n",
    "\n",
    "# Sortowanie listy list po wartości średniej, od największej do najmniejszej:\n",
    "data.sort(key=lambda x: sum(x) / len(x), reverse=True)\n",
    "\n",
    "print(data)"
   ]
  },
  {
   "cell_type": "markdown",
   "id": "442d1c25-994b-4bf5-b053-acbdb2f3cfe1",
   "metadata": {},
   "source": [
    "# Klasy:"
   ]
  },
  {
   "cell_type": "markdown",
   "id": "15ac4060-a725-4d92-8cf8-dc010af3446a",
   "metadata": {},
   "source": [
    "Co to jest klasa (w Pythonie)?\n",
    "- zdefiniowany przez programistę **nowy** typ - wyspecjalizowany pojemnik na dane,\n",
    "- klasa może przechowywać dane i mieć metody (które na tych danych pracują),\n",
    "- wewnątrz klasy tworzy się nowa przestrzeń nazw - nie wszystko co zdefiniowane jest wewnątrz klasy musi (ale może) być widoczne \"na zewnątrz\",\n",
    "- na podstawie klasy można tworzyć obiekty tej klasy"
   ]
  },
  {
   "cell_type": "code",
   "execution_count": 7,
   "id": "a7194e00-83a5-4ebb-80c7-e29489b34053",
   "metadata": {},
   "outputs": [
    {
     "name": "stdout",
     "output_type": "stream",
     "text": [
      "<class '__main__.Person'>\n",
      "<class 'type'>\n"
     ]
    }
   ],
   "source": [
    "# Definicja klasy:\n",
    "class Person:\n",
    "    pass\n",
    "\n",
    "print(Person)\n",
    "print(type(Person))"
   ]
  },
  {
   "cell_type": "code",
   "execution_count": 8,
   "id": "b5a7abb4-9649-424a-b340-9f640a8964b2",
   "metadata": {},
   "outputs": [
    {
     "name": "stdout",
     "output_type": "stream",
     "text": [
      "<__main__.Person object at 0x000002186DB7B7D0>\n",
      "John\n",
      "Kovalsky\n",
      "36\n"
     ]
    }
   ],
   "source": [
    "# Definicja klasy zawierającej zmienne (pola):\n",
    "class Person:\n",
    "    name = \"\"\n",
    "    surname = \"\"\n",
    "    age = 0\n",
    "\n",
    "\n",
    "# Nowy obiekt klasy tworzy się w ten sposób:\n",
    "a = Person()\n",
    "\n",
    "# Dostęp do pól klasy uzyskuje się po kropce:\n",
    "a.name = \"John\"\n",
    "a.surname = \"Kovalsky\"\n",
    "a.age = 36\n",
    "\n",
    "# Domyślnie klasa nie wie jak ma się wypisać:\n",
    "print(a)\n",
    "\n",
    "print(a.name)\n",
    "print(a.surname)\n",
    "print(a.age)"
   ]
  },
  {
   "cell_type": "code",
   "execution_count": 9,
   "id": "83da3c11-d5ec-43cd-89f3-4b0c12f2c15e",
   "metadata": {},
   "outputs": [
    {
     "name": "stdout",
     "output_type": "stream",
     "text": [
      "<__main__.Person object at 0x000002186DB7B380>\n",
      "John\n",
      "Kovalsky\n",
      "36\n"
     ]
    }
   ],
   "source": [
    "# Przykład klasy z inicjalizatorem:\n",
    "class Person:\n",
    "    # To jest inicjalizator klasy. Metody __X__ to tzw. metody specjalne.\n",
    "    # Pierwszym argumentem każdej metody klasy powinien być self, czyli auto-odniesienie:\n",
    "    def __init__(self, name, surname, age):\n",
    "        # Każda nowa zmienna która ma zostać przypisana do klasy powinna być definiowana nad self,\n",
    "        self.name = name\n",
    "        self.surname = surname\n",
    "        self.age = age\n",
    "\n",
    "\n",
    "# Tworzenie obiektu klasy Person - w nawiasach należy podać wartości dla argumentów \n",
    "# wyszczególnionych w metodzie __init__ klasy (self należy pominąć):\n",
    "a = Person(\"John\", \"Kovalsky\", 36)\n",
    "\n",
    "# Domyślnie klasa nie \"wie\" jak ma się wypisać:\n",
    "print(a)\n",
    "\n",
    "# Dostęp do zmiennych (pól) klasy uzyskuje się po kropce:\n",
    "print(a.name)\n",
    "print(a.surname)\n",
    "print(a.age)"
   ]
  },
  {
   "cell_type": "markdown",
   "id": "0ba7cb8e-b767-41e4-9d3b-7c3419c466e5",
   "metadata": {},
   "source": [
    "# Metody klasy:"
   ]
  },
  {
   "cell_type": "code",
   "execution_count": 10,
   "id": "9cc91abf-1e13-4040-bb2f-49d5c826b4c3",
   "metadata": {},
   "outputs": [
    {
     "name": "stdout",
     "output_type": "stream",
     "text": [
      "John Kovalsky, age: 36\n"
     ]
    }
   ],
   "source": [
    "class Person:\n",
    "    def __init__(self, name, surname, age):\n",
    "        self.name = name\n",
    "        self.surname = surname\n",
    "        self.age = age\n",
    "\n",
    "    # Klasyczna metoda klasy,\n",
    "    # Aby metoda miała dostęp do zmiennych klasy należy przekazać jej auto-odniesienie - self:\n",
    "    def print(self):\n",
    "        print(\"{} {}, age: {}\".format(self.name, self.surname, self.age))\n",
    "\n",
    "\n",
    "a = Person(\"John\", \"Kovalsky\", 36)\n",
    "\n",
    "# Wywołanie metody klasy (pomijamy self - jest on przekazywany automatycznie)\n",
    "a.print()"
   ]
  },
  {
   "cell_type": "code",
   "execution_count": 11,
   "id": "1a733df7-1604-4569-9503-5978562b352c",
   "metadata": {},
   "outputs": [
    {
     "name": "stdout",
     "output_type": "stream",
     "text": [
      "4\n"
     ]
    }
   ],
   "source": [
    "class Person:\n",
    "    def __init__(self, name, surname, age):\n",
    "        self.name = name\n",
    "        self.surname = surname\n",
    "        self.age = age\n",
    "\n",
    "    # Metoda zwracająca długość imienia:\n",
    "    def get_name_len(self):\n",
    "        return len(self.name)\n",
    "\n",
    "a = Person(\"John\", \"Kovalsky\", 36)\n",
    "name_len = a.get_name_len()\n",
    "\n",
    "print(name_len)"
   ]
  },
  {
   "cell_type": "code",
   "execution_count": 12,
   "id": "dd69ce98-2d8c-42ee-9506-3dd9b7b96427",
   "metadata": {},
   "outputs": [
    {
     "name": "stdout",
     "output_type": "stream",
     "text": [
      "Dave\n"
     ]
    }
   ],
   "source": [
    "class Person:\n",
    "    def __init__(self, name, surname, age):\n",
    "        self.name = name\n",
    "        self.surname = surname\n",
    "        self.age = age\n",
    "\n",
    "    # Metoda służąca do zmiany imienia:\n",
    "    def change_name(self, new_name):\n",
    "        self.name = new_name\n",
    "\n",
    "\n",
    "a = Person(\"John\", \"Kovalsky\", 36)\n",
    "a.change_name(\"Dave\")\n",
    "\n",
    "print(a.name)"
   ]
  },
  {
   "cell_type": "markdown",
   "id": "b5c01882-b499-4da4-a23f-3fa329ee935b",
   "metadata": {},
   "source": [
    "# Atrybuty publiczne i prywante klasy:"
   ]
  },
  {
   "cell_type": "markdown",
   "id": "39860302-9ff4-4387-b1d8-e55e3b601715",
   "metadata": {},
   "source": [
    "Pewne atrybuty klasy są widoczne **na zewnątrz**, są to:\n",
    "- zmienne zdefiniowane w głównej przestrzeni nazw klasy (tak jak w pierwszym przykładzie z klasą i zmiennymi),\n",
    "- zmienne zdefiniowane nad self,\n",
    "- metody, czyli funkcje zdefiniowane w ciele klasy.\n",
    "\n",
    "Elementy klasy można ukrywać. Aby tego dokonać nazwę elementu należy rozpocząć od znaku \"_\"."
   ]
  },
  {
   "cell_type": "code",
   "execution_count": 13,
   "id": "9f18cfe4-b2a1-4242-992e-e652f3f46205",
   "metadata": {},
   "outputs": [
    {
     "name": "stdout",
     "output_type": "stream",
     "text": [
      "12\n",
      "Help on Person in module __main__ object:\n",
      "\n",
      "class Person(builtins.object)\n",
      " |  Person(name, surname, age)\n",
      " |\n",
      " |  Methods defined here:\n",
      " |\n",
      " |  __init__(self, name, surname, age)\n",
      " |      Initialize self.  See help(type(self)) for accurate signature.\n",
      " |\n",
      " |  get_name_and_surname_len(self)\n",
      " |\n",
      " |  ----------------------------------------------------------------------\n",
      " |  Data descriptors defined here:\n",
      " |\n",
      " |  __dict__\n",
      " |      dictionary for instance variables (if defined)\n",
      " |\n",
      " |  __weakref__\n",
      " |      list of weak references to the object (if defined)\n",
      "\n"
     ]
    }
   ],
   "source": [
    "class Person:\n",
    "    def __init__(self, name, surname, age):\n",
    "        self.name = name\n",
    "        self.surname = surname\n",
    "        self.age = age\n",
    "\n",
    "    def get_name_and_surname_len(self):\n",
    "        self._cumulative_len()\n",
    "        return self._name_and_surname_len\n",
    "\n",
    "    # Definicja metody prywatnej:\n",
    "    def _cumulative_len(self):\n",
    "        # Przypisanie wyniku do zmiennej prywatnej:\n",
    "        self._name_and_surname_len = len(self.name + self.surname)\n",
    "\n",
    "\n",
    "a = Person(\"John\", \"Kovalsky\", 36)\n",
    "print(a.get_name_and_surname_len())\n",
    "\n",
    "# Wypisanie metod klasy:\n",
    "help(a)"
   ]
  },
  {
   "cell_type": "markdown",
   "id": "923de48a-a31c-4dd8-9f06-042006a85ceb",
   "metadata": {},
   "source": [
    "#### Czy elementy prywatne (ukryte) na prawdę są prywatne?"
   ]
  },
  {
   "cell_type": "code",
   "execution_count": 14,
   "id": "3e932f9a-51ab-45b2-9757-0b0ae9d3c564",
   "metadata": {},
   "outputs": [
    {
     "name": "stdout",
     "output_type": "stream",
     "text": [
      "12\n",
      "12\n"
     ]
    }
   ],
   "source": [
    "class Person:\n",
    "    def __init__(self, name, surname, age):\n",
    "        self.name = name\n",
    "        self.surname = surname\n",
    "        self.age = age\n",
    "\n",
    "    def get_name_and_surname_len(self):\n",
    "        self._cumulative_len()\n",
    "        return self._name_and_surname_len\n",
    "\n",
    "    # Definicja metody prywatnej:\n",
    "    def _cumulative_len(self):\n",
    "        # Przypisanie wyniku do zmiennej prywatnej:\n",
    "        self._name_and_surname_len = len(self.name + self.surname)\n",
    "\n",
    "\n",
    "a = Person(\"John\", \"Kovalsky\", 36)\n",
    "print(a.get_name_and_surname_len())\n",
    "\n",
    "# Próba odczytu zmiennej ukrytej:\n",
    "print(a._name_and_surname_len)"
   ]
  },
  {
   "attachments": {
    "00e19d50-d8fb-4954-816a-3b6643360619.png": {
     "image/png": "[encoded data removed]"
    }
   },
   "cell_type": "markdown",
   "id": "8eca4102-b7ec-4118-aab2-c5a3099749d3",
   "metadata": {},
   "source": [
    "![4qhi4d.png](attachment:00e19d50-d8fb-4954-816a-3b6643360619.png)\n",
    "\n",
    "## Python tak naprawdę nie ukrywa atrybutów \"prywatnych\" - one wszystkie są dostępne z zewnątrz!!!"
   ]
  },
  {
   "cell_type": "markdown",
   "id": "0e86cba0-b24f-467e-8345-4a5f7351b785",
   "metadata": {},
   "source": [
    "# Metody specjalne:"
   ]
  },
  {
   "cell_type": "markdown",
   "id": "cdf6843b-c23e-49a8-9d7e-188fec2936d6",
   "metadata": {},
   "source": [
    "#### Metoda specjalna **__ repr __** - reprezentacja tekstowa obiektów klasy:"
   ]
  },
  {
   "cell_type": "code",
   "execution_count": 15,
   "id": "bd3c86cc-94d6-460e-af74-bf66fbdad58c",
   "metadata": {},
   "outputs": [
    {
     "name": "stdout",
     "output_type": "stream",
     "text": [
      "John Kovalsky, age: 36\n",
      "Obiekt klasy Person: John Kovalsky, age: 36\n"
     ]
    }
   ],
   "source": [
    "class Person:\n",
    "    def __init__(self, name, surname, age):\n",
    "        self.name = name\n",
    "        self.surname = surname\n",
    "        self.age = age\n",
    "\n",
    "    # Metoda specjalna definiująca w jaki sposób obiekty klasy mają się\n",
    "    # reprezentować w postaci tekstowej:\n",
    "    def __repr__(self):\n",
    "        # Metoda __repr__ powinna zwracać napis:\n",
    "        return \"{} {}, age: {}\".format(self.name, self.surname, self.age)\n",
    "\n",
    "\n",
    "a = Person(\"John\", \"Kovalsky\", 36)\n",
    "\n",
    "# Teraz obiekty klasy można wypisywać przy pomocy funkcji wbudowanej print:\n",
    "print(a)\n",
    "\n",
    "# Również inne funkcje/metody pobierające reprezentacje tekstowe obiektów mogą\n",
    "# korzystać ze zdefiniowanej powyżej metody __repr__:\n",
    "text = \"Obiekt klasy Person: {}\".format(a)\n",
    "print(text)"
   ]
  },
  {
   "cell_type": "markdown",
   "id": "7c1ab989-ac46-481a-b76f-e10a476d8bb0",
   "metadata": {},
   "source": [
    "#### Metoda specjalna **__ len __** - pobieranie długości:"
   ]
  },
  {
   "cell_type": "code",
   "execution_count": 16,
   "id": "1d0ed0c5-ebb5-4770-8131-c1638ed4761a",
   "metadata": {},
   "outputs": [
    {
     "name": "stdout",
     "output_type": "stream",
     "text": [
      "3\n"
     ]
    }
   ],
   "source": [
    "class List:\n",
    "    def __init__(self, values):\n",
    "        self.values = values\n",
    "\n",
    "    # Metoda specjalna __len__ powinna zwracać wartość liczbową\n",
    "    # określającą długość obiektu klasy:\n",
    "    def __len__(self):\n",
    "        return len(self.values)\n",
    "\n",
    "a = List([3, 6, 5])\n",
    "\n",
    "# Długosć obiektu klasy można teraz pobrać używając funkcji wbudowanej len:\n",
    "a_len = len(a)\n",
    "\n",
    "print(a_len)"
   ]
  },
  {
   "cell_type": "markdown",
   "id": "514062f9-ef2f-4edd-beca-85cb969c2064",
   "metadata": {},
   "source": [
    "#### Metoda specjalna **__ add __** - dodawanie obiektów klasy:"
   ]
  },
  {
   "cell_type": "code",
   "execution_count": 17,
   "id": "984e3eca-b7e5-421e-8cf9-b9863fcd1f43",
   "metadata": {},
   "outputs": [
    {
     "name": "stdout",
     "output_type": "stream",
     "text": [
      "[4, 6]\n"
     ]
    }
   ],
   "source": [
    "class Vec2D:\n",
    "    def __init__(self, x, y):\n",
    "        self.x = x\n",
    "        self.y = y\n",
    "\n",
    "    # Metoda specjalna definiująca regułę dodawania.\n",
    "    # Metoda ta zawsze powinna brać argument w postać drugiego obiektu -\n",
    "    # tego który będzie zumowany z self:\n",
    "    def __add__(self, other):\n",
    "        # Metoda powinna zwracać nowy obiekt (wynik):\n",
    "        return Vec2D(self.x + other.x, self.y + other.y)\n",
    "\n",
    "    def __repr__(self):\n",
    "        return \"[{}, {}]\".format(self.x, self.y)\n",
    "\n",
    "a = Vec2D(1, 2)\n",
    "b = Vec2D(3, 4)\n",
    "\n",
    "# Znak + działa teraz tak jak dla normalnych liczb:\n",
    "c = a + b\n",
    "\n",
    "print(c)"
   ]
  },
  {
   "cell_type": "markdown",
   "id": "3ac78acf-97fd-4d7c-938f-798be28d347b",
   "metadata": {},
   "source": [
    "Analogicznie jak powyżej, można zdefiniować metody dla:\n",
    "- odejmowania - metoda specjalna **__ sub __**,\n",
    "- mnożenia - metoda specjalna **__ mul __**,\n",
    "- dzielenie - metoda specjalna **__ truediv __**,\n",
    "- dzielenia całkowitego - metoda specjalna **__ froordiv __**,\n",
    "- podnoszenia do ptęgi - metoda specjalna **__ pow __**,\n",
    "- ...\n",
    "\n",
    "Link do materiału listującego pozostałe metody specjalne: https://diveintopython3.net/special-method-names.html"
   ]
  },
  {
   "cell_type": "markdown",
   "id": "f2bd94a9-cdb0-45d0-808d-6eb890d90910",
   "metadata": {},
   "source": [
    "# Jak wypisać wszystkie atrybuty obiektu?"
   ]
  },
  {
   "cell_type": "markdown",
   "id": "338a97f1-20ec-4d03-9c4e-40aab2ad74ed",
   "metadata": {},
   "source": [
    "#### Funkcja wbudowana **dir**:"
   ]
  },
  {
   "cell_type": "code",
   "execution_count": 18,
   "id": "0ec5f34d-63df-416c-b2a9-82f994a09754",
   "metadata": {},
   "outputs": [
    {
     "data": {
      "text/plain": [
       "['__class__',\n",
       " '__delattr__',\n",
       " '__dict__',\n",
       " '__dir__',\n",
       " '__doc__',\n",
       " '__eq__',\n",
       " '__format__',\n",
       " '__ge__',\n",
       " '__getattribute__',\n",
       " '__getstate__',\n",
       " '__gt__',\n",
       " '__hash__',\n",
       " '__init__',\n",
       " '__init_subclass__',\n",
       " '__le__',\n",
       " '__lt__',\n",
       " '__module__',\n",
       " '__ne__',\n",
       " '__new__',\n",
       " '__reduce__',\n",
       " '__reduce_ex__',\n",
       " '__repr__',\n",
       " '__setattr__',\n",
       " '__sizeof__',\n",
       " '__str__',\n",
       " '__subclasshook__',\n",
       " '__weakref__',\n",
       " 'age',\n",
       " 'name',\n",
       " 'surname']"
      ]
     },
     "execution_count": 18,
     "metadata": {},
     "output_type": "execute_result"
    }
   ],
   "source": [
    "class Person:\n",
    "    def __init__(self, name, surname, age):\n",
    "        self.name = name\n",
    "        self.surname = surname\n",
    "        self.age = age\n",
    "        \n",
    "    def __repr__(self):\n",
    "        return \"{} {}, age: {}\".format(self.name, self.surname, self.age)\n",
    "\n",
    "\n",
    "a = Person(\"John\", \"Kovalsky\", 36)\n",
    "dir(a)"
   ]
  },
  {
   "cell_type": "markdown",
   "id": "b0cdeddf-dd3a-4799-85b3-1ad7f05cd53b",
   "metadata": {},
   "source": [
    "# Ćwiczenia (na zajęcia):"
   ]
  },
  {
   "cell_type": "markdown",
   "id": "f5b673ef-5e6a-417f-aefa-13156b69b151",
   "metadata": {},
   "source": [
    "#### 1. Napisz program, który posortuje poniższą listę alfabetycznie po pierwszym elemencie każdej krotki.\n",
    "\n",
    "```Python\n",
    "a = [(\"kot\", 5.43, \"21\"), (\"kanarek\", None), (\"pies\"), (\"rybki\", [5.43, 3.34]), (\"chomik\", 0)]\n",
    "```"
   ]
  },
  {
   "cell_type": "markdown",
   "id": "20723d9a-82e9-4903-a80e-e9a328becabe",
   "metadata": {},
   "source": [
    "#### 2. Napisz program, który posortuje poniższy słownik tak, aby klucze były w kolejności alfabetycznej.\n",
    "\n",
    "```Python\n",
    "a = {\n",
    "    \"kot\": 76,\n",
    "    \"pies\": 12,\n",
    "    \"kanarek\": 87,\n",
    "    \"rybki\": 61,\n",
    "    \"chomik\": 11,\n",
    "}\n",
    "```"
   ]
  },
  {
   "cell_type": "markdown",
   "id": "3a0cd14b-7dda-41ec-88d4-81135ad0899d",
   "metadata": {},
   "source": [
    "#### 3. Napisz klasę reprezentującą liczbę zespoloną. Klasa powinna mieć inicjalizator (__ init __), oraz powinno się ją dać wypisać przy pomocy funkcji wbudowanej print (powinna implementować __ repr __). "
   ]
  },
  {
   "cell_type": "markdown",
   "id": "be6f7385-a70f-4c0f-abce-6f993956709d",
   "metadata": {},
   "source": [
    "#### 4. Czy zmienna **value** zdefiniowana w metodzie **add_one** poniższej klasy będzie widoczna publicznie?\n",
    "\n",
    "```Python\n",
    "class Number:\n",
    "    def __init__(self, number):\n",
    "        self.number = number\n",
    "\n",
    "    def add_one(self):\n",
    "        value = self.number + 1\n",
    "        self.number = value\n",
    "```"
   ]
  },
  {
   "cell_type": "markdown",
   "id": "e1ec08d2-ea93-4c74-ab84-8a2ab88a7ac3",
   "metadata": {},
   "source": [
    "#### 5. Jakie pola będzie miał obiekt **a** po wykonaniu poniższego kodu?\n",
    "\n",
    "```Python\n",
    "class Person:\n",
    "    def __init__(self, name, surname, age):\n",
    "        self.name = name\n",
    "        self.surname = surname\n",
    "        self.age = age\n",
    "\n",
    "    def add_pesel(self, pesel):\n",
    "        self.pesel = pesel\n",
    "        \n",
    "\n",
    "a = Person(\"John\", \"Kovalsky\", 36)\n",
    "print(a.age)\n",
    "```"
   ]
  },
  {
   "cell_type": "markdown",
   "id": "02645ee7-5fa3-4383-b0cc-3c2c1a152ac2",
   "metadata": {},
   "source": [
    "#### 6. Zbuduj listę obiektów klasy **Vec2D** na podstawie krotek z listy **a** (spróbuj to zrobić przy pomocy listy składanej):\n",
    "\n",
    "```Python\n",
    "class Vec2D:\n",
    "    def __init__(self, x, y):\n",
    "        self.x = x\n",
    "        self.y = y\n",
    "\n",
    "    def __repr__(self):\n",
    "        return \"[{}, {}]\".format(self.x, self.y)\n",
    "\n",
    "a = [(8.76, 4.33), (2.23, 6.54), (2.34, 7.62), (1.23, 6.54), (8.65, 3.23)]\n",
    "```"
   ]
  },
  {
   "cell_type": "markdown",
   "id": "8e451ed9-deda-490e-9b2d-f00c4df48670",
   "metadata": {},
   "source": [
    "#### 7. Zaimplementuj metodę specjalną **__ add __** do klasy z *Zadania 6* i zsumuj wszystkie wektory powstałe z listy **a**."
   ]
  },
  {
   "cell_type": "markdown",
   "id": "3366027b-fc17-43af-ac29-972cf429f2db",
   "metadata": {},
   "source": [
    "#### 8. Posortuj listę obiektów **Vec2D** z *Zadania 6* względem długości (od najkrótszego do najdłuższego)."
   ]
  },
  {
   "cell_type": "markdown",
   "id": "f97cc8ca-a162-4692-b882-f16c291d4424",
   "metadata": {},
   "source": [
    "#### 9. Uzupełnij definicję poniższej klasy:\n",
    "\n",
    "```Python\n",
    "class Sequence:\n",
    "    def __init__(self, seq):\n",
    "        # To jest pole przechowujące napis będący sekwencją nukleotydową:\n",
    "        self.seq = seq\n",
    "\n",
    "    def get_complementary(self):\n",
    "        # C -> G\n",
    "        # G -> C\n",
    "        # A -> T\n",
    "        # T -> A\n",
    "\n",
    "        # Ta metoda powinna tworzyć nowy obiekt klasy Sequence, uzupełnij jej ciało.\n",
    "```"
   ]
  },
  {
   "cell_type": "markdown",
   "id": "6a13d7a4-7197-4f56-8eb0-8eae2a60b71a",
   "metadata": {},
   "source": [
    "#### 10. Napisz klasę reprezentującą psa (takie zwierzę). Klasa powinna mieć odpowienie pola i metody. Obiekty tej klasy powinno dać się łatwo wypisać."
   ]
  },
  {
   "cell_type": "markdown",
   "id": "915dd0b4-0ea0-4d66-994c-0628d97fb7e6",
   "metadata": {},
   "source": [
    "# **Zadania:**"
   ]
  },
  {
   "cell_type": "markdown",
   "id": "4ad5b03d-4b7b-4574-b003-0663f9ce7e77",
   "metadata": {},
   "source": [
    "#### Zadanie 1:"
   ]
  },
  {
   "cell_type": "markdown",
   "id": "f5819549-76fb-4501-85d0-0e0b11f8527f",
   "metadata": {},
   "source": [
    "Poniżej zdefiniowana została klasa **Polynomial**, reprezentująca wielomian 3 stopnia. Napisz metodę służącą do wyznaczania wartości wielomianu dla zadanego **x**. Wielomian ma postać:\n",
    "\n",
    "$$w(x) = ax^3 + bx^2 + cx + d$$\n",
    "\n",
    "```Python\n",
    "class Polynomial:\n",
    "    def __init__(self, a, b, c, d):\n",
    "        self.a = a\n",
    "        self.b = b\n",
    "        self.c = c\n",
    "        self.d = d\n",
    "\n",
    "    def evaluate(self, x):\n",
    "        # Ta metoda powinna zwracać wartość wielomianu dla zadanego x. Uzupełnij jej ciało.\n",
    "\n",
    "```"
   ]
  },
  {
   "cell_type": "markdown",
   "id": "d7f537a8-458d-4f6a-9b56-44b658d5fd75",
   "metadata": {},
   "source": [
    "#### Zadanie 2:"
   ]
  },
  {
   "cell_type": "markdown",
   "id": "ed4348f6-4a73-444f-8eb7-33ca7ef989f1",
   "metadata": {},
   "source": [
    "Na podstawie listy krotek **a** utwórz listę obiektów klasy **Vec3D** (uzupełnij ciało metody **length**). Powstałą listę wektorów posortuj zgodnie z ich długością **d**.\n",
    "\n",
    "$$d(\\vec{v}) = \\sqrt{v_x^2 + v_y^2 + v_z^2}$$\n",
    "\n",
    "```Python\n",
    "class Vec3D:\n",
    "    def __init__(self, x, y, z):\n",
    "        self.x = x\n",
    "        self.y = y\n",
    "        self.z = z\n",
    "\n",
    "    def __repr__(self):\n",
    "        return \"[{}, {}, {}]\".format(self.x, self.y, self.z)\n",
    "\n",
    "    def length(self):\n",
    "        # Ta funkcja powinna długość wektora.\n",
    "\n",
    "\n",
    "a = [(8.76, 4.45, 4.21), (9.32, 8.38, 2.43), (0.98, 2.23, 0.61), (2.23, 6.53, 1.23), (7.65, 2.23, 7.65)]\n",
    "```"
   ]
  },
  {
   "cell_type": "markdown",
   "id": "e05ba38a-b189-4275-84b2-b644228ef3b6",
   "metadata": {},
   "source": [
    "#### Zadanie 3:"
   ]
  },
  {
   "cell_type": "markdown",
   "id": "15caa183-6f9f-4265-b7f8-90991522a392",
   "metadata": {},
   "source": [
    "Dokończ implementację klasy **Rectangle**, reprezentującej prostokąt:\n",
    "\n",
    "```Python\n",
    "class Rectangle\n",
    "    def __init__(self, a, b):\n",
    "        self.a = a\n",
    "        self.b = b\n",
    "\n",
    "    def area(self):\n",
    "        # Ta metoda powinna zwracać pole powierzchni prostokąta.\n",
    "\n",
    "    def perimeter(self):\n",
    "        # Ta metoda powinna zwracać długość obwodu prostokąta.\n",
    "\n",
    "    def diagonal(self):\n",
    "        # Ta metoda powinna zwracać długość przekątnej prostokąta.\n",
    "\n",
    "    def __repr__(self):\n",
    "        # Reprezentacja obiektu powinna być w miarę szczegółowa.\n",
    "\n",
    "\n",
    "a = Rectangle(5, 3)\n",
    "\n",
    "print(a.area())\n",
    "print(a.perimeter())\n",
    "print(a.diagonal())\n",
    "\n",
    "print(a)\n",
    "```"
   ]
  },
  {
   "cell_type": "markdown",
   "id": "4e4053d0-efaa-421b-ba99-ab3265a3dd64",
   "metadata": {},
   "source": [
    "#### Zadanie 4:"
   ]
  },
  {
   "cell_type": "markdown",
   "id": "b2154216-1659-4926-9e4a-7272e571e35c",
   "metadata": {},
   "source": [
    "Dokończ implementację klasy **Fib** służącej do wyznaczania wartości kolejnych wyrazów ciągu Fibonacciego.\n",
    "\n",
    "```Python\n",
    "class Fib:\n",
    "    def __init__(self):\n",
    "        # Zerowy element ciągu:\n",
    "        self.a = 0\n",
    "\n",
    "        # Pierwszy element ciągu:\n",
    "        self.b = 1\n",
    "\n",
    "        # Ta zmienna jest potrzebna żeby sprawdzić który element ciągu jest aktualnie wypisywany:\n",
    "        self.current_element = 0\n",
    "\n",
    "    def next(self):\n",
    "        # Ta metoda powinna zwracacać następny wyraz ciągu Fibonacciego.\n",
    "\n",
    "\n",
    "fib = Fib()\n",
    "\n",
    "# Wszystkie poniższe warunki powinny być równe True:\n",
    "print(fib.next() == 0)\n",
    "print(fib.next() == 1)\n",
    "print(fib.next() == 1)\n",
    "print(fib.next() == 2)\n",
    "print(fib.next() == 3)\n",
    "print(fib.next() == 5)\n",
    "print(fib.next() == 8)\n",
    "print(fib.next() == 13)\n",
    "```"
   ]
  },
  {
   "cell_type": "markdown",
   "id": "c5a89bbd-bd98-4d93-b6e9-ca8fe21696eb",
   "metadata": {},
   "source": [
    "#### Zadanie 5:"
   ]
  },
  {
   "cell_type": "markdown",
   "id": "e6903998-25d8-45de-9b60-867fbacd4885",
   "metadata": {},
   "source": [
    "Posortuj listę **a** obiektów klasy **Person** w porządku alfabetycznym ze względu na imię.\n",
    "\n",
    "```Python\n",
    "class Person:\n",
    "    def __init__(self, name, age):\n",
    "        self.name = name\n",
    "        self.age = age\n",
    "\n",
    "    def __repr__(self):\n",
    "        return \"{}, age: {}\".format(self.name, self.age)\n",
    "\n",
    "\n",
    "a = [\n",
    "    Person(\"Krzysztof\", 38),\n",
    "    Person(\"Joanna\", 45),\n",
    "    Person(\"Paweł\", 23),\n",
    "    Person(\"Agnieszka\", 19),\n",
    "    Person(\"Michał\", 24),\n",
    "    Person(\"Dominika\", 27)\n",
    "]\n",
    "```"
   ]
  },
  {
   "cell_type": "markdown",
   "id": "0cf6fa47-8720-4eb1-a9a0-edad9fc5c7b4",
   "metadata": {},
   "source": [
    "#### Zadanie 6*:"
   ]
  },
  {
   "cell_type": "markdown",
   "id": "18813d86-35d4-4932-9f04-5f228a3ee8f4",
   "metadata": {},
   "source": [
    "Napisz klasę reprezentującą funkcję kwadratową. Klasa powinna mieć pola reprezentujące współczynniki **a**, **b** i **c** trójmianu kwadratowego. Zaimplementuj metody służące do:\n",
    "- wyznaczania **pierwiastków** równania kwadratowego (Jak je reprezentować? Mogą być dwa, może być jeden, może nie być wcale...),\n",
    "- wyznaczania **delty**,\n",
    "- wyznaczania **wartości funkcji** dla zadanego **x**."
   ]
  }
 ],
 "metadata": {
  "kernelspec": {
   "display_name": "Python 3 (ipykernel)",
   "language": "python",
   "name": "python3"
  },
  "language_info": {
   "codemirror_mode": {
    "name": "ipython",
    "version": 3
   },
   "file_extension": ".py",
   "mimetype": "text/x-python",
   "name": "python",
   "nbconvert_exporter": "python",
   "pygments_lexer": "ipython3",
   "version": "3.12.0"
  }
 },
 "nbformat": 4,
 "nbformat_minor": 5
}
