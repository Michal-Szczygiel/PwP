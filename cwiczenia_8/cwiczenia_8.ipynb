{
 "cells": [
  {
   "cell_type": "markdown",
   "id": "758cbd56-5261-4efd-9df2-f8553cececd7",
   "metadata": {},
   "source": [
    "# Wyrażenia regularne (*regex*) i moduł **re**"
   ]
  },
  {
   "cell_type": "markdown",
   "id": "a86476e3-0879-4ebb-b51b-b1341ec8411c",
   "metadata": {},
   "source": [
    "#### Przykład:"
   ]
  },
  {
   "cell_type": "code",
   "execution_count": 1,
   "id": "09f831f8-b168-417c-aeaf-6333a9618262",
   "metadata": {},
   "outputs": [
    {
     "name": "stdout",
     "output_type": "stream",
     "text": [
      "['aggt', 'tggt']\n"
     ]
    }
   ],
   "source": [
    "# Importowanie modułu re (regex):\n",
    "import re\n",
    "\n",
    "# Sekwencja:\n",
    "seq = \"cgaggtatggta\"\n",
    "\n",
    "# Reguła dopasowania:\n",
    "pattern = \".ggt\"\n",
    "\n",
    "# Wyszukanie wszystkich podciągów sekwencji zgodnych z regułą:\n",
    "matches = re.findall(pattern, seq)\n",
    "\n",
    "print(matches)"
   ]
  },
  {
   "cell_type": "markdown",
   "id": "6fac65a0-0dbe-4306-b2f0-a827c7dc8c7c",
   "metadata": {},
   "source": [
    "#### Reguły:\n",
    "\n",
    "|Symbol|Opis|Przykład|\n",
    "|------|-----|-------|\n",
    "| . | Jeden dowolny znak, ale nie znak nowej linii | \".ggt\" |\n",
    "| [] | Zbiór znaków | \"[\"a-z]\" |\n",
    "| \\ | Poprzedza znak specjalny lub sekwencję specjalną | \"\\n\" |\n",
    "| * | Zero lub wiele wystąpień znaku poprzedzającego | \"ag*t\" |\n",
    "| + | Jedno lub wiele wystąpień znaku poprzedzającego | \"cga+g\" |\n",
    "| ? | Zero lub jedno wystąpienie znaku poprzedzającego | \"ggt?a\" |\n",
    "| {} | Dokładna liczba (lub zakres) powtórzeń znaku poprzedzajacego | \"ag{1,2}t\" |\n",
    "| ^ | Symbol początku tekstu | \"^cga\" |\n",
    "| \\$ | Symbol końca tekstu | \"ggta$\" |\n",
    "| \\| | Logiczne lub | \"cg.\\|ta.\" |"
   ]
  },
  {
   "cell_type": "markdown",
   "id": "222d0d2d-7312-4c6b-9d31-cac66a872fce",
   "metadata": {},
   "source": [
    "#### Zbiory znaków:\n",
    "\n",
    "\n",
    "| Zbiór | Opis |\n",
    "|------|-------|\n",
    "| [cg] | Zbór zawierający dwa znaki: **c** i **g** |\n",
    "| [a-e] | Zbiór znaków od a do e (alfabetycznie) |\n",
    "| [A-E] | Zbiór znaków od A do E (alfabetycznie) |\n",
    "| [0-9] | Zbiór wszystkich cyfr |\n",
    "| [a-zA-Z] | Zbiór wszystkich liter alfabetu łacińskiego |\n",
    "| [^cg] | Zbiór znaków z wyjątkiem **c** i **g** |"
   ]
  },
  {
   "cell_type": "markdown",
   "id": "b2bdb92f-b2a2-4e86-aa1b-c629975115e0",
   "metadata": {},
   "source": [
    "#### Przykład budowania wzorca:\n",
    "\n",
    "**Zadanie A:** Znajdź w sekwencji wszystkie podsekwencje zaczynające się od **\"cg\"**, następnie posiadające od 2 do 5 dowolnych nukleotydów i kończące się na **\"tg\"**."
   ]
  },
  {
   "cell_type": "code",
   "execution_count": 2,
   "id": "f58d6552-abff-41a7-835f-4104254a7a0a",
   "metadata": {},
   "outputs": [
    {
     "name": "stdout",
     "output_type": "stream",
     "text": [
      "['cgaactg', 'cgtagtg']\n"
     ]
    }
   ],
   "source": [
    "import re\n",
    "\n",
    "seq = \"atgcgaactgatcgctgacgtagtgaa\"\n",
    "pattern = \"cg.{2,5}tg\"\n",
    "\n",
    "matches = re.findall(pattern, seq)\n",
    "\n",
    "print(matches)"
   ]
  },
  {
   "cell_type": "markdown",
   "id": "fb6890f5-921d-43a9-a25d-e329b614253b",
   "metadata": {},
   "source": [
    "**Zadanie B:** Znajdź w sekwencji wszystkie podsekwencie zaczynające się od **\"cXg\"** (gdzie **X** należy do zbioru {\"a\", \"t\", \"c\"}), następnie posiadające 2 lub więcej powtórzenia \"at\" i kończące się na **\"tg\"**."
   ]
  },
  {
   "cell_type": "code",
   "execution_count": 3,
   "id": "20192048-cded-45d5-8dae-7afe7d536cc1",
   "metadata": {},
   "outputs": [
    {
     "name": "stdout",
     "output_type": "stream",
     "text": [
      "['ctgatatattg', 'cagatattg']\n"
     ]
    }
   ],
   "source": [
    "import re\n",
    "\n",
    "seq = \"actgatatattgccagatattga\"\n",
    "\n",
    "# ?: non-capturing group\n",
    "pattern = \"c[atc]g(?:at){2,}tg\"\n",
    "\n",
    "matches = re.findall(pattern, seq)\n",
    "\n",
    "print(matches)"
   ]
  },
  {
   "cell_type": "markdown",
   "id": "f570e667-e631-4d25-904d-9c740a20b3ca",
   "metadata": {},
   "source": [
    "#### Funkcje z modułu **re**:\n",
    "\n",
    "- **findall** - szuka wszystkich wystąpień wzorca,\n",
    "- **search** - szuka do pierwszego wystąpienia wzorca, zwraca obiekt **Match**,\n",
    "- **split** - zwraca listę napisów z tekstu podzielonego przez każde dopasowanie,\n",
    "- **sub** - Zamienia wystąpienia dopasowanego podciągu na inny ciąg."
   ]
  },
  {
   "cell_type": "code",
   "execution_count": 4,
   "id": "a1743e87-634f-48c7-b3ed-8468b8de3f53",
   "metadata": {},
   "outputs": [
    {
     "name": "stdout",
     "output_type": "stream",
     "text": [
      "<re.Match object; span=(1, 12), match='ctgatatattg'>\n",
      "(1, 12)\n",
      "ctgatatattg\n",
      "actgatatattgccagatattga\n"
     ]
    }
   ],
   "source": [
    "import re\n",
    "\n",
    "seq = \"actgatatattgccagatattga\"\n",
    "pattern = \"c[atc]g(?:at){2,}tg\"\n",
    "\n",
    "match = re.search(pattern, seq)\n",
    "\n",
    "# Wypisanie obiektu Match:\n",
    "print(match)\n",
    "\n",
    "# Wypisanie zakresu tekstu w którym nastąpiło dopasowanie:\n",
    "print(match.span())\n",
    "\n",
    "# Wypisanie dopasowania:\n",
    "print(match.group())\n",
    "\n",
    "# Wypisanie tekstu na któym pracowała funkcja search\n",
    "print(match.string)"
   ]
  },
  {
   "cell_type": "code",
   "execution_count": 5,
   "id": "9d18a62c-4257-48ee-9993-658fe59ddbaa",
   "metadata": {},
   "outputs": [
    {
     "name": "stdout",
     "output_type": "stream",
     "text": [
      "['act', 'tatattgcca', 'tatt', '']\n"
     ]
    }
   ],
   "source": [
    "import re\n",
    "\n",
    "seq = \"actgatatattgccagatattga\"\n",
    "pattern = \"ga\"\n",
    "\n",
    "# Przykład użycia funckji split:\n",
    "substrings = re.split(pattern, seq)\n",
    "\n",
    "print(substrings)"
   ]
  },
  {
   "cell_type": "code",
   "execution_count": 6,
   "id": "9cbb1a85-9b36-47f8-9b10-63ff7fde4776",
   "metadata": {},
   "outputs": [
    {
     "name": "stdout",
     "output_type": "stream",
     "text": [
      "actXXtatattgccaXXtattXX\n"
     ]
    }
   ],
   "source": [
    "import re\n",
    "\n",
    "seq = \"actgatatattgccagatattga\"\n",
    "pattern = \"ga\"\n",
    "\n",
    "# Przykład użycia funckji sub:\n",
    "substitution = re.sub(pattern, \"XX\", seq)\n",
    "\n",
    "print(substitution)"
   ]
  },
  {
   "cell_type": "markdown",
   "id": "149c6e62-ca89-417f-8021-e4bc96b87b87",
   "metadata": {},
   "source": [
    "#### Strona do testowania wyrażeń regularnych:\n",
    "\n",
    "Link: https://regex101.com/"
   ]
  },
  {
   "cell_type": "markdown",
   "id": "4362583f-bdef-406b-836e-3e8d9a158f25",
   "metadata": {},
   "source": [
    "# Python praktyczny:"
   ]
  },
  {
   "cell_type": "markdown",
   "id": "16190385-78d4-4541-a4dc-d62fb61b1159",
   "metadata": {},
   "source": [
    "#### Jak wygenerować liczbę losową?"
   ]
  },
  {
   "cell_type": "code",
   "execution_count": 7,
   "id": "32b52a82-d68b-488a-b29d-346d7c51ad91",
   "metadata": {},
   "outputs": [
    {
     "name": "stdout",
     "output_type": "stream",
     "text": [
      "69\n",
      "5.315751023035167\n"
     ]
    }
   ],
   "source": [
    "import random\n",
    "\n",
    "# Losowa liczba całkowita z zakresu {0, 100}, 100 wchodzi do zakresu, rozkład płaski:\n",
    "random_int = random.randint(0, 100)\n",
    "print(random_int)\n",
    "\n",
    "# Zmiennoprzecinkowa liczba losowa z zakresu {0.0, 10.0}, rozkład płaski\n",
    "random_float = random.uniform(0.0, 10.0)\n",
    "print(random_float)"
   ]
  },
  {
   "cell_type": "markdown",
   "id": "93e25ed8-078b-4ced-be37-09511e288609",
   "metadata": {},
   "source": [
    "#### Jak policzyć sin kąta?"
   ]
  },
  {
   "cell_type": "code",
   "execution_count": 8,
   "id": "8115450f-cc24-47b5-be5d-76f5d6bf4c82",
   "metadata": {},
   "outputs": [
    {
     "name": "stdout",
     "output_type": "stream",
     "text": [
      "0.999999998926914\n"
     ]
    }
   ],
   "source": [
    "import math\n",
    "\n",
    "# sin\n",
    "# cos\n",
    "# sqrt\n",
    "# ...\n",
    "\n",
    "a = 3.1415 / 2\n",
    "x = math.sin(a)\n",
    "\n",
    "print(x)"
   ]
  },
  {
   "cell_type": "markdown",
   "id": "0ed8947f-4392-4ba6-b76d-3dcf480b2083",
   "metadata": {},
   "source": [
    "#### Jak zmierzyć czas?"
   ]
  },
  {
   "cell_type": "code",
   "execution_count": 9,
   "id": "243f0b6b-38c5-422c-a571-b2ef5cb43ef2",
   "metadata": {},
   "outputs": [
    {
     "name": "stdout",
     "output_type": "stream",
     "text": [
      "0.22764348983764648\n"
     ]
    }
   ],
   "source": [
    "import time\n",
    "\n",
    "start = time.time()\n",
    "a = [(x / 1000) ** 2 for x in range(1000000)]\n",
    "end = time.time()\n",
    "\n",
    "print(end - start)"
   ]
  },
  {
   "cell_type": "markdown",
   "id": "ba42778f-d058-45c2-bad1-0b0d144c9373",
   "metadata": {},
   "source": [
    "#### Jak pracować z datami?"
   ]
  },
  {
   "cell_type": "code",
   "execution_count": 10,
   "id": "3a7ee76b-915a-4644-8a94-95242a29a4ab",
   "metadata": {},
   "outputs": [
    {
     "name": "stdout",
     "output_type": "stream",
     "text": [
      "2023-12-04 12:09:49.690428 \n",
      "-----------------\n",
      "12:09:49.690428\n",
      "12\n",
      "9\n",
      "49 \n",
      "-----------------\n",
      "2023-12-04\n",
      "2023\n",
      "12\n",
      "4\n"
     ]
    }
   ],
   "source": [
    "import datetime\n",
    "\n",
    "# Aktualna data i czas:\n",
    "now = datetime.datetime.now()\n",
    "\n",
    "print(now, \"\\n-----------------\")\n",
    "print(now.time())\n",
    "print(now.time().hour)\n",
    "print(now.time().minute)\n",
    "print(now.time().second, \"\\n-----------------\")\n",
    "print(now.date())\n",
    "print(now.date().year)\n",
    "print(now.date().month)\n",
    "print(now.date().day)"
   ]
  },
  {
   "cell_type": "code",
   "execution_count": 11,
   "id": "ee49fa23-bf2e-4042-b4aa-dfba06e5c18f",
   "metadata": {},
   "outputs": [
    {
     "name": "stdout",
     "output_type": "stream",
     "text": [
      "2023-12-25 12:00:00\n",
      "20 days, 23:50:10.296415\n"
     ]
    }
   ],
   "source": [
    "# 2023-12-25 12:00\n",
    "date = datetime.datetime(2023, 12, 25, 12, 0)\n",
    "print(date)\n",
    "\n",
    "now = datetime.datetime.now()\n",
    "\n",
    "# Ile czasu do 2023-12-25 12:00?\n",
    "print(date - now)"
   ]
  },
  {
   "cell_type": "markdown",
   "id": "a2c7c1cc-0a74-4c5d-82d7-eb0176edac5c",
   "metadata": {},
   "source": [
    "#### Jak pracować ze ścieżkami?"
   ]
  },
  {
   "cell_type": "code",
   "execution_count": 12,
   "id": "5ad5fa72-e266-4f6c-b8c1-0cbc4f4a48c5",
   "metadata": {},
   "outputs": [
    {
     "name": "stdout",
     "output_type": "stream",
     "text": [
      "('C:/Programowanie_w_pythonie/cwiczenia_8', 'cwiczenia_8.ipynb')\n",
      "C:/Programowanie_w_pythonie/cwiczenia_8\n"
     ]
    }
   ],
   "source": [
    "import os\n",
    "\n",
    "p = \"C:/Programowanie_w_pythonie/cwiczenia_8/cwiczenia_8.ipynb\"\n",
    "\n",
    "# Podzielenie ścieżki na ogon i głowę:\n",
    "path_elements = os.path.split(p)\n",
    "print(path_elements)\n",
    "\n",
    "# Uzyskiwanie ścieżki do katalogu:\n",
    "dir_name = os.path.dirname(p)\n",
    "print(dir_name)"
   ]
  },
  {
   "cell_type": "code",
   "execution_count": 13,
   "id": "f3461532-ad90-4dce-b097-9e263b2ee360",
   "metadata": {},
   "outputs": [
    {
     "name": "stdout",
     "output_type": "stream",
     "text": [
      "True\n"
     ]
    }
   ],
   "source": [
    "p = \"C:/Programowanie_w_pythonie\"\n",
    "\n",
    "# Sprawdzenie czy podana ścieżka wskazuje na katalog:\n",
    "print(os.path.isdir(p))"
   ]
  },
  {
   "cell_type": "code",
   "execution_count": 14,
   "id": "505d57f6-dae0-4b1e-b3b6-6b55fc648d48",
   "metadata": {},
   "outputs": [
    {
     "name": "stdout",
     "output_type": "stream",
     "text": [
      "True\n"
     ]
    }
   ],
   "source": [
    "p = \"C:/Programowanie_w_pythonie/cwiczenia_8/cwiczenia_8.ipynb\"\n",
    "\n",
    "# Sprawdzenie czy podana ścieżka wskazuje na plik:\n",
    "print(os.path.isfile(p))"
   ]
  },
  {
   "cell_type": "markdown",
   "id": "b8dfeec0-7e15-455e-9032-391c5c165c85",
   "metadata": {},
   "source": [
    "#### Jak wylistować zawartość katalogu?"
   ]
  },
  {
   "cell_type": "code",
   "execution_count": 15,
   "id": "50909a42-0230-42e2-a67f-02d5899df10b",
   "metadata": {},
   "outputs": [
    {
     "name": "stdout",
     "output_type": "stream",
     "text": [
      "['.ipynb_checkpoints', 'a.txt', 'copy_test.txt', 'copy_test_2.txt', 'cw1.txt', 'cw10.txt', 'cw2.txt', 'cw4.txt', 'cw6.txt', 'cw7.txt', 'cwiczenia_6.html', 'cwiczenia_6.ipynb', 'data.txt', 'div.txt', 'hello.txt', 'hello_2.txt', 'main.py', 'points.txt', 'update.txt', 'zad1.txt', 'zad3.txt', 'zad4.txt']\n"
     ]
    }
   ],
   "source": [
    "import os\n",
    "\n",
    "# Listowanie zawartości katalogu:\n",
    "content = os.listdir(\"C:/Programowanie_w_pythonie/cwiczenia_6\")\n",
    "\n",
    "print(content)"
   ]
  },
  {
   "cell_type": "code",
   "execution_count": 16,
   "id": "b2930feb-82e6-48d7-9f6b-f3675830e6d4",
   "metadata": {},
   "outputs": [
    {
     "name": "stdout",
     "output_type": "stream",
     "text": [
      "['a.txt', 'copy_test.txt', 'copy_test_2.txt', 'cw1.txt', 'cw10.txt', 'cw2.txt', 'cw4.txt', 'cw6.txt', 'cw7.txt', 'data.txt', 'div.txt', 'hello.txt', 'hello_2.txt', 'points.txt', 'update.txt', 'zad1.txt', 'zad3.txt', 'zad4.txt']\n"
     ]
    }
   ],
   "source": [
    "content = os.listdir(\"C:/Programowanie_w_pythonie/cwiczenia_6\")\n",
    "\n",
    "# Filtrowanie plików po rozszerzeniu:\n",
    "txt_files = [path for path in content if path.split(\".\")[1] == \"txt\"]\n",
    "\n",
    "print(txt_files)"
   ]
  },
  {
   "cell_type": "markdown",
   "id": "3d76ca10-dbfb-41f4-aaaa-7108d3ea272d",
   "metadata": {},
   "source": [
    "# Ćwiczenia (na zajęcia):"
   ]
  },
  {
   "cell_type": "markdown",
   "id": "cb11f526-aa64-42a4-9274-e9f751e6d560",
   "metadata": {},
   "source": [
    "#### 1. Znajdź wszystkie wystąpienia słowa **\"kot\"** w poniższym tekście. Użyj wyrażenia regularnego.\n",
    "\n",
    "```Python\n",
    "txt = \"pies kot kot kanarek kot rybki\"\n",
    "```"
   ]
  },
  {
   "cell_type": "markdown",
   "id": "3fb9b9aa-8277-4a64-acf4-3bbd17cac2fc",
   "metadata": {},
   "source": [
    "#### 2. Znajdź wszystkie wystąpienia podciągu typu: **cgYXXt**, gdzie **Y** to znak należący do {\"a\", \"t\"} a **X** to dowolny znak z alfabetu {\"c\", \"g\", \"a\", \"t\"}.\n",
    "\n",
    "```Python\n",
    "seq = \"ctacgatatgcgtaatcg\"\n",
    "```"
   ]
  },
  {
   "cell_type": "markdown",
   "id": "a91f4ad3-04b3-4491-bbd8-edb4bf8ce007",
   "metadata": {},
   "source": [
    "#### 3. Napisz wyrażenie regularne opisujące poniższe ciągi:\n",
    "\n",
    "```\n",
    "atcg\n",
    "atccg\n",
    "atcccg\n",
    "atccccg\n",
    "actcg\n",
    "acctcccg\n",
    "accccctcccg\n",
    "```"
   ]
  },
  {
   "cell_type": "markdown",
   "id": "abb15672-3c98-42ac-8d61-77f69a959138",
   "metadata": {},
   "source": [
    "#### 4. Napisz wyrażenie regularne znajdujące nazwę aminokwasu w każdej linijce poniższego pliku PDB:\n",
    "\n",
    "```Python\n",
    "txt = \"\"\"ATOM   1747  N   LYS A 218      59.992  22.309  40.874  1.00 19.55           N  \n",
    "ATOM   1748  CA  LYS A 218      59.534  22.699  42.205  1.00 19.76           C  \n",
    "ATOM   1749  C   LYS A 218      59.764  24.168  42.511  1.00 18.22           C  \n",
    "ATOM   1750  O   LYS A 218      60.565  24.833  41.862  1.00 19.18           O  \n",
    "ATOM   1751  CB  LYS A 218      60.286  21.913  43.284  1.00 24.45           C  \n",
    "ATOM   1752  CG  LYS A 218      60.370  20.417  43.103  1.00 28.21           C  \n",
    "ATOM   1753  CD  LYS A 218      61.333  19.849  44.141  1.00 31.68           C  \n",
    "ATOM   1754  CE  LYS A 218      61.584  18.364  43.936  1.00 34.95           C  \n",
    "ATOM   1755  NZ  LYS A 218      62.596  17.847  44.904  1.00 38.08           N  \n",
    "ATOM   1756  N   SER A 219      59.041  24.645  43.521  1.00 17.60           N  \n",
    "ATOM   1757  CA  SER A 219      59.162  26.000  44.047  1.00 16.41           C  \n",
    "ATOM   1758  C   SER A 219      59.336  25.806  45.549  1.00 16.24           C  \n",
    "ATOM   1759  O   SER A 219      58.826  24.842  46.116  1.00 17.88           O  \n",
    "ATOM   1760  CB  SER A 219      57.892  26.823  43.803  1.00 17.29           C  \n",
    "ATOM   1761  OG  SER A 219      57.875  27.386  42.505  1.00 16.63           O  \n",
    "ATOM   1762  N   TYR A 220      60.057  26.718  46.184  1.00 16.83           N  \n",
    "ATOM   1763  CA  TYR A 220      60.271  26.651  47.622  1.00 18.04           C  \n",
    "ATOM   1764  C   TYR A 220      59.783  27.918  48.288  1.00 18.27           C  \n",
    "ATOM   1765  O   TYR A 220      59.785  28.991  47.685  1.00 18.07           O  \n",
    "ATOM   1766  CB  TYR A 220      61.759  26.525  47.958  1.00 17.94           C  \n",
    "ATOM   1767  CG  TYR A 220      62.439  25.291  47.433  1.00 18.79           C  \n",
    "ATOM   1768  CD1 TYR A 220      63.338  25.371  46.370  1.00 20.42           C  \n",
    "ATOM   1769  CD2 TYR A 220      62.196  24.045  48.002  1.00 21.36           C  \n",
    "ATOM   1770  CE1 TYR A 220      63.982  24.236  45.886  1.00 22.54           C  \n",
    "ATOM   1771  CE2 TYR A 220      62.834  22.903  47.525  1.00 22.34           C  \n",
    "ATOM   1772  CZ  TYR A 220      63.722  23.007  46.470  1.00 23.29           C  \n",
    "ATOM   1773  OH  TYR A 220      64.352  21.876  45.992  1.00 25.71           O\"\"\"\n",
    "```"
   ]
  },
  {
   "cell_type": "markdown",
   "id": "9a1e3879-41dd-4825-8f8a-25a1419c50bc",
   "metadata": {},
   "source": [
    "#### 5. Napisz wyrażenie regularne szukające dat w tekście.\n",
    "\n",
    "Format daty: yyyy-mm-dd\n",
    "\n",
    "```Python\n",
    "txt = \"kot pies 2023-12-04 rybki 2023-12-25 kanarek\"\n",
    "```"
   ]
  },
  {
   "cell_type": "markdown",
   "id": "c05ee142-9f2a-47b8-a2d0-84f3e4475892",
   "metadata": {},
   "source": [
    "#### 6. Napisz wyrażenie regularne rozpoznające wszystkie wyrazy 4 literowe nie zaczynające się od **a** i **g**.\n",
    "\n",
    "```Python\n",
    "txt = \"mars gips rafa alpy glon \"\n",
    "```"
   ]
  },
  {
   "cell_type": "markdown",
   "id": "6e536963-3e1d-477b-b19a-083dc349d613",
   "metadata": {},
   "source": [
    "#### 7. Napisz wyrażenie regularne rozpoznające poprawnie zapisane liczby.\n",
    "\n",
    "```\n",
    "123 - poprawna liczba\n",
    "0123 - niepoprawna liczba\n",
    "3.14 - poprawna liczba\n",
    "3..14 - niepoprawna liczba\n",
    ".12 - poprawna liczba\n",
    "3. - poprawna liczba\n",
    "```"
   ]
  },
  {
   "cell_type": "markdown",
   "id": "be90694c-98b4-4147-a17d-48d1857e98ad",
   "metadata": {},
   "source": [
    "#### 8. Napisz program podstawiający znak **X** w miejscach wystąpienia ciągu **abc**.\n",
    "\n",
    "```Python\n",
    "text = \"gsabctreabc8hjgrabcfgd\"\n",
    "```"
   ]
  },
  {
   "cell_type": "markdown",
   "id": "fc4323be-9680-4c95-8d98-b1c7dabef60b",
   "metadata": {},
   "source": [
    "#### 9. Napisz program wyznaczający liczbę godzin do Sylwestra (od teraz)."
   ]
  },
  {
   "cell_type": "markdown",
   "id": "836fb4ee-ba5a-4cb1-964b-6e444ac6cd76",
   "metadata": {},
   "source": [
    "#### 10. Napisz prosty generator liczb losowych. Generator powinien być inicjalizowany aktualnym czasem (np. liczbą sekund).\n",
    "\n",
    "Wzór generatora: \n",
    "$$x_0=f(czas)$$\n",
    "$$x_{n+1}=4x_n(1-x_n)$$"
   ]
  },
  {
   "cell_type": "markdown",
   "id": "9876af28-99d9-47db-8cba-8d979698a3bb",
   "metadata": {},
   "source": [
    "# **Zadania:**"
   ]
  },
  {
   "cell_type": "markdown",
   "id": "e0909547-be6e-4cd1-a739-0099c3805495",
   "metadata": {},
   "source": [
    "#### Zadanie 1:"
   ]
  },
  {
   "cell_type": "markdown",
   "id": "981b674b-1913-4501-bee7-1de4c877f1f3",
   "metadata": {},
   "source": [
    "Napisz wyrażenie regularne opisujace poniższe ciągi (wyrażenie powinno korzystać z podanego alfabetu):\n",
    "\n",
    "```\n",
    "alfabet = {a, b, c, d, e, f}\n",
    "\n",
    "ciągi:\n",
    "abcddddddff\n",
    "acdeeddedddeff\n",
    "aceedeff\n",
    "abbceeddeeddff\n",
    "abbbbceeeeeeff\n",
    "```\n",
    "\n",
    "Czyli: Zaczynamy od \"a\" później może być dowolna liczba \"b\" następnie jest \"c\", dowolna liczba \"d\" i \"e\" i kończymy na \"ff\""
   ]
  },
  {
   "cell_type": "markdown",
   "id": "263e0d43-d5c1-4dc0-a1ad-7ab3bdac0f0d",
   "metadata": {},
   "source": [
    "#### Zadanie 2:"
   ]
  },
  {
   "cell_type": "markdown",
   "id": "360822f7-a9d6-4f52-bd74-0f053db369c4",
   "metadata": {},
   "source": [
    "Napisz wyrażenie regularne znajdujące numery telefonów w podanym tekście:\n",
    "\n",
    "```Python\n",
    "txt = \"kot 123-435-265 kanarek +48-654-235-542 rybki 321 432 543\"\n",
    "```"
   ]
  },
  {
   "cell_type": "markdown",
   "id": "a50244ee-a0ea-4ba3-b81f-fe0193125c12",
   "metadata": {},
   "source": [
    "#### Zadanie 3:"
   ]
  },
  {
   "cell_type": "markdown",
   "id": "5b8317bb-8cd4-4335-a099-026bc8223821",
   "metadata": {},
   "source": [
    "Napisz funkcję sprawdzącą czy podana data ma poprawny format czy nie (użyj wyrażeń regularnych, nie musisz spradzać czy data ma sens).\n",
    "\n",
    "```\n",
    "Format daty: yyyy-mm-dd\n",
    "\n",
    "\"2023-12-12\" - poprawna data, funkcja powinna zwrócić: True\n",
    "\"23-12-12\" - niepoprawna data, funkcja powinna zwrócić: False\n",
    "```"
   ]
  },
  {
   "cell_type": "markdown",
   "id": "de925c41-ce91-4a0a-906d-08e57684925c",
   "metadata": {},
   "source": [
    "#### Zadanie 4:"
   ]
  },
  {
   "cell_type": "markdown",
   "id": "2ab5e24f-c235-4aac-8bd4-a0030f3e307c",
   "metadata": {},
   "source": [
    "Napisz wyrażenie regularne znajdujące linki w podanym tekście:\n",
    "\n",
    "```Python\n",
    "txt = \"https://pl.wikipedia.org/wiki/Wyra%C5%BCenie_regularne kot pies kanarek https://pl.wikipedia.org/wiki/Gramatyka_regularna rybki\"\n",
    "```"
   ]
  },
  {
   "cell_type": "markdown",
   "id": "8f2133d2-735d-4c45-aea4-60e27b2b092d",
   "metadata": {},
   "source": [
    "#### Zadanie 5:"
   ]
  },
  {
   "cell_type": "markdown",
   "id": "c1a08563-bed6-4f0d-bb41-909cec2b1cef",
   "metadata": {},
   "source": [
    "Napisz program wyznaczający liczbę dni od czasu bitwy pod Grunwaldem do **TERAZ**."
   ]
  },
  {
   "cell_type": "markdown",
   "id": "847ab6b6-3609-42ed-a8a5-322bd94be8ec",
   "metadata": {},
   "source": [
    "#### Zadanie 6*:"
   ]
  },
  {
   "cell_type": "markdown",
   "id": "8fe60037-6933-431d-ae7d-45ce4c5a5fd5",
   "metadata": {},
   "source": [
    "Napisz program znajdujący w tekście daty w formacie mm-dd-yyyy i zamieniający je na daty w formacie dd-mm-yyyy.\n",
    "\n",
    "```Python\n",
    "txt = \"kot 05-23-1985 kanarek 07-21-2011 rybki 12-25-2023 pies\"\n",
    "```"
   ]
  }
 ],
 "metadata": {
  "kernelspec": {
   "display_name": "Python 3 (ipykernel)",
   "language": "python",
   "name": "python3"
  },
  "language_info": {
   "codemirror_mode": {
    "name": "ipython",
    "version": 3
   },
   "file_extension": ".py",
   "mimetype": "text/x-python",
   "name": "python",
   "nbconvert_exporter": "python",
   "pygments_lexer": "ipython3",
   "version": "3.12.0"
  }
 },
 "nbformat": 4,
 "nbformat_minor": 5
}
